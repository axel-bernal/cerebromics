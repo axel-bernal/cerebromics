{
 "cells": [
  {
   "cell_type": "markdown",
   "metadata": {},
   "source": [
    "This notebook runs Select@10 and Match@10. \n",
    "\n",
    "Both of these involve measuring similarity between row pairs between two dataframes. This similarity can be measure in a supervised manner wherein, e.g. a logistic model re-weights distances according to learned importances, or they may be measured in an unsupervised manner, e.g. by an off-the-shelf distance metric.\n",
    "\n",
    "Match performs the additional step of picking node pairs such that these similarities are globally optimized"
   ]
  },
  {
   "cell_type": "code",
   "execution_count": 1,
   "metadata": {
    "collapsed": false
   },
   "outputs": [
    {
     "name": "stderr",
     "output_type": "stream",
     "text": [
      "/Users/cmaher/miniconda/lib/python2.7/site-packages/matplotlib/__init__.py:872: UserWarning: axes.color_cycle is deprecated and replaced with axes.prop_cycle; please use the latter.\n",
      "  warnings.warn(self.msg_depr % (key, alt_key))\n"
     ]
    }
   ],
   "source": [
    "from datastack.ml import bestmatch\n",
    "reload(bestmatch)\n",
    "from datastack.ml import bestmatch as bm\n",
    "from datastack.dbs.rdb import RosettaDBMongo\n",
    "import model_utils as mod\n"
   ]
  },
  {
   "cell_type": "code",
   "execution_count": 2,
   "metadata": {
    "collapsed": false
   },
   "outputs": [],
   "source": [
    "SELECT_N = 10"
   ]
  },
  {
   "cell_type": "code",
   "execution_count": 3,
   "metadata": {
    "collapsed": false
   },
   "outputs": [],
   "source": [
    "db = RosettaDBMongo(host=\"rosetta.hli.io\")\n",
    "db.initialize(namespace=\"hg38_noEBV\")"
   ]
  },
  {
   "cell_type": "code",
   "execution_count": 4,
   "metadata": {
    "collapsed": false
   },
   "outputs": [
    {
     "name": "stdout",
     "output_type": "stream",
     "text": [
      "(997, 5)\n"
     ]
    }
   ],
   "source": [
    "col_key = u'.*2dface.v1.visit1.NNOF128.v2'\n",
    "df = db.query(db.find_keys(col_key, regex=True) + ['ds.index.client_subject_id', 'ds.index.sample_key', 'ds.index.ProjectID'], with_nans=False)\n",
    "print df.shape"
   ]
  },
  {
   "cell_type": "code",
   "execution_count": 5,
   "metadata": {
    "collapsed": false
   },
   "outputs": [
    {
     "data": {
      "text/html": [
       "<div>\n",
       "<table border=\"1\" class=\"dataframe\">\n",
       "  <thead>\n",
       "    <tr style=\"text-align: right;\">\n",
       "      <th></th>\n",
       "      <th>ds.index.ProjectID</th>\n",
       "      <th>ds.index.client_subject_id</th>\n",
       "      <th>ds.index.sample_key</th>\n",
       "      <th>dynamic.FACE_P.2dface.v1.visit1.NNOF128.v2</th>\n",
       "      <th>dynamic.FACE.2dface.v1.visit1.NNOF128.v2</th>\n",
       "    </tr>\n",
       "  </thead>\n",
       "  <tbody>\n",
       "    <tr>\n",
       "      <th>564d2159c37a455a0ca36187</th>\n",
       "      <td>FACE</td>\n",
       "      <td>15-0051</td>\n",
       "      <td>77403_187522789</td>\n",
       "      <td>[0.037772425712073295, 0.011718937192791101, 0...</td>\n",
       "      <td>[-0.03861616179347, 0.036061447113752, -0.0234...</td>\n",
       "    </tr>\n",
       "    <tr>\n",
       "      <th>564d2159c37a455a0ca36016</th>\n",
       "      <td>FACE</td>\n",
       "      <td>15-0107</td>\n",
       "      <td>77788_187522765</td>\n",
       "      <td>[0.03844781293134461, 0.017844150095531974, 0....</td>\n",
       "      <td>[0.030196761712432, 0.083207756280899, -0.0036...</td>\n",
       "    </tr>\n",
       "    <tr>\n",
       "      <th>564d2159c37a455a0ca36056</th>\n",
       "      <td>FACE</td>\n",
       "      <td>15-0179</td>\n",
       "      <td>81825_187522726</td>\n",
       "      <td>[0.034422556122900613, 0.015137199318548143, 0...</td>\n",
       "      <td>[0.139982894063, 0.1503836363554, 0.0131916161...</td>\n",
       "    </tr>\n",
       "    <tr>\n",
       "      <th>564d2159c37a455a0ca35de4</th>\n",
       "      <td>FACE</td>\n",
       "      <td>15-1072</td>\n",
       "      <td>89030_176530919</td>\n",
       "      <td>[0.019610622707623135, 0.024768844623360708, -...</td>\n",
       "      <td>[0.084498710930347, 0.01313541457057, -0.03572...</td>\n",
       "    </tr>\n",
       "    <tr>\n",
       "      <th>564d2159c37a455a0ca360c9</th>\n",
       "      <td>FACE</td>\n",
       "      <td>15-0156</td>\n",
       "      <td>78206_187522257</td>\n",
       "      <td>[-0.0066136576455728645, -0.008273379388993838...</td>\n",
       "      <td>[0.10006500780582, 0.076437957584858, 0.069531...</td>\n",
       "    </tr>\n",
       "  </tbody>\n",
       "</table>\n",
       "</div>"
      ],
      "text/plain": [
       "                         ds.index.ProjectID ds.index.client_subject_id  \\\n",
       "564d2159c37a455a0ca36187               FACE                    15-0051   \n",
       "564d2159c37a455a0ca36016               FACE                    15-0107   \n",
       "564d2159c37a455a0ca36056               FACE                    15-0179   \n",
       "564d2159c37a455a0ca35de4               FACE                    15-1072   \n",
       "564d2159c37a455a0ca360c9               FACE                    15-0156   \n",
       "\n",
       "                         ds.index.sample_key  \\\n",
       "564d2159c37a455a0ca36187     77403_187522789   \n",
       "564d2159c37a455a0ca36016     77788_187522765   \n",
       "564d2159c37a455a0ca36056     81825_187522726   \n",
       "564d2159c37a455a0ca35de4     89030_176530919   \n",
       "564d2159c37a455a0ca360c9     78206_187522257   \n",
       "\n",
       "                                 dynamic.FACE_P.2dface.v1.visit1.NNOF128.v2  \\\n",
       "564d2159c37a455a0ca36187  [0.037772425712073295, 0.011718937192791101, 0...   \n",
       "564d2159c37a455a0ca36016  [0.03844781293134461, 0.017844150095531974, 0....   \n",
       "564d2159c37a455a0ca36056  [0.034422556122900613, 0.015137199318548143, 0...   \n",
       "564d2159c37a455a0ca35de4  [0.019610622707623135, 0.024768844623360708, -...   \n",
       "564d2159c37a455a0ca360c9  [-0.0066136576455728645, -0.008273379388993838...   \n",
       "\n",
       "                                   dynamic.FACE.2dface.v1.visit1.NNOF128.v2  \n",
       "564d2159c37a455a0ca36187  [-0.03861616179347, 0.036061447113752, -0.0234...  \n",
       "564d2159c37a455a0ca36016  [0.030196761712432, 0.083207756280899, -0.0036...  \n",
       "564d2159c37a455a0ca36056  [0.139982894063, 0.1503836363554, 0.0131916161...  \n",
       "564d2159c37a455a0ca35de4  [0.084498710930347, 0.01313541457057, -0.03572...  \n",
       "564d2159c37a455a0ca360c9  [0.10006500780582, 0.076437957584858, 0.069531...  "
      ]
     },
     "execution_count": 5,
     "metadata": {},
     "output_type": "execute_result"
    }
   ],
   "source": [
    "df.head()\n",
    "#print \"{}\".format(df['dynamic.FACE_P.2dface.v1.visit1.NNOF128.v2'])"
   ]
  },
  {
   "cell_type": "code",
   "execution_count": 6,
   "metadata": {
    "collapsed": false
   },
   "outputs": [
    {
     "name": "stdout",
     "output_type": "stream",
     "text": [
      "dynamic.FACE_P.2dface.v1.visit1.NNOF128.v2\n",
      "dynamic.FACE.2dface.v1.visit1.NNOF128.v2\n",
      "Found 2 packed columns\n"
     ]
    }
   ],
   "source": [
    "packed_df = mod.PackedFrame(df)\n",
    "df_unpacked = packed_df.unpack()"
   ]
  },
  {
   "cell_type": "code",
   "execution_count": 12,
   "metadata": {
    "collapsed": true
   },
   "outputs": [],
   "source": [
    "pred_cols = [xx for xx in df_unpacked.columns if \"FACE_P\" in xx]\n",
    "obs_cols = [xx.replace(\"FACE_P\", \"FACE\") for xx in pred_cols]"
   ]
  },
  {
   "cell_type": "code",
   "execution_count": 14,
   "metadata": {
    "collapsed": true
   },
   "outputs": [],
   "source": [
    "# You can specify a number of models here\n",
    "model = bm.WeightedNearestNeighbor()\n",
    "\n",
    "# DistSelect accepts all metrics recognized by scipy.spatial.distance\n",
    "# http://docs.scipy.org/doc/scipy/reference/spatial.distance.html\n",
    "# You can also pass in a user-defined distance function\n",
    "# model = bm.DistSelect(metric='cosine')"
   ]
  },
  {
   "cell_type": "code",
   "execution_count": 15,
   "metadata": {
    "collapsed": false
   },
   "outputs": [
    {
     "name": "stdout",
     "output_type": "stream",
     "text": [
      "Done fetching lineups\n"
     ]
    }
   ],
   "source": [
    "eval_sel = bm.EvalSelect(df_unpacked, model,\n",
    "                         to_cols=obs_cols,\n",
    "                         from_cols=pred_cols,\n",
    "                         n_lineups=100,\n",
    "                         select_n=SELECT_N\n",
    "                        )"
   ]
  },
  {
   "cell_type": "code",
   "execution_count": 17,
   "metadata": {
    "collapsed": false
   },
   "outputs": [
    {
     "name": "stdout",
     "output_type": "stream",
     "text": [
      "(828, 128) (828, 128) (100000, 128)\n"
     ]
    },
    {
     "data": {
      "text/plain": [
       "match            0.422\n",
       "select           0.383\n",
       "select_unique    0.395\n",
       "match_query      0.420\n",
       "select_query     0.420\n",
       "dtype: float64"
      ]
     },
     "execution_count": 17,
     "metadata": {},
     "output_type": "execute_result"
    }
   ],
   "source": [
    "eval_sel.fit()\n",
    "eval_sel.predict()"
   ]
  },
  {
   "cell_type": "code",
   "execution_count": null,
   "metadata": {
    "collapsed": true
   },
   "outputs": [],
   "source": []
  }
 ],
 "metadata": {
  "kernelspec": {
   "display_name": "Python 2",
   "language": "python",
   "name": "python2"
  },
  "language_info": {
   "codemirror_mode": {
    "name": "ipython",
    "version": 2
   },
   "file_extension": ".py",
   "mimetype": "text/x-python",
   "name": "python",
   "nbconvert_exporter": "python",
   "pygments_lexer": "ipython2",
   "version": "2.7.11"
  }
 },
 "nbformat": 4,
 "nbformat_minor": 0
}
