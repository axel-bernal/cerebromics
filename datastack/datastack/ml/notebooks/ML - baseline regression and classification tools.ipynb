{
 "cells": [
  {
   "cell_type": "markdown",
   "metadata": {},
   "source": [
    "# Base regression tests\n",
    "The object of our base regression tools is to provide an easy way to train and test models, automatically including standard covariates and properly handling cross validation issues. In many cases you can set up a regression test with just a few lines of code.\n",
    "\n",
    "There are four main items of documentation for the base regression tools:\n",
    "\n",
    "1. This tutorial notebook works through a series of examples of how these tools work, from a simple three line example to more complex configurations.\n",
    "2. There is a [notebook](http://10.6.39.8:8888/notebooks/Users/Peter/Sample2.ipynb) which uses these tools to generate our production eye color models.\n",
    "3. There is [online API documentation.](http://jarvis.hli.io/~pgarst/datastack/datastack/)\n",
    "4. There is an [options notebook](http://10.6.39.8:8888/notebooks/MLOptions.ipynb) which provides a brief summary of the principle methods and options as a quick reference for those already familiar with the basic ideas.\n",
    "\n",
    "This notebook exercises the BaseRegress class and shows how to do standard regressions in a few lines of code. We can explain a lot if we know age, gender and ethnicity, so the baseline tests always use that information.\n",
    "\n",
    "We will show the following things:\n",
    "\n",
    "1. [Find the standard baseline regressions](#sec1) for a phenotype value in Rosetta in a few lines of code.\n",
    "2. If you have [multiple regression targets](#sec2), like right and left hand strength, find regressions for all of them and put the results in a single table.\n",
    "3. Define as many [different sets of covariates](#sec3) as you like and run them all. We'll define size and eye color covariate sets, each containing a number of values from Rosetta, and see how well they predict hand strength.\n",
    "4. There are a number of [display options](#sec3a) which help you show the data as you like it.\n",
    "5. You can try [different estimators](#sec4) on a covariate set, for example lasso as well as ridge, or provide your own.\n",
    "6. You can [add more error metrics](#sec5) to the standard list. For example, in a classification task you might want to add a \"top two\" accuracy value as another column.\n",
    "7. [Provide more data](#sec6) in one or more data frames. This is useful for genomic data, and for features which you have processed and computed.\n",
    "8. [Classification](#sec7) is very much like regression, but with different error metrics and default estimators.\n",
    "9. You can [modify baseline covariates](#sec8) for age, gender and so on if you want.\n",
    "10. There is a lot of [other information](#sec9) available from these tests, and we explore some of it.\n",
    "11. The library also supplies a [shuffle test](#sec10) which allows you to collect statistics on estimator error rates. For example, you can use this to get a training curve, showing how error rates change as the size of the training set changes."
   ]
  },
  {
   "cell_type": "code",
   "execution_count": 1,
   "metadata": {
    "collapsed": true
   },
   "outputs": [],
   "source": [
    "import datastack.dbs.rdb\n",
    "import datastack.ml.baselines as baselines\n",
    "import datastack.ml.baseregress as baseregress\n",
    "import datastack.ml.baseclassify as baseclassify\n",
    "import datastack.ml.cross_validation as cross_validation\n",
    "import datastack.utilities.gui as gui\n",
    "import matplotlib.pyplot as plt\n",
    "import numpy as np\n",
    "from sklearn import linear_model\n",
    "import sklearn.metrics as metrics\n",
    "\n",
    "%matplotlib inline"
   ]
  },
  {
   "cell_type": "markdown",
   "metadata": {},
   "source": [
    "## 1. <a id='sec1'></a>Get standard regression results for a measurement in Rosetta\n",
    "The first task: given a feature in Rosetta, for example right hand strength, regress it against the standard baseline covariates."
   ]
  },
  {
   "cell_type": "code",
   "execution_count": 2,
   "metadata": {
    "collapsed": false
   },
   "outputs": [
    {
     "data": {
      "text/html": [
       "<h2>Regress facepheno.hand.strength.right.m1 (837 training samples)</h2>"
      ],
      "text/plain": [
       "<IPython.core.display.HTML object>"
      ]
     },
     "metadata": {},
     "output_type": "display_data"
    },
    {
     "data": {
      "text/html": [
       "<style>.dataframe td { text-align: right; }</style><script>var tableToExcel = (function() {\n",
       "  var uri = 'data:application/vnd.ms-excel;base64,'\n",
       "    , template = '<html xmlns:o=\"urn:schemas-microsoft-com:office:office\" xmlns:x=\"urn:schemas-microsoft-com:office:excel\" xmlns=\"http://www.w3.org/TR/REC-html40\"><head><!--[if gte mso 9]><xml><x:ExcelWorkbook><x:ExcelWorksheets><x:ExcelWorksheet><x:Name>{worksheet}</x:Name><x:WorksheetOptions><x:DisplayGridlines/></x:WorksheetOptions></x:ExcelWorksheet></x:ExcelWorksheets></x:ExcelWorkbook></xml><![endif]--></head><body><table>{table}</table></body></html>'\n",
       "    , base64 = function(s) { return window.btoa(unescape(encodeURIComponent(s))) }\n",
       "    , format = function(s, c) { return s.replace(/{(\\w+)}/g, function(m, p) { return c[p]; }) }\n",
       "  return function(table, name) {\n",
       "    if (!table.nodeType) table = document.getElementById(table)\n",
       "    var ctx = {worksheet: name || 'Worksheet', table: table.innerHTML}\n",
       "    window.location.href = uri + base64(format(template, ctx))\n",
       "  }\n",
       "})()</script>\n",
       "<input type=\"button\" onclick=\"tableToExcel('43070', '<h2>Regress facepheno.hand.strength.right.m1 (837 training samples)</h2>')\" value=\"Export to Excel\">\n",
       "<table id=\"43070\" border=\"1\" class=\"dataframe\">\n",
       "  <thead>\n",
       "    <tr style=\"text-align: right;\">\n",
       "      <th>Model</th>\n",
       "      <th>Covariates</th>\n",
       "      <th>R2</th>\n",
       "      <th>MAE</th>\n",
       "      <th>MSE</th>\n",
       "      <th>Samples</th>\n",
       "      <th>MAE-signif</th>\n",
       "      <th>MSE-signif</th>\n",
       "    </tr>\n",
       "  </thead>\n",
       "  <tbody>\n",
       "    <tr>\n",
       "      <td>Mean</td>\n",
       "      <td></td>\n",
       "      <td>0.000</td>\n",
       "      <td>8.791</td>\n",
       "      <td>122.127</td>\n",
       "      <td>837.000</td>\n",
       "      <td></td>\n",
       "      <td></td>\n",
       "    </tr>\n",
       "    <tr>\n",
       "      <td>Median</td>\n",
       "      <td></td>\n",
       "      <td>-0.026</td>\n",
       "      <td>8.658</td>\n",
       "      <td>125.268</td>\n",
       "      <td>837.000</td>\n",
       "      <td></td>\n",
       "      <td></td>\n",
       "    </tr>\n",
       "    <tr>\n",
       "      <td>Ridge</td>\n",
       "      <td>Age</td>\n",
       "      <td>0.038</td>\n",
       "      <td>8.604</td>\n",
       "      <td>117.538</td>\n",
       "      <td>837.000</td>\n",
       "      <td></td>\n",
       "      <td>*</td>\n",
       "    </tr>\n",
       "    <tr>\n",
       "      <td>Ridge</td>\n",
       "      <td>Gender</td>\n",
       "      <td>0.427</td>\n",
       "      <td>6.479</td>\n",
       "      <td>69.981</td>\n",
       "      <td>837.000</td>\n",
       "      <td>**</td>\n",
       "      <td>**</td>\n",
       "    </tr>\n",
       "    <tr>\n",
       "      <td>Ridge</td>\n",
       "      <td>Ethnicity</td>\n",
       "      <td>0.019</td>\n",
       "      <td>8.649</td>\n",
       "      <td>119.755</td>\n",
       "      <td>837.000</td>\n",
       "      <td></td>\n",
       "      <td></td>\n",
       "    </tr>\n",
       "    <tr>\n",
       "      <td>Ridge</td>\n",
       "      <td>AGE</td>\n",
       "      <td><b>0.443</b></td>\n",
       "      <td><b>6.355</b></td>\n",
       "      <td><b>67.997</b></td>\n",
       "      <td>837.000</td>\n",
       "      <td>*</td>\n",
       "      <td>*</td>\n",
       "    </tr>\n",
       "  </tbody>\n",
       "</table>"
      ],
      "text/plain": [
       "<IPython.core.display.HTML object>"
      ]
     },
     "metadata": {},
     "output_type": "display_data"
    }
   ],
   "source": [
    "base = baseregress.BaseRegress('facepheno.hand.strength.right.m1')\n",
    "base.run()\n",
    "base.display()"
   ]
  },
  {
   "cell_type": "markdown",
   "metadata": {},
   "source": [
    "The baseline material includes just using the mean and median, and regressing the value against age, gender and ethnicity. The last line is an acronym for Age, Gender and Ethnicity - get it?\n",
    "\n",
    "As we'll see, you could also pass in a dataframe with the information if the target of the regression is not available in Rosetta already.\n",
    "\n",
    "You can get the exact specification for what these covariates are:"
   ]
  },
  {
   "cell_type": "code",
   "execution_count": 3,
   "metadata": {
    "collapsed": false
   },
   "outputs": [
    {
     "data": {
      "text/plain": [
       "['dynamic.FACE_P.gender.v1.value']"
      ]
     },
     "execution_count": 3,
     "metadata": {},
     "output_type": "execute_result"
    }
   ],
   "source": [
    "base.covariates['Gender']"
   ]
  },
  {
   "cell_type": "markdown",
   "metadata": {},
   "source": [
    "## 2. <a id='sec2'></a>Get results for multiple targets\n",
    "We often want to regress several variables. In this section we model left and right hand strength separately, but still use the same covariates and put the results in the same table.\n",
    "\n",
    "The targets can be the name of one value, as in the last section, or a list of names, or, as in this case, a dictionary which gives shorter and often more meaningful names for the targets."
   ]
  },
  {
   "cell_type": "code",
   "execution_count": 4,
   "metadata": {
    "collapsed": true
   },
   "outputs": [],
   "source": [
    "targets = {'right':'facepheno.hand.strength.right.m1', 'left':'facepheno.hand.strength.left.m1'}"
   ]
  },
  {
   "cell_type": "code",
   "execution_count": 5,
   "metadata": {
    "collapsed": false
   },
   "outputs": [
    {
     "data": {
      "text/html": [
       "<h2>Regress right left (837 training samples)</h2>"
      ],
      "text/plain": [
       "<IPython.core.display.HTML object>"
      ]
     },
     "metadata": {},
     "output_type": "display_data"
    },
    {
     "data": {
      "text/html": [
       "<style>.dataframe td { text-align: right; }</style><script>var tableToExcel = (function() {\n",
       "  var uri = 'data:application/vnd.ms-excel;base64,'\n",
       "    , template = '<html xmlns:o=\"urn:schemas-microsoft-com:office:office\" xmlns:x=\"urn:schemas-microsoft-com:office:excel\" xmlns=\"http://www.w3.org/TR/REC-html40\"><head><!--[if gte mso 9]><xml><x:ExcelWorkbook><x:ExcelWorksheets><x:ExcelWorksheet><x:Name>{worksheet}</x:Name><x:WorksheetOptions><x:DisplayGridlines/></x:WorksheetOptions></x:ExcelWorksheet></x:ExcelWorksheets></x:ExcelWorkbook></xml><![endif]--></head><body><table>{table}</table></body></html>'\n",
       "    , base64 = function(s) { return window.btoa(unescape(encodeURIComponent(s))) }\n",
       "    , format = function(s, c) { return s.replace(/{(\\w+)}/g, function(m, p) { return c[p]; }) }\n",
       "  return function(table, name) {\n",
       "    if (!table.nodeType) table = document.getElementById(table)\n",
       "    var ctx = {worksheet: name || 'Worksheet', table: table.innerHTML}\n",
       "    window.location.href = uri + base64(format(template, ctx))\n",
       "  }\n",
       "})()</script>\n",
       "<input type=\"button\" onclick=\"tableToExcel('63951', '<h2>Regress right left (837 training samples)</h2>')\" value=\"Export to Excel\">\n",
       "<table id=\"63951\" border=\"1\" class=\"dataframe\">\n",
       "  <thead>\n",
       "    <tr style=\"text-align: right;\">\n",
       "      <th>Model</th>\n",
       "      <th>Covariates</th>\n",
       "      <th>right: R2</th>\n",
       "      <th>right: MAE</th>\n",
       "      <th>right: MSE</th>\n",
       "      <th>left: R2</th>\n",
       "      <th>left: MAE</th>\n",
       "      <th>left: MSE</th>\n",
       "      <th>Samples</th>\n",
       "    </tr>\n",
       "  </thead>\n",
       "  <tbody>\n",
       "    <tr>\n",
       "      <td>Mean</td>\n",
       "      <td></td>\n",
       "      <td>0.000</td>\n",
       "      <td>8.791</td>\n",
       "      <td>122.127</td>\n",
       "      <td>0.000</td>\n",
       "      <td>9.091</td>\n",
       "      <td>131.068</td>\n",
       "      <td>837.000</td>\n",
       "    </tr>\n",
       "    <tr>\n",
       "      <td>Median</td>\n",
       "      <td></td>\n",
       "      <td>-0.026</td>\n",
       "      <td>8.658</td>\n",
       "      <td>125.268</td>\n",
       "      <td>-0.048</td>\n",
       "      <td>8.943</td>\n",
       "      <td>137.333</td>\n",
       "      <td>837.000</td>\n",
       "    </tr>\n",
       "    <tr>\n",
       "      <td>Ridge</td>\n",
       "      <td>Age</td>\n",
       "      <td>0.038</td>\n",
       "      <td>8.604</td>\n",
       "      <td>117.538</td>\n",
       "      <td>0.031</td>\n",
       "      <td>8.874</td>\n",
       "      <td>127.037</td>\n",
       "      <td>837.000</td>\n",
       "    </tr>\n",
       "    <tr>\n",
       "      <td>Ridge</td>\n",
       "      <td>Gender</td>\n",
       "      <td>0.427</td>\n",
       "      <td>6.479</td>\n",
       "      <td>69.981</td>\n",
       "      <td>0.438</td>\n",
       "      <td>6.621</td>\n",
       "      <td>73.611</td>\n",
       "      <td>837.000</td>\n",
       "    </tr>\n",
       "    <tr>\n",
       "      <td>Ridge</td>\n",
       "      <td>Ethnicity</td>\n",
       "      <td>0.019</td>\n",
       "      <td>8.649</td>\n",
       "      <td>119.755</td>\n",
       "      <td>0.004</td>\n",
       "      <td>9.029</td>\n",
       "      <td>130.529</td>\n",
       "      <td>837.000</td>\n",
       "    </tr>\n",
       "    <tr>\n",
       "      <td>Ridge</td>\n",
       "      <td>AGE</td>\n",
       "      <td><b>0.443</b></td>\n",
       "      <td><b>6.355</b></td>\n",
       "      <td><b>67.997</b></td>\n",
       "      <td><b>0.448</b></td>\n",
       "      <td><b>6.545</b></td>\n",
       "      <td><b>72.320</b></td>\n",
       "      <td>837.000</td>\n",
       "    </tr>\n",
       "  </tbody>\n",
       "</table>"
      ],
      "text/plain": [
       "<IPython.core.display.HTML object>"
      ]
     },
     "metadata": {},
     "output_type": "display_data"
    }
   ],
   "source": [
    "base2 = baseregress.BaseRegress(targets)\n",
    "base2.run()\n",
    "base2.display()"
   ]
  },
  {
   "cell_type": "markdown",
   "metadata": {},
   "source": [
    "As you see, we get one set of columns for the right hand feature and one set for the left. "
   ]
  },
  {
   "cell_type": "markdown",
   "metadata": {},
   "source": [
    "## 3. <a id='sec3'></a>Test our own features on these targets\n",
    "The covariates field is a dictionary. You can add as many covariate lists as you want. In this example we define one set of covariates representing the size of the subject - height and bmi - and one representing eye color. Which do you think will better predict hand strength?"
   ]
  },
  {
   "cell_type": "code",
   "execution_count": 6,
   "metadata": {
    "collapsed": true
   },
   "outputs": [],
   "source": [
    "size = ['facepheno.height', 'dynamic.FACE.pheno.v1.bmi']\n",
    "eyecolor = ['dynamic.FACE.eyecolor.v1_visit1.*']"
   ]
  },
  {
   "cell_type": "code",
   "execution_count": 7,
   "metadata": {
    "collapsed": false
   },
   "outputs": [
    {
     "data": {
      "text/html": [
       "<h2>Regress right left (787 training samples)</h2>"
      ],
      "text/plain": [
       "<IPython.core.display.HTML object>"
      ]
     },
     "metadata": {},
     "output_type": "display_data"
    },
    {
     "data": {
      "text/html": [
       "<style>.dataframe td { text-align: right; }</style><script>var tableToExcel = (function() {\n",
       "  var uri = 'data:application/vnd.ms-excel;base64,'\n",
       "    , template = '<html xmlns:o=\"urn:schemas-microsoft-com:office:office\" xmlns:x=\"urn:schemas-microsoft-com:office:excel\" xmlns=\"http://www.w3.org/TR/REC-html40\"><head><!--[if gte mso 9]><xml><x:ExcelWorkbook><x:ExcelWorksheets><x:ExcelWorksheet><x:Name>{worksheet}</x:Name><x:WorksheetOptions><x:DisplayGridlines/></x:WorksheetOptions></x:ExcelWorksheet></x:ExcelWorksheets></x:ExcelWorkbook></xml><![endif]--></head><body><table>{table}</table></body></html>'\n",
       "    , base64 = function(s) { return window.btoa(unescape(encodeURIComponent(s))) }\n",
       "    , format = function(s, c) { return s.replace(/{(\\w+)}/g, function(m, p) { return c[p]; }) }\n",
       "  return function(table, name) {\n",
       "    if (!table.nodeType) table = document.getElementById(table)\n",
       "    var ctx = {worksheet: name || 'Worksheet', table: table.innerHTML}\n",
       "    window.location.href = uri + base64(format(template, ctx))\n",
       "  }\n",
       "})()</script>\n",
       "<input type=\"button\" onclick=\"tableToExcel('49151', '<h2>Regress right left (787 training samples)</h2>')\" value=\"Export to Excel\">\n",
       "<table id=\"49151\" border=\"1\" class=\"dataframe\">\n",
       "  <thead>\n",
       "    <tr style=\"text-align: right;\">\n",
       "      <th>Model</th>\n",
       "      <th>Covariates</th>\n",
       "      <th>right: R2</th>\n",
       "      <th>right: MAE</th>\n",
       "      <th>right: MSE</th>\n",
       "      <th>left: R2</th>\n",
       "      <th>left: MAE</th>\n",
       "      <th>left: MSE</th>\n",
       "      <th>Samples</th>\n",
       "    </tr>\n",
       "  </thead>\n",
       "  <tbody>\n",
       "    <tr>\n",
       "      <td>Mean</td>\n",
       "      <td></td>\n",
       "      <td>0.000</td>\n",
       "      <td>8.797</td>\n",
       "      <td>122.121</td>\n",
       "      <td>0.000</td>\n",
       "      <td>9.095</td>\n",
       "      <td>130.153</td>\n",
       "      <td>787.000</td>\n",
       "    </tr>\n",
       "    <tr>\n",
       "      <td>Median</td>\n",
       "      <td></td>\n",
       "      <td>-0.026</td>\n",
       "      <td>8.660</td>\n",
       "      <td>125.324</td>\n",
       "      <td>-0.056</td>\n",
       "      <td>8.930</td>\n",
       "      <td>137.436</td>\n",
       "      <td>787.000</td>\n",
       "    </tr>\n",
       "    <tr>\n",
       "      <td>Ridge</td>\n",
       "      <td>Age</td>\n",
       "      <td>0.038</td>\n",
       "      <td>8.594</td>\n",
       "      <td>117.509</td>\n",
       "      <td>0.028</td>\n",
       "      <td>8.864</td>\n",
       "      <td>126.496</td>\n",
       "      <td>787.000</td>\n",
       "    </tr>\n",
       "    <tr>\n",
       "      <td>Ridge</td>\n",
       "      <td>Gender</td>\n",
       "      <td>0.424</td>\n",
       "      <td>6.473</td>\n",
       "      <td>70.352</td>\n",
       "      <td>0.437</td>\n",
       "      <td>6.579</td>\n",
       "      <td>73.251</td>\n",
       "      <td>787.000</td>\n",
       "    </tr>\n",
       "    <tr>\n",
       "      <td>Ridge</td>\n",
       "      <td>Ethnicity</td>\n",
       "      <td>0.021</td>\n",
       "      <td>8.645</td>\n",
       "      <td>119.539</td>\n",
       "      <td>0.007</td>\n",
       "      <td>9.010</td>\n",
       "      <td>129.305</td>\n",
       "      <td>787.000</td>\n",
       "    </tr>\n",
       "    <tr>\n",
       "      <td>Ridge</td>\n",
       "      <td>AGE</td>\n",
       "      <td>0.440</td>\n",
       "      <td>6.357</td>\n",
       "      <td>68.430</td>\n",
       "      <td>0.448</td>\n",
       "      <td>6.485</td>\n",
       "      <td>71.799</td>\n",
       "      <td>787.000</td>\n",
       "    </tr>\n",
       "    <tr>\n",
       "      <td>Ridge</td>\n",
       "      <td>AGE + eyecolor</td>\n",
       "      <td>0.436</td>\n",
       "      <td>6.375</td>\n",
       "      <td>68.839</td>\n",
       "      <td>0.446</td>\n",
       "      <td>6.496</td>\n",
       "      <td>72.055</td>\n",
       "      <td>787.000</td>\n",
       "    </tr>\n",
       "    <tr>\n",
       "      <td>Ridge</td>\n",
       "      <td>AGE + size</td>\n",
       "      <td><b>0.512</b></td>\n",
       "      <td><b>5.921</b></td>\n",
       "      <td><b>59.593</b></td>\n",
       "      <td><b>0.499</b></td>\n",
       "      <td><b>6.196</b></td>\n",
       "      <td><b>65.258</b></td>\n",
       "      <td>787.000</td>\n",
       "    </tr>\n",
       "    <tr>\n",
       "      <td>Ridge</td>\n",
       "      <td>eyecolor</td>\n",
       "      <td>0.014</td>\n",
       "      <td>8.661</td>\n",
       "      <td>120.378</td>\n",
       "      <td>0.004</td>\n",
       "      <td>9.060</td>\n",
       "      <td>129.687</td>\n",
       "      <td>787.000</td>\n",
       "    </tr>\n",
       "    <tr>\n",
       "      <td>Ridge</td>\n",
       "      <td>size</td>\n",
       "      <td>0.400</td>\n",
       "      <td>6.616</td>\n",
       "      <td>73.274</td>\n",
       "      <td>0.349</td>\n",
       "      <td>7.118</td>\n",
       "      <td>84.715</td>\n",
       "      <td>787.000</td>\n",
       "    </tr>\n",
       "  </tbody>\n",
       "</table>"
      ],
      "text/plain": [
       "<IPython.core.display.HTML object>"
      ]
     },
     "metadata": {},
     "output_type": "display_data"
    }
   ],
   "source": [
    "base2 = baseregress.BaseRegress(targets)\n",
    "base2.covariates['size'] = size\n",
    "base2.covariates['eyecolor'] = eyecolor\n",
    "base2.run()\n",
    "base2.display()"
   ]
  },
  {
   "cell_type": "markdown",
   "metadata": {},
   "source": [
    "You won't be surprised to see that size is a decent predictor of hand strength (although not quite as good as gender), but eye color is unrelated.\n",
    "\n",
    "Note that we used a regular expression to specify the eye color covariates."
   ]
  },
  {
   "cell_type": "markdown",
   "metadata": {},
   "source": [
    "## 4. <a id='sec3a'></a>Display options"
   ]
  },
  {
   "cell_type": "markdown",
   "metadata": {},
   "source": [
    "There are a number of optional parameters to the display method which allow you to customize the output.\n",
    "\n",
    "The number of digits of precision is configurable. You can pass a formatting dictionary to the display routine which gives the number of digits of precision for columns which contain the specified substring. We'll probably generalize this in the future.\n",
    "\n",
    "### Specify precision for columns\n",
    "For example, we can get more precision for all the MAE columns:"
   ]
  },
  {
   "cell_type": "code",
   "execution_count": 8,
   "metadata": {
    "collapsed": false
   },
   "outputs": [
    {
     "data": {
      "text/html": [
       "<h2>Regress right left (787 training samples)</h2>"
      ],
      "text/plain": [
       "<IPython.core.display.HTML object>"
      ]
     },
     "metadata": {},
     "output_type": "display_data"
    },
    {
     "data": {
      "text/html": [
       "<style>.dataframe td { text-align: right; }</style><script>var tableToExcel = (function() {\n",
       "  var uri = 'data:application/vnd.ms-excel;base64,'\n",
       "    , template = '<html xmlns:o=\"urn:schemas-microsoft-com:office:office\" xmlns:x=\"urn:schemas-microsoft-com:office:excel\" xmlns=\"http://www.w3.org/TR/REC-html40\"><head><!--[if gte mso 9]><xml><x:ExcelWorkbook><x:ExcelWorksheets><x:ExcelWorksheet><x:Name>{worksheet}</x:Name><x:WorksheetOptions><x:DisplayGridlines/></x:WorksheetOptions></x:ExcelWorksheet></x:ExcelWorksheets></x:ExcelWorkbook></xml><![endif]--></head><body><table>{table}</table></body></html>'\n",
       "    , base64 = function(s) { return window.btoa(unescape(encodeURIComponent(s))) }\n",
       "    , format = function(s, c) { return s.replace(/{(\\w+)}/g, function(m, p) { return c[p]; }) }\n",
       "  return function(table, name) {\n",
       "    if (!table.nodeType) table = document.getElementById(table)\n",
       "    var ctx = {worksheet: name || 'Worksheet', table: table.innerHTML}\n",
       "    window.location.href = uri + base64(format(template, ctx))\n",
       "  }\n",
       "})()</script>\n",
       "<input type=\"button\" onclick=\"tableToExcel('13994', '<h2>Regress right left (787 training samples)</h2>')\" value=\"Export to Excel\">\n",
       "<table id=\"13994\" border=\"1\" class=\"dataframe\">\n",
       "  <thead>\n",
       "    <tr style=\"text-align: right;\">\n",
       "      <th>Model</th>\n",
       "      <th>Covariates</th>\n",
       "      <th>right: R2</th>\n",
       "      <th>right: MAE</th>\n",
       "      <th>right: MSE</th>\n",
       "      <th>left: R2</th>\n",
       "      <th>left: MAE</th>\n",
       "      <th>left: MSE</th>\n",
       "      <th>Samples</th>\n",
       "    </tr>\n",
       "  </thead>\n",
       "  <tbody>\n",
       "    <tr>\n",
       "      <td>Mean</td>\n",
       "      <td></td>\n",
       "      <td>0.000</td>\n",
       "      <td>8.79697</td>\n",
       "      <td>122.121</td>\n",
       "      <td>0.000</td>\n",
       "      <td>9.09500</td>\n",
       "      <td>130.153</td>\n",
       "      <td>787.000</td>\n",
       "    </tr>\n",
       "    <tr>\n",
       "      <td>Median</td>\n",
       "      <td></td>\n",
       "      <td>-0.026</td>\n",
       "      <td>8.66010</td>\n",
       "      <td>125.324</td>\n",
       "      <td>-0.056</td>\n",
       "      <td>8.93011</td>\n",
       "      <td>137.436</td>\n",
       "      <td>787.000</td>\n",
       "    </tr>\n",
       "    <tr>\n",
       "      <td>Ridge</td>\n",
       "      <td>Age</td>\n",
       "      <td>0.038</td>\n",
       "      <td>8.59394</td>\n",
       "      <td>117.509</td>\n",
       "      <td>0.028</td>\n",
       "      <td>8.86403</td>\n",
       "      <td>126.496</td>\n",
       "      <td>787.000</td>\n",
       "    </tr>\n",
       "    <tr>\n",
       "      <td>Ridge</td>\n",
       "      <td>Gender</td>\n",
       "      <td>0.424</td>\n",
       "      <td>6.47277</td>\n",
       "      <td>70.352</td>\n",
       "      <td>0.437</td>\n",
       "      <td>6.57856</td>\n",
       "      <td>73.251</td>\n",
       "      <td>787.000</td>\n",
       "    </tr>\n",
       "    <tr>\n",
       "      <td>Ridge</td>\n",
       "      <td>Ethnicity</td>\n",
       "      <td>0.021</td>\n",
       "      <td>8.64536</td>\n",
       "      <td>119.539</td>\n",
       "      <td>0.007</td>\n",
       "      <td>9.00951</td>\n",
       "      <td>129.305</td>\n",
       "      <td>787.000</td>\n",
       "    </tr>\n",
       "    <tr>\n",
       "      <td>Ridge</td>\n",
       "      <td>AGE</td>\n",
       "      <td>0.440</td>\n",
       "      <td>6.35729</td>\n",
       "      <td>68.430</td>\n",
       "      <td>0.448</td>\n",
       "      <td>6.48493</td>\n",
       "      <td>71.799</td>\n",
       "      <td>787.000</td>\n",
       "    </tr>\n",
       "    <tr>\n",
       "      <td>Ridge</td>\n",
       "      <td>AGE + eyecolor</td>\n",
       "      <td>0.436</td>\n",
       "      <td>6.37522</td>\n",
       "      <td>68.839</td>\n",
       "      <td>0.446</td>\n",
       "      <td>6.49569</td>\n",
       "      <td>72.055</td>\n",
       "      <td>787.000</td>\n",
       "    </tr>\n",
       "    <tr>\n",
       "      <td>Ridge</td>\n",
       "      <td>AGE + size</td>\n",
       "      <td><b>0.512</b></td>\n",
       "      <td><b>5.92066</b></td>\n",
       "      <td><b>59.593</b></td>\n",
       "      <td><b>0.499</b></td>\n",
       "      <td><b>6.19566</b></td>\n",
       "      <td><b>65.258</b></td>\n",
       "      <td>787.000</td>\n",
       "    </tr>\n",
       "    <tr>\n",
       "      <td>Ridge</td>\n",
       "      <td>eyecolor</td>\n",
       "      <td>0.014</td>\n",
       "      <td>8.66138</td>\n",
       "      <td>120.378</td>\n",
       "      <td>0.004</td>\n",
       "      <td>9.05995</td>\n",
       "      <td>129.687</td>\n",
       "      <td>787.000</td>\n",
       "    </tr>\n",
       "    <tr>\n",
       "      <td>Ridge</td>\n",
       "      <td>size</td>\n",
       "      <td>0.400</td>\n",
       "      <td>6.61643</td>\n",
       "      <td>73.274</td>\n",
       "      <td>0.349</td>\n",
       "      <td>7.11847</td>\n",
       "      <td>84.715</td>\n",
       "      <td>787.000</td>\n",
       "    </tr>\n",
       "  </tbody>\n",
       "</table>"
      ],
      "text/plain": [
       "<IPython.core.display.HTML object>"
      ]
     },
     "metadata": {},
     "output_type": "display_data"
    }
   ],
   "source": [
    "fmt = {}\n",
    "fmt['MAE'] = 5\n",
    "base2.display(fmtdict=fmt)"
   ]
  },
  {
   "cell_type": "markdown",
   "metadata": {},
   "source": [
    "### Skipping some rows\n",
    "These tools can generate an inordinate number of rows, and we may not want to see them all.\n",
    "\n",
    "If you know just what you want to test, you may not want the AGE + covariate rows. On the other hand, if your object is to see if any of the covariate sets add anything to what the AGE variables already tell us, you may want results for your covariates only in conjunction with the AGE variables.\n",
    "\n",
    "The first option is available by specifying the optional rows parameter as 'noage'."
   ]
  },
  {
   "cell_type": "code",
   "execution_count": 9,
   "metadata": {
    "collapsed": false
   },
   "outputs": [
    {
     "data": {
      "text/html": [
       "<h2>Regress right left (787 training samples)</h2>"
      ],
      "text/plain": [
       "<IPython.core.display.HTML object>"
      ]
     },
     "metadata": {},
     "output_type": "display_data"
    },
    {
     "data": {
      "text/html": [
       "<style>.dataframe td { text-align: right; }</style><script>var tableToExcel = (function() {\n",
       "  var uri = 'data:application/vnd.ms-excel;base64,'\n",
       "    , template = '<html xmlns:o=\"urn:schemas-microsoft-com:office:office\" xmlns:x=\"urn:schemas-microsoft-com:office:excel\" xmlns=\"http://www.w3.org/TR/REC-html40\"><head><!--[if gte mso 9]><xml><x:ExcelWorkbook><x:ExcelWorksheets><x:ExcelWorksheet><x:Name>{worksheet}</x:Name><x:WorksheetOptions><x:DisplayGridlines/></x:WorksheetOptions></x:ExcelWorksheet></x:ExcelWorksheets></x:ExcelWorkbook></xml><![endif]--></head><body><table>{table}</table></body></html>'\n",
       "    , base64 = function(s) { return window.btoa(unescape(encodeURIComponent(s))) }\n",
       "    , format = function(s, c) { return s.replace(/{(\\w+)}/g, function(m, p) { return c[p]; }) }\n",
       "  return function(table, name) {\n",
       "    if (!table.nodeType) table = document.getElementById(table)\n",
       "    var ctx = {worksheet: name || 'Worksheet', table: table.innerHTML}\n",
       "    window.location.href = uri + base64(format(template, ctx))\n",
       "  }\n",
       "})()</script>\n",
       "<input type=\"button\" onclick=\"tableToExcel('22742', '<h2>Regress right left (787 training samples)</h2>')\" value=\"Export to Excel\">\n",
       "<table id=\"22742\" border=\"1\" class=\"dataframe\">\n",
       "  <thead>\n",
       "    <tr style=\"text-align: right;\">\n",
       "      <th>Model</th>\n",
       "      <th>Covariates</th>\n",
       "      <th>right: R2</th>\n",
       "      <th>right: MAE</th>\n",
       "      <th>right: MSE</th>\n",
       "      <th>left: R2</th>\n",
       "      <th>left: MAE</th>\n",
       "      <th>left: MSE</th>\n",
       "      <th>Samples</th>\n",
       "    </tr>\n",
       "  </thead>\n",
       "  <tbody>\n",
       "    <tr>\n",
       "      <td>Mean</td>\n",
       "      <td></td>\n",
       "      <td>0.000</td>\n",
       "      <td>8.797</td>\n",
       "      <td>122.121</td>\n",
       "      <td>0.000</td>\n",
       "      <td>9.095</td>\n",
       "      <td>130.153</td>\n",
       "      <td>787.000</td>\n",
       "    </tr>\n",
       "    <tr>\n",
       "      <td>Median</td>\n",
       "      <td></td>\n",
       "      <td>-0.026</td>\n",
       "      <td>8.660</td>\n",
       "      <td>125.324</td>\n",
       "      <td>-0.056</td>\n",
       "      <td>8.930</td>\n",
       "      <td>137.436</td>\n",
       "      <td>787.000</td>\n",
       "    </tr>\n",
       "    <tr>\n",
       "      <td>Ridge</td>\n",
       "      <td>Age</td>\n",
       "      <td>0.038</td>\n",
       "      <td>8.594</td>\n",
       "      <td>117.509</td>\n",
       "      <td>0.028</td>\n",
       "      <td>8.864</td>\n",
       "      <td>126.496</td>\n",
       "      <td>787.000</td>\n",
       "    </tr>\n",
       "    <tr>\n",
       "      <td>Ridge</td>\n",
       "      <td>Gender</td>\n",
       "      <td>0.424</td>\n",
       "      <td>6.473</td>\n",
       "      <td>70.352</td>\n",
       "      <td>0.437</td>\n",
       "      <td>6.579</td>\n",
       "      <td>73.251</td>\n",
       "      <td>787.000</td>\n",
       "    </tr>\n",
       "    <tr>\n",
       "      <td>Ridge</td>\n",
       "      <td>Ethnicity</td>\n",
       "      <td>0.021</td>\n",
       "      <td>8.645</td>\n",
       "      <td>119.539</td>\n",
       "      <td>0.007</td>\n",
       "      <td>9.010</td>\n",
       "      <td>129.305</td>\n",
       "      <td>787.000</td>\n",
       "    </tr>\n",
       "    <tr>\n",
       "      <td>Ridge</td>\n",
       "      <td>AGE</td>\n",
       "      <td><b>0.440</b></td>\n",
       "      <td><b>6.357</b></td>\n",
       "      <td><b>68.430</b></td>\n",
       "      <td><b>0.448</b></td>\n",
       "      <td><b>6.485</b></td>\n",
       "      <td><b>71.799</b></td>\n",
       "      <td>787.000</td>\n",
       "    </tr>\n",
       "    <tr>\n",
       "      <td>Ridge</td>\n",
       "      <td>eyecolor</td>\n",
       "      <td>0.014</td>\n",
       "      <td>8.661</td>\n",
       "      <td>120.378</td>\n",
       "      <td>0.004</td>\n",
       "      <td>9.060</td>\n",
       "      <td>129.687</td>\n",
       "      <td>787.000</td>\n",
       "    </tr>\n",
       "    <tr>\n",
       "      <td>Ridge</td>\n",
       "      <td>size</td>\n",
       "      <td>0.400</td>\n",
       "      <td>6.616</td>\n",
       "      <td>73.274</td>\n",
       "      <td>0.349</td>\n",
       "      <td>7.118</td>\n",
       "      <td>84.715</td>\n",
       "      <td>787.000</td>\n",
       "    </tr>\n",
       "  </tbody>\n",
       "</table>"
      ],
      "text/plain": [
       "<IPython.core.display.HTML object>"
      ]
     },
     "metadata": {},
     "output_type": "display_data"
    }
   ],
   "source": [
    "base2.display(rows='noage')"
   ]
  },
  {
   "cell_type": "markdown",
   "metadata": {},
   "source": [
    "The second option is available by specifying rows as 'age'. We'll add more options in the future."
   ]
  },
  {
   "cell_type": "code",
   "execution_count": 10,
   "metadata": {
    "collapsed": false
   },
   "outputs": [
    {
     "data": {
      "text/html": [
       "<h2>Regress right left (787 training samples)</h2>"
      ],
      "text/plain": [
       "<IPython.core.display.HTML object>"
      ]
     },
     "metadata": {},
     "output_type": "display_data"
    },
    {
     "data": {
      "text/html": [
       "<style>.dataframe td { text-align: right; }</style><script>var tableToExcel = (function() {\n",
       "  var uri = 'data:application/vnd.ms-excel;base64,'\n",
       "    , template = '<html xmlns:o=\"urn:schemas-microsoft-com:office:office\" xmlns:x=\"urn:schemas-microsoft-com:office:excel\" xmlns=\"http://www.w3.org/TR/REC-html40\"><head><!--[if gte mso 9]><xml><x:ExcelWorkbook><x:ExcelWorksheets><x:ExcelWorksheet><x:Name>{worksheet}</x:Name><x:WorksheetOptions><x:DisplayGridlines/></x:WorksheetOptions></x:ExcelWorksheet></x:ExcelWorksheets></x:ExcelWorkbook></xml><![endif]--></head><body><table>{table}</table></body></html>'\n",
       "    , base64 = function(s) { return window.btoa(unescape(encodeURIComponent(s))) }\n",
       "    , format = function(s, c) { return s.replace(/{(\\w+)}/g, function(m, p) { return c[p]; }) }\n",
       "  return function(table, name) {\n",
       "    if (!table.nodeType) table = document.getElementById(table)\n",
       "    var ctx = {worksheet: name || 'Worksheet', table: table.innerHTML}\n",
       "    window.location.href = uri + base64(format(template, ctx))\n",
       "  }\n",
       "})()</script>\n",
       "<input type=\"button\" onclick=\"tableToExcel('57632', '<h2>Regress right left (787 training samples)</h2>')\" value=\"Export to Excel\">\n",
       "<table id=\"57632\" border=\"1\" class=\"dataframe\">\n",
       "  <thead>\n",
       "    <tr style=\"text-align: right;\">\n",
       "      <th>Model</th>\n",
       "      <th>Covariates</th>\n",
       "      <th>right: R2</th>\n",
       "      <th>right: MAE</th>\n",
       "      <th>right: MSE</th>\n",
       "      <th>left: R2</th>\n",
       "      <th>left: MAE</th>\n",
       "      <th>left: MSE</th>\n",
       "      <th>Samples</th>\n",
       "    </tr>\n",
       "  </thead>\n",
       "  <tbody>\n",
       "    <tr>\n",
       "      <td>Mean</td>\n",
       "      <td></td>\n",
       "      <td>0.000</td>\n",
       "      <td>8.797</td>\n",
       "      <td>122.121</td>\n",
       "      <td>0.000</td>\n",
       "      <td>9.095</td>\n",
       "      <td>130.153</td>\n",
       "      <td>787.000</td>\n",
       "    </tr>\n",
       "    <tr>\n",
       "      <td>Median</td>\n",
       "      <td></td>\n",
       "      <td>-0.026</td>\n",
       "      <td>8.660</td>\n",
       "      <td>125.324</td>\n",
       "      <td>-0.056</td>\n",
       "      <td>8.930</td>\n",
       "      <td>137.436</td>\n",
       "      <td>787.000</td>\n",
       "    </tr>\n",
       "    <tr>\n",
       "      <td>Ridge</td>\n",
       "      <td>Age</td>\n",
       "      <td>0.038</td>\n",
       "      <td>8.594</td>\n",
       "      <td>117.509</td>\n",
       "      <td>0.028</td>\n",
       "      <td>8.864</td>\n",
       "      <td>126.496</td>\n",
       "      <td>787.000</td>\n",
       "    </tr>\n",
       "    <tr>\n",
       "      <td>Ridge</td>\n",
       "      <td>Gender</td>\n",
       "      <td>0.424</td>\n",
       "      <td>6.473</td>\n",
       "      <td>70.352</td>\n",
       "      <td>0.437</td>\n",
       "      <td>6.579</td>\n",
       "      <td>73.251</td>\n",
       "      <td>787.000</td>\n",
       "    </tr>\n",
       "    <tr>\n",
       "      <td>Ridge</td>\n",
       "      <td>Ethnicity</td>\n",
       "      <td>0.021</td>\n",
       "      <td>8.645</td>\n",
       "      <td>119.539</td>\n",
       "      <td>0.007</td>\n",
       "      <td>9.010</td>\n",
       "      <td>129.305</td>\n",
       "      <td>787.000</td>\n",
       "    </tr>\n",
       "    <tr>\n",
       "      <td>Ridge</td>\n",
       "      <td>AGE</td>\n",
       "      <td>0.440</td>\n",
       "      <td>6.357</td>\n",
       "      <td>68.430</td>\n",
       "      <td>0.448</td>\n",
       "      <td>6.485</td>\n",
       "      <td>71.799</td>\n",
       "      <td>787.000</td>\n",
       "    </tr>\n",
       "    <tr>\n",
       "      <td>Ridge</td>\n",
       "      <td>AGE + eyecolor</td>\n",
       "      <td>0.436</td>\n",
       "      <td>6.375</td>\n",
       "      <td>68.839</td>\n",
       "      <td>0.446</td>\n",
       "      <td>6.496</td>\n",
       "      <td>72.055</td>\n",
       "      <td>787.000</td>\n",
       "    </tr>\n",
       "    <tr>\n",
       "      <td>Ridge</td>\n",
       "      <td>AGE + size</td>\n",
       "      <td><b>0.512</b></td>\n",
       "      <td><b>5.921</b></td>\n",
       "      <td><b>59.593</b></td>\n",
       "      <td><b>0.499</b></td>\n",
       "      <td><b>6.196</b></td>\n",
       "      <td><b>65.258</b></td>\n",
       "      <td>787.000</td>\n",
       "    </tr>\n",
       "  </tbody>\n",
       "</table>"
      ],
      "text/plain": [
       "<IPython.core.display.HTML object>"
      ]
     },
     "metadata": {},
     "output_type": "display_data"
    }
   ],
   "source": [
    "base2.display(rows='age')"
   ]
  },
  {
   "cell_type": "markdown",
   "metadata": {},
   "source": [
    "If all else fails, metrics_df is the frame which the tools are displaying. You can pull this out of the BaseRegress object, filter and modify it as much as you like, and then pass it back into the display module.\n",
    "\n",
    "The run method also has an optional with_aggregate_covariates parameter. If you set this to False, the tools won't do any of the regressions with AGE plus your covariate sets. If this choice meets your needs, it is faster than modifying the display properties because it turns off calculation of some results, not just display. To make this notebook faster and more compact we'll do this for the rest of the notebook.\n",
    "\n",
    "### Skipping lots of rows\n",
    "You may want to run and print just one row or a few. This is like running the underlying tools on one set of covariates, without giving up some of the support functions like integrating different data sources.\n",
    "\n",
    "The run function takes a run_keys parameter which allows you to specify just the rows you want. For example:"
   ]
  },
  {
   "cell_type": "code",
   "execution_count": 11,
   "metadata": {
    "collapsed": false
   },
   "outputs": [
    {
     "data": {
      "text/html": [
       "<h2>Regress right left (787 training samples)</h2>"
      ],
      "text/plain": [
       "<IPython.core.display.HTML object>"
      ]
     },
     "metadata": {},
     "output_type": "display_data"
    },
    {
     "data": {
      "text/html": [
       "<style>.dataframe td { text-align: right; }</style><script>var tableToExcel = (function() {\n",
       "  var uri = 'data:application/vnd.ms-excel;base64,'\n",
       "    , template = '<html xmlns:o=\"urn:schemas-microsoft-com:office:office\" xmlns:x=\"urn:schemas-microsoft-com:office:excel\" xmlns=\"http://www.w3.org/TR/REC-html40\"><head><!--[if gte mso 9]><xml><x:ExcelWorkbook><x:ExcelWorksheets><x:ExcelWorksheet><x:Name>{worksheet}</x:Name><x:WorksheetOptions><x:DisplayGridlines/></x:WorksheetOptions></x:ExcelWorksheet></x:ExcelWorksheets></x:ExcelWorkbook></xml><![endif]--></head><body><table>{table}</table></body></html>'\n",
       "    , base64 = function(s) { return window.btoa(unescape(encodeURIComponent(s))) }\n",
       "    , format = function(s, c) { return s.replace(/{(\\w+)}/g, function(m, p) { return c[p]; }) }\n",
       "  return function(table, name) {\n",
       "    if (!table.nodeType) table = document.getElementById(table)\n",
       "    var ctx = {worksheet: name || 'Worksheet', table: table.innerHTML}\n",
       "    window.location.href = uri + base64(format(template, ctx))\n",
       "  }\n",
       "})()</script>\n",
       "<input type=\"button\" onclick=\"tableToExcel('369', '<h2>Regress right left (787 training samples)</h2>')\" value=\"Export to Excel\">\n",
       "<table id=\"369\" border=\"1\" class=\"dataframe\">\n",
       "  <thead>\n",
       "    <tr style=\"text-align: right;\">\n",
       "      <th>Model</th>\n",
       "      <th>Covariates</th>\n",
       "      <th>right: R2</th>\n",
       "      <th>right: MAE</th>\n",
       "      <th>right: MSE</th>\n",
       "      <th>left: R2</th>\n",
       "      <th>left: MAE</th>\n",
       "      <th>left: MSE</th>\n",
       "      <th>Samples</th>\n",
       "    </tr>\n",
       "  </thead>\n",
       "  <tbody>\n",
       "    <tr>\n",
       "      <td>Ridge</td>\n",
       "      <td>eyecolor</td>\n",
       "      <td>0.014</td>\n",
       "      <td>8.661</td>\n",
       "      <td>120.378</td>\n",
       "      <td>0.004</td>\n",
       "      <td>9.060</td>\n",
       "      <td>129.687</td>\n",
       "      <td>787.000</td>\n",
       "    </tr>\n",
       "    <tr>\n",
       "      <td>Ridge</td>\n",
       "      <td>size</td>\n",
       "      <td><b>0.400</b></td>\n",
       "      <td><b>6.616</b></td>\n",
       "      <td><b>73.274</b></td>\n",
       "      <td><b>0.349</b></td>\n",
       "      <td><b>7.118</b></td>\n",
       "      <td><b>84.715</b></td>\n",
       "      <td>787.000</td>\n",
       "    </tr>\n",
       "  </tbody>\n",
       "</table>"
      ],
      "text/plain": [
       "<IPython.core.display.HTML object>"
      ]
     },
     "metadata": {},
     "output_type": "display_data"
    }
   ],
   "source": [
    "size = ['facepheno.height', 'dynamic.FACE.pheno.v1.bmi']\n",
    "eyecolor = ['dynamic.FACE.eyecolor.v1_visit1.*']\n",
    "\n",
    "base2 = baseregress.BaseRegress(targets)\n",
    "base2.covariates['size'] = size\n",
    "base2.covariates['eyecolor'] = eyecolor\n",
    "base2.run(run_keys=['size', 'eyecolor'])\n",
    "base2.display()"
   ]
  },
  {
   "cell_type": "markdown",
   "metadata": {},
   "source": [
    "### Dropping specified columns\n",
    "You can drop columns from the table if you want. For example, we may think including MAE and MSE is too much. This is how we drop MSE. Note that we must set this before we run, not just at display time."
   ]
  },
  {
   "cell_type": "code",
   "execution_count": 12,
   "metadata": {
    "collapsed": false
   },
   "outputs": [
    {
     "data": {
      "text/html": [
       "<h2>Regress right left (787 training samples)</h2>"
      ],
      "text/plain": [
       "<IPython.core.display.HTML object>"
      ]
     },
     "metadata": {},
     "output_type": "display_data"
    },
    {
     "data": {
      "text/html": [
       "<style>.dataframe td { text-align: right; }</style><script>var tableToExcel = (function() {\n",
       "  var uri = 'data:application/vnd.ms-excel;base64,'\n",
       "    , template = '<html xmlns:o=\"urn:schemas-microsoft-com:office:office\" xmlns:x=\"urn:schemas-microsoft-com:office:excel\" xmlns=\"http://www.w3.org/TR/REC-html40\"><head><!--[if gte mso 9]><xml><x:ExcelWorkbook><x:ExcelWorksheets><x:ExcelWorksheet><x:Name>{worksheet}</x:Name><x:WorksheetOptions><x:DisplayGridlines/></x:WorksheetOptions></x:ExcelWorksheet></x:ExcelWorksheets></x:ExcelWorkbook></xml><![endif]--></head><body><table>{table}</table></body></html>'\n",
       "    , base64 = function(s) { return window.btoa(unescape(encodeURIComponent(s))) }\n",
       "    , format = function(s, c) { return s.replace(/{(\\w+)}/g, function(m, p) { return c[p]; }) }\n",
       "  return function(table, name) {\n",
       "    if (!table.nodeType) table = document.getElementById(table)\n",
       "    var ctx = {worksheet: name || 'Worksheet', table: table.innerHTML}\n",
       "    window.location.href = uri + base64(format(template, ctx))\n",
       "  }\n",
       "})()</script>\n",
       "<input type=\"button\" onclick=\"tableToExcel('54785', '<h2>Regress right left (787 training samples)</h2>')\" value=\"Export to Excel\">\n",
       "<table id=\"54785\" border=\"1\" class=\"dataframe\">\n",
       "  <thead>\n",
       "    <tr style=\"text-align: right;\">\n",
       "      <th>Model</th>\n",
       "      <th>Covariates</th>\n",
       "      <th>right: R2</th>\n",
       "      <th>right: MAE</th>\n",
       "      <th>left: R2</th>\n",
       "      <th>left: MAE</th>\n",
       "      <th>Samples</th>\n",
       "    </tr>\n",
       "  </thead>\n",
       "  <tbody>\n",
       "    <tr>\n",
       "      <td>Mean</td>\n",
       "      <td></td>\n",
       "      <td>0.000</td>\n",
       "      <td>8.797</td>\n",
       "      <td>0.000</td>\n",
       "      <td>9.095</td>\n",
       "      <td>787.000</td>\n",
       "    </tr>\n",
       "    <tr>\n",
       "      <td>Median</td>\n",
       "      <td></td>\n",
       "      <td>-0.026</td>\n",
       "      <td>8.660</td>\n",
       "      <td>-0.056</td>\n",
       "      <td>8.930</td>\n",
       "      <td>787.000</td>\n",
       "    </tr>\n",
       "    <tr>\n",
       "      <td>Ridge</td>\n",
       "      <td>Age</td>\n",
       "      <td>0.038</td>\n",
       "      <td>8.594</td>\n",
       "      <td>0.028</td>\n",
       "      <td>8.864</td>\n",
       "      <td>787.000</td>\n",
       "    </tr>\n",
       "    <tr>\n",
       "      <td>Ridge</td>\n",
       "      <td>Gender</td>\n",
       "      <td>0.424</td>\n",
       "      <td>6.473</td>\n",
       "      <td>0.437</td>\n",
       "      <td>6.579</td>\n",
       "      <td>787.000</td>\n",
       "    </tr>\n",
       "    <tr>\n",
       "      <td>Ridge</td>\n",
       "      <td>Ethnicity</td>\n",
       "      <td>0.021</td>\n",
       "      <td>8.645</td>\n",
       "      <td>0.007</td>\n",
       "      <td>9.010</td>\n",
       "      <td>787.000</td>\n",
       "    </tr>\n",
       "    <tr>\n",
       "      <td>Ridge</td>\n",
       "      <td>AGE</td>\n",
       "      <td><b>0.440</b></td>\n",
       "      <td><b>6.357</b></td>\n",
       "      <td><b>0.448</b></td>\n",
       "      <td><b>6.485</b></td>\n",
       "      <td>787.000</td>\n",
       "    </tr>\n",
       "    <tr>\n",
       "      <td>Ridge</td>\n",
       "      <td>eyecolor</td>\n",
       "      <td>0.014</td>\n",
       "      <td>8.661</td>\n",
       "      <td>0.004</td>\n",
       "      <td>9.060</td>\n",
       "      <td>787.000</td>\n",
       "    </tr>\n",
       "    <tr>\n",
       "      <td>Ridge</td>\n",
       "      <td>size</td>\n",
       "      <td>0.400</td>\n",
       "      <td>6.616</td>\n",
       "      <td>0.349</td>\n",
       "      <td>7.118</td>\n",
       "      <td>787.000</td>\n",
       "    </tr>\n",
       "  </tbody>\n",
       "</table>"
      ],
      "text/plain": [
       "<IPython.core.display.HTML object>"
      ]
     },
     "metadata": {},
     "output_type": "display_data"
    }
   ],
   "source": [
    "base2.dropCol('MSE')\n",
    "base2.run()\n",
    "base2.display(rows='noage')"
   ]
  },
  {
   "cell_type": "markdown",
   "metadata": {},
   "source": [
    "## 5. <a id='sec4'></a>Try different estimators on a covariate set\n",
    "By default the baseline regression material uses a ridge regression method for regression, and logistic regression for classification. You can specify a list of other estimators if you want to do something different, or in addition.\n",
    "\n",
    "Note that the estimators you specify are not used directly to fit the data, but are passed to the sklearn grid search method to look for good parameters.\n",
    "\n",
    "As before, we define covariate sets. For the size covariates, we will also ask for both ridge and lasso estimators."
   ]
  },
  {
   "cell_type": "code",
   "execution_count": 13,
   "metadata": {
    "collapsed": false
   },
   "outputs": [
    {
     "data": {
      "text/html": [
       "<h2>Regress right left (787 training samples)</h2>"
      ],
      "text/plain": [
       "<IPython.core.display.HTML object>"
      ]
     },
     "metadata": {},
     "output_type": "display_data"
    },
    {
     "data": {
      "text/html": [
       "<style>.dataframe td { text-align: right; }</style><script>var tableToExcel = (function() {\n",
       "  var uri = 'data:application/vnd.ms-excel;base64,'\n",
       "    , template = '<html xmlns:o=\"urn:schemas-microsoft-com:office:office\" xmlns:x=\"urn:schemas-microsoft-com:office:excel\" xmlns=\"http://www.w3.org/TR/REC-html40\"><head><!--[if gte mso 9]><xml><x:ExcelWorkbook><x:ExcelWorksheets><x:ExcelWorksheet><x:Name>{worksheet}</x:Name><x:WorksheetOptions><x:DisplayGridlines/></x:WorksheetOptions></x:ExcelWorksheet></x:ExcelWorksheets></x:ExcelWorkbook></xml><![endif]--></head><body><table>{table}</table></body></html>'\n",
       "    , base64 = function(s) { return window.btoa(unescape(encodeURIComponent(s))) }\n",
       "    , format = function(s, c) { return s.replace(/{(\\w+)}/g, function(m, p) { return c[p]; }) }\n",
       "  return function(table, name) {\n",
       "    if (!table.nodeType) table = document.getElementById(table)\n",
       "    var ctx = {worksheet: name || 'Worksheet', table: table.innerHTML}\n",
       "    window.location.href = uri + base64(format(template, ctx))\n",
       "  }\n",
       "})()</script>\n",
       "<input type=\"button\" onclick=\"tableToExcel('58198', '<h2>Regress right left (787 training samples)</h2>')\" value=\"Export to Excel\">\n",
       "<table id=\"58198\" border=\"1\" class=\"dataframe\">\n",
       "  <thead>\n",
       "    <tr style=\"text-align: right;\">\n",
       "      <th>Model</th>\n",
       "      <th>Covariates</th>\n",
       "      <th>right: R2</th>\n",
       "      <th>right: MAE</th>\n",
       "      <th>right: MSE</th>\n",
       "      <th>left: R2</th>\n",
       "      <th>left: MAE</th>\n",
       "      <th>left: MSE</th>\n",
       "      <th>Samples</th>\n",
       "    </tr>\n",
       "  </thead>\n",
       "  <tbody>\n",
       "    <tr>\n",
       "      <td>Mean</td>\n",
       "      <td></td>\n",
       "      <td>0.000</td>\n",
       "      <td>8.797</td>\n",
       "      <td>122.121</td>\n",
       "      <td>0.000</td>\n",
       "      <td>9.095</td>\n",
       "      <td>130.153</td>\n",
       "      <td>787.000</td>\n",
       "    </tr>\n",
       "    <tr>\n",
       "      <td>Median</td>\n",
       "      <td></td>\n",
       "      <td>-0.026</td>\n",
       "      <td>8.660</td>\n",
       "      <td>125.324</td>\n",
       "      <td>-0.056</td>\n",
       "      <td>8.930</td>\n",
       "      <td>137.436</td>\n",
       "      <td>787.000</td>\n",
       "    </tr>\n",
       "    <tr>\n",
       "      <td>Ridge</td>\n",
       "      <td>Age</td>\n",
       "      <td>0.038</td>\n",
       "      <td>8.594</td>\n",
       "      <td>117.509</td>\n",
       "      <td>0.028</td>\n",
       "      <td>8.864</td>\n",
       "      <td>126.496</td>\n",
       "      <td>787.000</td>\n",
       "    </tr>\n",
       "    <tr>\n",
       "      <td>Ridge</td>\n",
       "      <td>Gender</td>\n",
       "      <td><b>0.424</b></td>\n",
       "      <td><b>6.473</b></td>\n",
       "      <td><b>70.352</b></td>\n",
       "      <td><b>0.437</b></td>\n",
       "      <td><b>6.579</b></td>\n",
       "      <td><b>73.251</b></td>\n",
       "      <td>787.000</td>\n",
       "    </tr>\n",
       "    <tr>\n",
       "      <td>Ridge</td>\n",
       "      <td>Ethnicity</td>\n",
       "      <td>0.021</td>\n",
       "      <td>8.645</td>\n",
       "      <td>119.539</td>\n",
       "      <td>0.007</td>\n",
       "      <td>9.010</td>\n",
       "      <td>129.305</td>\n",
       "      <td>787.000</td>\n",
       "    </tr>\n",
       "    <tr>\n",
       "      <td>Ridge</td>\n",
       "      <td>eyecolor</td>\n",
       "      <td>0.014</td>\n",
       "      <td>8.661</td>\n",
       "      <td>120.378</td>\n",
       "      <td>0.004</td>\n",
       "      <td>9.060</td>\n",
       "      <td>129.687</td>\n",
       "      <td>787.000</td>\n",
       "    </tr>\n",
       "    <tr>\n",
       "      <td>Ridge</td>\n",
       "      <td>size</td>\n",
       "      <td>0.400</td>\n",
       "      <td>6.616</td>\n",
       "      <td>73.274</td>\n",
       "      <td>0.349</td>\n",
       "      <td>7.118</td>\n",
       "      <td>84.715</td>\n",
       "      <td>787.000</td>\n",
       "    </tr>\n",
       "    <tr>\n",
       "      <td>Lasso</td>\n",
       "      <td>size</td>\n",
       "      <td>0.397</td>\n",
       "      <td>6.628</td>\n",
       "      <td>73.625</td>\n",
       "      <td>0.349</td>\n",
       "      <td>7.118</td>\n",
       "      <td>84.718</td>\n",
       "      <td>787.000</td>\n",
       "    </tr>\n",
       "  </tbody>\n",
       "</table>"
      ],
      "text/plain": [
       "<IPython.core.display.HTML object>"
      ]
     },
     "metadata": {},
     "output_type": "display_data"
    }
   ],
   "source": [
    "base = baseregress.BaseRegress(targets)\n",
    "\n",
    "params = {'alpha': [ 0.0001, 0.0005, 0.001, 0.005, 0.01, 0.05, 0.1, 0.5, 1, 5, 10]}\n",
    "est0 = {'est' : linear_model.Ridge()}\n",
    "est1 = {'est' : linear_model.Lasso(), 'params' : params}\n",
    "base.estimatorsToRun['size'] = [est0, est1]\n",
    "\n",
    "base.covariates['size'] = size\n",
    "base.covariates['eyecolor'] = eyecolor\n",
    "base.run(with_aggregate_covariates=False)\n",
    "base.display()"
   ]
  },
  {
   "cell_type": "markdown",
   "metadata": {},
   "source": [
    "As you see, the BaseRegress object has another dictionary called estimatorsToRun. It shares keys with the covariates dictionary, so to try different estimators for a given covariates set you assign a list of estimators to this key.\n",
    "\n",
    "In this case you see we are running two estimators for the size covariates, a ridge estimator and a lasso estimator. We wind up with two rows for the size covariates, one for each estimator.\n",
    "\n",
    "We specify each estimator, and also the set of parameters for the estimator which we want to try in the grid search. Each estimator is specified by a dictionary, in which the 'est' entry is the estimator itself. If you supply a params entry also, the sklearn grid search code will try all the values you supply. If you omit the params value, the library will use a default set of parameters. If you know the values you want for the parameters like the alpha regularization value in this test, you can supply them in the estimator constructor and use an empty dictionary for the params value."
   ]
  },
  {
   "cell_type": "markdown",
   "metadata": {},
   "source": [
    "## 6. <a id='sec5'></a>Add custom error columns\n",
    "As you have seen the BaseRegress class computes a number of standard quality measures for each estimation task. You may want to add other quality measures.\n",
    "\n",
    "The object has an \"extracols\" dictionary which allows you to add extra columns. The key is the name of the new column, and the value must be a function which takes a CrossValidationRegression object (or a CrossValidationClassification object) and returns a number.\n",
    "\n",
    "Here is an example: sklearn has a median_absolute_error quality metric. Let's add it as a new column."
   ]
  },
  {
   "cell_type": "code",
   "execution_count": 14,
   "metadata": {
    "collapsed": false
   },
   "outputs": [
    {
     "data": {
      "text/html": [
       "<h2>Regress right left (787 training samples)</h2>"
      ],
      "text/plain": [
       "<IPython.core.display.HTML object>"
      ]
     },
     "metadata": {},
     "output_type": "display_data"
    },
    {
     "data": {
      "text/html": [
       "<style>.dataframe td { text-align: right; }</style><script>var tableToExcel = (function() {\n",
       "  var uri = 'data:application/vnd.ms-excel;base64,'\n",
       "    , template = '<html xmlns:o=\"urn:schemas-microsoft-com:office:office\" xmlns:x=\"urn:schemas-microsoft-com:office:excel\" xmlns=\"http://www.w3.org/TR/REC-html40\"><head><!--[if gte mso 9]><xml><x:ExcelWorkbook><x:ExcelWorksheets><x:ExcelWorksheet><x:Name>{worksheet}</x:Name><x:WorksheetOptions><x:DisplayGridlines/></x:WorksheetOptions></x:ExcelWorksheet></x:ExcelWorksheets></x:ExcelWorkbook></xml><![endif]--></head><body><table>{table}</table></body></html>'\n",
       "    , base64 = function(s) { return window.btoa(unescape(encodeURIComponent(s))) }\n",
       "    , format = function(s, c) { return s.replace(/{(\\w+)}/g, function(m, p) { return c[p]; }) }\n",
       "  return function(table, name) {\n",
       "    if (!table.nodeType) table = document.getElementById(table)\n",
       "    var ctx = {worksheet: name || 'Worksheet', table: table.innerHTML}\n",
       "    window.location.href = uri + base64(format(template, ctx))\n",
       "  }\n",
       "})()</script>\n",
       "<input type=\"button\" onclick=\"tableToExcel('24608', '<h2>Regress right left (787 training samples)</h2>')\" value=\"Export to Excel\">\n",
       "<table id=\"24608\" border=\"1\" class=\"dataframe\">\n",
       "  <thead>\n",
       "    <tr style=\"text-align: right;\">\n",
       "      <th>Model</th>\n",
       "      <th>Covariates</th>\n",
       "      <th>right: R2</th>\n",
       "      <th>right: MAE</th>\n",
       "      <th>right: MSE</th>\n",
       "      <th>left: R2</th>\n",
       "      <th>left: MAE</th>\n",
       "      <th>left: MSE</th>\n",
       "      <th>right: median</th>\n",
       "      <th>left: median</th>\n",
       "      <th>Samples</th>\n",
       "    </tr>\n",
       "  </thead>\n",
       "  <tbody>\n",
       "    <tr>\n",
       "      <td>Mean</td>\n",
       "      <td></td>\n",
       "      <td>0.000</td>\n",
       "      <td>8.797</td>\n",
       "      <td>122.121</td>\n",
       "      <td>0.000</td>\n",
       "      <td>9.095</td>\n",
       "      <td>130.153</td>\n",
       "      <td></td>\n",
       "      <td></td>\n",
       "      <td>787.000</td>\n",
       "    </tr>\n",
       "    <tr>\n",
       "      <td>Median</td>\n",
       "      <td></td>\n",
       "      <td>-0.026</td>\n",
       "      <td>8.660</td>\n",
       "      <td>125.324</td>\n",
       "      <td>-0.056</td>\n",
       "      <td>8.930</td>\n",
       "      <td>137.436</td>\n",
       "      <td></td>\n",
       "      <td></td>\n",
       "      <td>787.000</td>\n",
       "    </tr>\n",
       "    <tr>\n",
       "      <td>Ridge</td>\n",
       "      <td>Age</td>\n",
       "      <td>0.038</td>\n",
       "      <td>8.594</td>\n",
       "      <td>117.509</td>\n",
       "      <td>0.028</td>\n",
       "      <td>8.864</td>\n",
       "      <td>126.496</td>\n",
       "      <td>7.42282</td>\n",
       "      <td>7.72866</td>\n",
       "      <td>787.000</td>\n",
       "    </tr>\n",
       "    <tr>\n",
       "      <td>Ridge</td>\n",
       "      <td>Gender</td>\n",
       "      <td><b>0.424</b></td>\n",
       "      <td><b>6.473</b></td>\n",
       "      <td><b>70.352</b></td>\n",
       "      <td><b>0.437</b></td>\n",
       "      <td><b>6.579</b></td>\n",
       "      <td><b>73.251</b></td>\n",
       "      <td>5.19267</td>\n",
       "      <td>5.3192</td>\n",
       "      <td>787.000</td>\n",
       "    </tr>\n",
       "    <tr>\n",
       "      <td>Ridge</td>\n",
       "      <td>Ethnicity</td>\n",
       "      <td>0.021</td>\n",
       "      <td>8.645</td>\n",
       "      <td>119.539</td>\n",
       "      <td>0.007</td>\n",
       "      <td>9.010</td>\n",
       "      <td>129.305</td>\n",
       "      <td>7.78828</td>\n",
       "      <td>7.65013</td>\n",
       "      <td>787.000</td>\n",
       "    </tr>\n",
       "    <tr>\n",
       "      <td>Ridge</td>\n",
       "      <td>eyecolor</td>\n",
       "      <td>0.014</td>\n",
       "      <td>8.661</td>\n",
       "      <td>120.378</td>\n",
       "      <td>0.004</td>\n",
       "      <td>9.060</td>\n",
       "      <td>129.687</td>\n",
       "      <td>7.58367</td>\n",
       "      <td>7.75167</td>\n",
       "      <td>787.000</td>\n",
       "    </tr>\n",
       "    <tr>\n",
       "      <td>Ridge</td>\n",
       "      <td>size</td>\n",
       "      <td>0.400</td>\n",
       "      <td>6.616</td>\n",
       "      <td>73.274</td>\n",
       "      <td>0.349</td>\n",
       "      <td>7.118</td>\n",
       "      <td>84.715</td>\n",
       "      <td>5.17655</td>\n",
       "      <td>5.64347</td>\n",
       "      <td>787.000</td>\n",
       "    </tr>\n",
       "  </tbody>\n",
       "</table>"
      ],
      "text/plain": [
       "<IPython.core.display.HTML object>"
      ]
     },
     "metadata": {},
     "output_type": "display_data"
    }
   ],
   "source": [
    "base = baseregress.BaseRegress(targets)\n",
    "\n",
    "base.extracols['median'] = lambda cv : metrics.median_absolute_error(cv.y, cv.get_predicted())\n",
    "\n",
    "base.covariates['size'] = size\n",
    "base.covariates['eyecolor'] = eyecolor\n",
    "base.run(with_aggregate_covariates=False)\n",
    "base.display()"
   ]
  },
  {
   "cell_type": "markdown",
   "metadata": {},
   "source": [
    "There is one subtle point to note here. The cross validation get_predicted method is not totally out of sample, because it uses hyperparameters from the grid search - for example, the alpha regularization parameter - which have been chosen based on the whole set. There is also a get_predicted method in the evaluation object, but that is problematic because it uses different parameters for different parts of the data set, so it does not actually return predictions from a single model. \n",
    "\n",
    "We currently use the CV object because it provides more information. At some point we will expand the evaluation object and switch.\n",
    "\n",
    "### Adding a standard deviation column\n",
    "There is currently one standard column available in addition to the default columns. You see below that the interface will support other columns, but the one shown, the standard deviation of R2, is the only one available now."
   ]
  },
  {
   "cell_type": "code",
   "execution_count": 15,
   "metadata": {
    "collapsed": false
   },
   "outputs": [
    {
     "data": {
      "text/html": [
       "<h2>Regress right left (787 training samples)</h2>"
      ],
      "text/plain": [
       "<IPython.core.display.HTML object>"
      ]
     },
     "metadata": {},
     "output_type": "display_data"
    },
    {
     "data": {
      "text/html": [
       "<style>.dataframe td { text-align: right; }</style><script>var tableToExcel = (function() {\n",
       "  var uri = 'data:application/vnd.ms-excel;base64,'\n",
       "    , template = '<html xmlns:o=\"urn:schemas-microsoft-com:office:office\" xmlns:x=\"urn:schemas-microsoft-com:office:excel\" xmlns=\"http://www.w3.org/TR/REC-html40\"><head><!--[if gte mso 9]><xml><x:ExcelWorkbook><x:ExcelWorksheets><x:ExcelWorksheet><x:Name>{worksheet}</x:Name><x:WorksheetOptions><x:DisplayGridlines/></x:WorksheetOptions></x:ExcelWorksheet></x:ExcelWorksheets></x:ExcelWorkbook></xml><![endif]--></head><body><table>{table}</table></body></html>'\n",
       "    , base64 = function(s) { return window.btoa(unescape(encodeURIComponent(s))) }\n",
       "    , format = function(s, c) { return s.replace(/{(\\w+)}/g, function(m, p) { return c[p]; }) }\n",
       "  return function(table, name) {\n",
       "    if (!table.nodeType) table = document.getElementById(table)\n",
       "    var ctx = {worksheet: name || 'Worksheet', table: table.innerHTML}\n",
       "    window.location.href = uri + base64(format(template, ctx))\n",
       "  }\n",
       "})()</script>\n",
       "<input type=\"button\" onclick=\"tableToExcel('45141', '<h2>Regress right left (787 training samples)</h2>')\" value=\"Export to Excel\">\n",
       "<table id=\"45141\" border=\"1\" class=\"dataframe\">\n",
       "  <thead>\n",
       "    <tr style=\"text-align: right;\">\n",
       "      <th>Model</th>\n",
       "      <th>Covariates</th>\n",
       "      <th>right: R2</th>\n",
       "      <th>right: MAE</th>\n",
       "      <th>right: MSE</th>\n",
       "      <th>left: R2</th>\n",
       "      <th>left: MAE</th>\n",
       "      <th>left: MSE</th>\n",
       "      <th>right: STD(R2)</th>\n",
       "      <th>left: STD(R2)</th>\n",
       "      <th>Samples</th>\n",
       "    </tr>\n",
       "  </thead>\n",
       "  <tbody>\n",
       "    <tr>\n",
       "      <td>Mean</td>\n",
       "      <td></td>\n",
       "      <td>0.000</td>\n",
       "      <td>8.797</td>\n",
       "      <td>122.121</td>\n",
       "      <td>0.000</td>\n",
       "      <td>9.095</td>\n",
       "      <td>130.153</td>\n",
       "      <td></td>\n",
       "      <td></td>\n",
       "      <td>787.000</td>\n",
       "    </tr>\n",
       "    <tr>\n",
       "      <td>Median</td>\n",
       "      <td></td>\n",
       "      <td>-0.026</td>\n",
       "      <td>8.660</td>\n",
       "      <td>125.324</td>\n",
       "      <td>-0.056</td>\n",
       "      <td>8.930</td>\n",
       "      <td>137.436</td>\n",
       "      <td></td>\n",
       "      <td></td>\n",
       "      <td>787.000</td>\n",
       "    </tr>\n",
       "    <tr>\n",
       "      <td>Ridge</td>\n",
       "      <td>Age</td>\n",
       "      <td>0.038</td>\n",
       "      <td>8.594</td>\n",
       "      <td>117.509</td>\n",
       "      <td>0.028</td>\n",
       "      <td>8.864</td>\n",
       "      <td>126.496</td>\n",
       "      <td>0.0389081</td>\n",
       "      <td>0.0392636</td>\n",
       "      <td>787.000</td>\n",
       "    </tr>\n",
       "    <tr>\n",
       "      <td>Ridge</td>\n",
       "      <td>Gender</td>\n",
       "      <td><b>0.424</b></td>\n",
       "      <td><b>6.473</b></td>\n",
       "      <td><b>70.352</b></td>\n",
       "      <td><b>0.437</b></td>\n",
       "      <td><b>6.579</b></td>\n",
       "      <td><b>73.251</b></td>\n",
       "      <td>0.0675276</td>\n",
       "      <td>0.0609837</td>\n",
       "      <td>787.000</td>\n",
       "    </tr>\n",
       "    <tr>\n",
       "      <td>Ridge</td>\n",
       "      <td>Ethnicity</td>\n",
       "      <td>0.021</td>\n",
       "      <td>8.645</td>\n",
       "      <td>119.539</td>\n",
       "      <td>0.007</td>\n",
       "      <td>9.010</td>\n",
       "      <td>129.305</td>\n",
       "      <td>0.0386871</td>\n",
       "      <td>0.0278876</td>\n",
       "      <td>787.000</td>\n",
       "    </tr>\n",
       "    <tr>\n",
       "      <td>Ridge</td>\n",
       "      <td>eyecolor</td>\n",
       "      <td>0.014</td>\n",
       "      <td>8.661</td>\n",
       "      <td>120.378</td>\n",
       "      <td>0.004</td>\n",
       "      <td>9.060</td>\n",
       "      <td>129.687</td>\n",
       "      <td>0.0352787</td>\n",
       "      <td>0.0285381</td>\n",
       "      <td>787.000</td>\n",
       "    </tr>\n",
       "    <tr>\n",
       "      <td>Ridge</td>\n",
       "      <td>size</td>\n",
       "      <td>0.400</td>\n",
       "      <td>6.616</td>\n",
       "      <td>73.274</td>\n",
       "      <td>0.349</td>\n",
       "      <td>7.118</td>\n",
       "      <td>84.715</td>\n",
       "      <td>0.0751231</td>\n",
       "      <td>0.0789401</td>\n",
       "      <td>787.000</td>\n",
       "    </tr>\n",
       "  </tbody>\n",
       "</table>"
      ],
      "text/plain": [
       "<IPython.core.display.HTML object>"
      ]
     },
     "metadata": {},
     "output_type": "display_data"
    }
   ],
   "source": [
    "base = baseregress.BaseRegress(targets)\n",
    "\n",
    "base.addCol('STD(R2)')\n",
    "\n",
    "base.covariates['size'] = size\n",
    "base.covariates['eyecolor'] = eyecolor\n",
    "base.run(with_aggregate_covariates=False)\n",
    "base.display()"
   ]
  },
  {
   "cell_type": "markdown",
   "metadata": {},
   "source": [
    "## 7. <a id='sec6'></a>Add other data\n",
    "So far we have run tests which just went to Rosetta to get the data they needed. You can supply any additional data you want in one or more data frames. Each frame must have a ds.index.sample_key column, which is used to join the different pieces of information. This is often useful for genomic data, which is not yet handled internally in BaseRegress.\n",
    "\n",
    "For example, let's try using a few SNPs as covariates for the hand strength targets. First get the variant DB wrapper, and get a frame with a few SNPs that may be associated with height. The database wrapper always adds the ds.index.sample_key column."
   ]
  },
  {
   "cell_type": "code",
   "execution_count": 16,
   "metadata": {
    "collapsed": false
   },
   "outputs": [],
   "source": [
    "import datastack.dbs.rdb as rosetta\n",
    "import datastack.tools.vdbwrapper as vdbw\n",
    "rdb = rosetta.RosettaDBMongo()\n",
    "rdb.initialize(namespace='hg19')\n",
    "vdb = vdbw.VdbWrapper(rdb, False)\n",
    "\n",
    "hsnps = ['rs1042725', 'rs2179922']\n",
    "sframe = vdb.faceVars(hsnps)"
   ]
  },
  {
   "cell_type": "markdown",
   "metadata": {},
   "source": [
    "If we add this data frame to the regression object we can use those snps as covariates. We can add as many data frames as we want this way with repeated calls to addData."
   ]
  },
  {
   "cell_type": "code",
   "execution_count": 17,
   "metadata": {
    "collapsed": false
   },
   "outputs": [
    {
     "data": {
      "text/html": [
       "<h2>Regress right left (785 training samples)</h2>"
      ],
      "text/plain": [
       "<IPython.core.display.HTML object>"
      ]
     },
     "metadata": {},
     "output_type": "display_data"
    },
    {
     "data": {
      "text/html": [
       "<style>.dataframe td { text-align: right; }</style><script>var tableToExcel = (function() {\n",
       "  var uri = 'data:application/vnd.ms-excel;base64,'\n",
       "    , template = '<html xmlns:o=\"urn:schemas-microsoft-com:office:office\" xmlns:x=\"urn:schemas-microsoft-com:office:excel\" xmlns=\"http://www.w3.org/TR/REC-html40\"><head><!--[if gte mso 9]><xml><x:ExcelWorkbook><x:ExcelWorksheets><x:ExcelWorksheet><x:Name>{worksheet}</x:Name><x:WorksheetOptions><x:DisplayGridlines/></x:WorksheetOptions></x:ExcelWorksheet></x:ExcelWorksheets></x:ExcelWorkbook></xml><![endif]--></head><body><table>{table}</table></body></html>'\n",
       "    , base64 = function(s) { return window.btoa(unescape(encodeURIComponent(s))) }\n",
       "    , format = function(s, c) { return s.replace(/{(\\w+)}/g, function(m, p) { return c[p]; }) }\n",
       "  return function(table, name) {\n",
       "    if (!table.nodeType) table = document.getElementById(table)\n",
       "    var ctx = {worksheet: name || 'Worksheet', table: table.innerHTML}\n",
       "    window.location.href = uri + base64(format(template, ctx))\n",
       "  }\n",
       "})()</script>\n",
       "<input type=\"button\" onclick=\"tableToExcel('26485', '<h2>Regress right left (785 training samples)</h2>')\" value=\"Export to Excel\">\n",
       "<table id=\"26485\" border=\"1\" class=\"dataframe\">\n",
       "  <thead>\n",
       "    <tr style=\"text-align: right;\">\n",
       "      <th>Model</th>\n",
       "      <th>Covariates</th>\n",
       "      <th>right: R2</th>\n",
       "      <th>right: MAE</th>\n",
       "      <th>right: MSE</th>\n",
       "      <th>left: R2</th>\n",
       "      <th>left: MAE</th>\n",
       "      <th>left: MSE</th>\n",
       "      <th>Samples</th>\n",
       "    </tr>\n",
       "  </thead>\n",
       "  <tbody>\n",
       "    <tr>\n",
       "      <td>Mean</td>\n",
       "      <td></td>\n",
       "      <td>0.000</td>\n",
       "      <td>8.800</td>\n",
       "      <td>122.225</td>\n",
       "      <td>0.000</td>\n",
       "      <td>9.107</td>\n",
       "      <td>130.399</td>\n",
       "      <td>785.000</td>\n",
       "    </tr>\n",
       "    <tr>\n",
       "      <td>Median</td>\n",
       "      <td></td>\n",
       "      <td>-0.027</td>\n",
       "      <td>8.664</td>\n",
       "      <td>125.509</td>\n",
       "      <td>-0.056</td>\n",
       "      <td>8.946</td>\n",
       "      <td>137.755</td>\n",
       "      <td>785.000</td>\n",
       "    </tr>\n",
       "    <tr>\n",
       "      <td>Ridge</td>\n",
       "      <td>Age</td>\n",
       "      <td>0.037</td>\n",
       "      <td>8.601</td>\n",
       "      <td>117.663</td>\n",
       "      <td>0.028</td>\n",
       "      <td>8.878</td>\n",
       "      <td>126.756</td>\n",
       "      <td>785.000</td>\n",
       "    </tr>\n",
       "    <tr>\n",
       "      <td>Ridge</td>\n",
       "      <td>Gender</td>\n",
       "      <td><b>0.424</b></td>\n",
       "      <td><b>6.476</b></td>\n",
       "      <td><b>70.433</b></td>\n",
       "      <td><b>0.438</b></td>\n",
       "      <td><b>6.586</b></td>\n",
       "      <td><b>73.293</b></td>\n",
       "      <td>785.000</td>\n",
       "    </tr>\n",
       "    <tr>\n",
       "      <td>Ridge</td>\n",
       "      <td>Ethnicity</td>\n",
       "      <td>0.021</td>\n",
       "      <td>8.648</td>\n",
       "      <td>119.670</td>\n",
       "      <td>0.006</td>\n",
       "      <td>9.021</td>\n",
       "      <td>129.577</td>\n",
       "      <td>785.000</td>\n",
       "    </tr>\n",
       "    <tr>\n",
       "      <td>Ridge</td>\n",
       "      <td>eyecolor</td>\n",
       "      <td>0.014</td>\n",
       "      <td>8.667</td>\n",
       "      <td>120.544</td>\n",
       "      <td>0.003</td>\n",
       "      <td>9.074</td>\n",
       "      <td>129.968</td>\n",
       "      <td>785.000</td>\n",
       "    </tr>\n",
       "    <tr>\n",
       "      <td>Ridge</td>\n",
       "      <td>size</td>\n",
       "      <td>0.399</td>\n",
       "      <td>6.621</td>\n",
       "      <td>73.398</td>\n",
       "      <td>0.349</td>\n",
       "      <td>7.132</td>\n",
       "      <td>84.928</td>\n",
       "      <td>785.000</td>\n",
       "    </tr>\n",
       "    <tr>\n",
       "      <td>Ridge</td>\n",
       "      <td>snps</td>\n",
       "      <td>-0.005</td>\n",
       "      <td>8.808</td>\n",
       "      <td>122.871</td>\n",
       "      <td>-0.006</td>\n",
       "      <td>9.106</td>\n",
       "      <td>131.233</td>\n",
       "      <td>785.000</td>\n",
       "    </tr>\n",
       "  </tbody>\n",
       "</table>"
      ],
      "text/plain": [
       "<IPython.core.display.HTML object>"
      ]
     },
     "metadata": {},
     "output_type": "display_data"
    }
   ],
   "source": [
    "base = baseregress.BaseRegress(targets)\n",
    "\n",
    "base.covariates['size'] = size\n",
    "base.covariates['eyecolor'] = eyecolor\n",
    "base.covariates['snps'] = hsnps\n",
    "\n",
    "base.addData(sframe)\n",
    "\n",
    "base.run(with_aggregate_covariates=False)\n",
    "base.display()"
   ]
  },
  {
   "cell_type": "markdown",
   "metadata": {},
   "source": [
    "The snps seem to be even less related to hand strength than eye color. This is probably because eye color is corrlated with ethnicity, and ethnicity is correlated with age in our sample."
   ]
  },
  {
   "cell_type": "markdown",
   "metadata": {},
   "source": [
    "## 8. <a id='sec7'></a>Try one classification problem\n",
    "Everything we can do with regression we can also do with classification - we just need to start with a different class. The quality measures we get by default are classification error and the cross entropy log loss.\n",
    "\n",
    "Here is an example."
   ]
  },
  {
   "cell_type": "code",
   "execution_count": 18,
   "metadata": {
    "collapsed": false
   },
   "outputs": [
    {
     "data": {
      "text/html": [
       "<h2>Classify facepheno.health.status (836 training samples)</h2>"
      ],
      "text/plain": [
       "<IPython.core.display.HTML object>"
      ]
     },
     "metadata": {},
     "output_type": "display_data"
    },
    {
     "data": {
      "text/html": [
       "<style>.dataframe td { text-align: right; }</style><script>var tableToExcel = (function() {\n",
       "  var uri = 'data:application/vnd.ms-excel;base64,'\n",
       "    , template = '<html xmlns:o=\"urn:schemas-microsoft-com:office:office\" xmlns:x=\"urn:schemas-microsoft-com:office:excel\" xmlns=\"http://www.w3.org/TR/REC-html40\"><head><!--[if gte mso 9]><xml><x:ExcelWorkbook><x:ExcelWorksheets><x:ExcelWorksheet><x:Name>{worksheet}</x:Name><x:WorksheetOptions><x:DisplayGridlines/></x:WorksheetOptions></x:ExcelWorksheet></x:ExcelWorksheets></x:ExcelWorkbook></xml><![endif]--></head><body><table>{table}</table></body></html>'\n",
       "    , base64 = function(s) { return window.btoa(unescape(encodeURIComponent(s))) }\n",
       "    , format = function(s, c) { return s.replace(/{(\\w+)}/g, function(m, p) { return c[p]; }) }\n",
       "  return function(table, name) {\n",
       "    if (!table.nodeType) table = document.getElementById(table)\n",
       "    var ctx = {worksheet: name || 'Worksheet', table: table.innerHTML}\n",
       "    window.location.href = uri + base64(format(template, ctx))\n",
       "  }\n",
       "})()</script>\n",
       "<input type=\"button\" onclick=\"tableToExcel('47141', '<h2>Classify facepheno.health.status (836 training samples)</h2>')\" value=\"Export to Excel\">\n",
       "<table id=\"47141\" border=\"1\" class=\"dataframe\">\n",
       "  <thead>\n",
       "    <tr style=\"text-align: right;\">\n",
       "      <th>Model</th>\n",
       "      <th>Covariates</th>\n",
       "      <th>Error</th>\n",
       "      <th>LogLoss</th>\n",
       "      <th>Samples</th>\n",
       "      <th>Error-signif</th>\n",
       "    </tr>\n",
       "  </thead>\n",
       "  <tbody>\n",
       "    <tr>\n",
       "      <td>Mean</td>\n",
       "      <td></td>\n",
       "      <td>61.2%</td>\n",
       "      <td>1.274</td>\n",
       "      <td>836.000</td>\n",
       "      <td></td>\n",
       "    </tr>\n",
       "    <tr>\n",
       "      <td>Median</td>\n",
       "      <td>Age</td>\n",
       "      <td>60.9%</td>\n",
       "      <td>1.247</td>\n",
       "      <td>836.000</td>\n",
       "      <td></td>\n",
       "    </tr>\n",
       "    <tr>\n",
       "      <td>LogisticRegression</td>\n",
       "      <td>Gender</td>\n",
       "      <td>61.2%</td>\n",
       "      <td>1.264</td>\n",
       "      <td>836.000</td>\n",
       "      <td></td>\n",
       "    </tr>\n",
       "    <tr>\n",
       "      <td>LogisticRegression</td>\n",
       "      <td>Ethnicity</td>\n",
       "      <td><b>59.4%</b></td>\n",
       "      <td>1.243</td>\n",
       "      <td>836.000</td>\n",
       "      <td></td>\n",
       "    </tr>\n",
       "    <tr>\n",
       "      <td>LogisticRegression</td>\n",
       "      <td>AGE</td>\n",
       "      <td>60.4%</td>\n",
       "      <td>1.212</td>\n",
       "      <td>836.000</td>\n",
       "      <td></td>\n",
       "    </tr>\n",
       "  </tbody>\n",
       "</table>"
      ],
      "text/plain": [
       "<IPython.core.display.HTML object>"
      ]
     },
     "metadata": {},
     "output_type": "display_data"
    }
   ],
   "source": [
    "basec = baseclassify.BaseClassify('facepheno.health.status')\n",
    "basec.run()\n",
    "basec.display()"
   ]
  },
  {
   "cell_type": "markdown",
   "metadata": {},
   "source": [
    "## 9. <a id='sec8'></a>Modify the baseline covariates\n",
    "In general we are reluctant to change the AGE covariate sets, because we want all the tests to be comparable, but we can if we want. We just have to replace the covariates['Ethnicity'] dictionary entry, for example, and make sure the data is available to the library."
   ]
  },
  {
   "cell_type": "code",
   "execution_count": 19,
   "metadata": {
    "collapsed": false
   },
   "outputs": [
    {
     "data": {
      "text/html": [
       "<h2>Regress right left (834 training samples)</h2>"
      ],
      "text/plain": [
       "<IPython.core.display.HTML object>"
      ]
     },
     "metadata": {},
     "output_type": "display_data"
    },
    {
     "data": {
      "text/html": [
       "<style>.dataframe td { text-align: right; }</style><script>var tableToExcel = (function() {\n",
       "  var uri = 'data:application/vnd.ms-excel;base64,'\n",
       "    , template = '<html xmlns:o=\"urn:schemas-microsoft-com:office:office\" xmlns:x=\"urn:schemas-microsoft-com:office:excel\" xmlns=\"http://www.w3.org/TR/REC-html40\"><head><!--[if gte mso 9]><xml><x:ExcelWorkbook><x:ExcelWorksheets><x:ExcelWorksheet><x:Name>{worksheet}</x:Name><x:WorksheetOptions><x:DisplayGridlines/></x:WorksheetOptions></x:ExcelWorksheet></x:ExcelWorksheets></x:ExcelWorkbook></xml><![endif]--></head><body><table>{table}</table></body></html>'\n",
       "    , base64 = function(s) { return window.btoa(unescape(encodeURIComponent(s))) }\n",
       "    , format = function(s, c) { return s.replace(/{(\\w+)}/g, function(m, p) { return c[p]; }) }\n",
       "  return function(table, name) {\n",
       "    if (!table.nodeType) table = document.getElementById(table)\n",
       "    var ctx = {worksheet: name || 'Worksheet', table: table.innerHTML}\n",
       "    window.location.href = uri + base64(format(template, ctx))\n",
       "  }\n",
       "})()</script>\n",
       "<input type=\"button\" onclick=\"tableToExcel('10127', '<h2>Regress right left (834 training samples)</h2>')\" value=\"Export to Excel\">\n",
       "<table id=\"10127\" border=\"1\" class=\"dataframe\">\n",
       "  <thead>\n",
       "    <tr style=\"text-align: right;\">\n",
       "      <th>Model</th>\n",
       "      <th>Covariates</th>\n",
       "      <th>right: R2</th>\n",
       "      <th>right: MAE</th>\n",
       "      <th>right: MSE</th>\n",
       "      <th>left: R2</th>\n",
       "      <th>left: MAE</th>\n",
       "      <th>left: MSE</th>\n",
       "      <th>Samples</th>\n",
       "    </tr>\n",
       "  </thead>\n",
       "  <tbody>\n",
       "    <tr>\n",
       "      <td>Mean</td>\n",
       "      <td></td>\n",
       "      <td>0.000</td>\n",
       "      <td>8.811</td>\n",
       "      <td>122.517</td>\n",
       "      <td>0.000</td>\n",
       "      <td>9.114</td>\n",
       "      <td>131.486</td>\n",
       "      <td>834.000</td>\n",
       "    </tr>\n",
       "    <tr>\n",
       "      <td>Median</td>\n",
       "      <td></td>\n",
       "      <td>-0.026</td>\n",
       "      <td>8.678</td>\n",
       "      <td>125.677</td>\n",
       "      <td>-0.048</td>\n",
       "      <td>8.963</td>\n",
       "      <td>137.784</td>\n",
       "      <td>834.000</td>\n",
       "    </tr>\n",
       "    <tr>\n",
       "      <td>Ridge</td>\n",
       "      <td>Age</td>\n",
       "      <td>0.040</td>\n",
       "      <td>8.607</td>\n",
       "      <td>117.635</td>\n",
       "      <td>0.032</td>\n",
       "      <td>8.882</td>\n",
       "      <td>127.331</td>\n",
       "      <td>834.000</td>\n",
       "    </tr>\n",
       "    <tr>\n",
       "      <td>Ridge</td>\n",
       "      <td>Gender</td>\n",
       "      <td><b>0.427</b></td>\n",
       "      <td><b>6.491</b></td>\n",
       "      <td><b>70.229</b></td>\n",
       "      <td><b>0.440</b></td>\n",
       "      <td><b>6.623</b></td>\n",
       "      <td><b>73.687</b></td>\n",
       "      <td>834.000</td>\n",
       "    </tr>\n",
       "    <tr>\n",
       "      <td>Ridge</td>\n",
       "      <td>Ethnicity</td>\n",
       "      <td>0.018</td>\n",
       "      <td>8.677</td>\n",
       "      <td>120.370</td>\n",
       "      <td>0.001</td>\n",
       "      <td>9.069</td>\n",
       "      <td>131.356</td>\n",
       "      <td>834.000</td>\n",
       "    </tr>\n",
       "  </tbody>\n",
       "</table>"
      ],
      "text/plain": [
       "<IPython.core.display.HTML object>"
      ]
     },
     "metadata": {},
     "output_type": "display_data"
    }
   ],
   "source": [
    "base2 = baseregress.BaseRegress(targets)\n",
    "ekeys = ['facepheno.ethnic.EUR','facepheno.ethnic.AFR','facepheno.ethnic.SAS','facepheno.ethnic.AMR','facepheno.ethnic.EAS']\n",
    "base2.covariates['Ethnicity'] = ekeys\n",
    "base2.run(with_aggregate_covariates=False)\n",
    "base2.display()"
   ]
  },
  {
   "cell_type": "markdown",
   "metadata": {},
   "source": [
    "The results are almost the same as in [section 1](#sec1), but slightly different. Note that the number of samples is a little different, because the sets of subjects on which these different features have been computed are not exactly the same.\n",
    "\n",
    "You can also drop one of the standard covariates by setting it to an empty list:"
   ]
  },
  {
   "cell_type": "code",
   "execution_count": 20,
   "metadata": {
    "collapsed": false
   },
   "outputs": [
    {
     "data": {
      "text/html": [
       "<h2>Regress right left (837 training samples)</h2>"
      ],
      "text/plain": [
       "<IPython.core.display.HTML object>"
      ]
     },
     "metadata": {},
     "output_type": "display_data"
    },
    {
     "data": {
      "text/html": [
       "<style>.dataframe td { text-align: right; }</style><script>var tableToExcel = (function() {\n",
       "  var uri = 'data:application/vnd.ms-excel;base64,'\n",
       "    , template = '<html xmlns:o=\"urn:schemas-microsoft-com:office:office\" xmlns:x=\"urn:schemas-microsoft-com:office:excel\" xmlns=\"http://www.w3.org/TR/REC-html40\"><head><!--[if gte mso 9]><xml><x:ExcelWorkbook><x:ExcelWorksheets><x:ExcelWorksheet><x:Name>{worksheet}</x:Name><x:WorksheetOptions><x:DisplayGridlines/></x:WorksheetOptions></x:ExcelWorksheet></x:ExcelWorksheets></x:ExcelWorkbook></xml><![endif]--></head><body><table>{table}</table></body></html>'\n",
       "    , base64 = function(s) { return window.btoa(unescape(encodeURIComponent(s))) }\n",
       "    , format = function(s, c) { return s.replace(/{(\\w+)}/g, function(m, p) { return c[p]; }) }\n",
       "  return function(table, name) {\n",
       "    if (!table.nodeType) table = document.getElementById(table)\n",
       "    var ctx = {worksheet: name || 'Worksheet', table: table.innerHTML}\n",
       "    window.location.href = uri + base64(format(template, ctx))\n",
       "  }\n",
       "})()</script>\n",
       "<input type=\"button\" onclick=\"tableToExcel('19163', '<h2>Regress right left (837 training samples)</h2>')\" value=\"Export to Excel\">\n",
       "<table id=\"19163\" border=\"1\" class=\"dataframe\">\n",
       "  <thead>\n",
       "    <tr style=\"text-align: right;\">\n",
       "      <th>Model</th>\n",
       "      <th>Covariates</th>\n",
       "      <th>right: R2</th>\n",
       "      <th>right: MAE</th>\n",
       "      <th>right: MSE</th>\n",
       "      <th>left: R2</th>\n",
       "      <th>left: MAE</th>\n",
       "      <th>left: MSE</th>\n",
       "      <th>Samples</th>\n",
       "    </tr>\n",
       "  </thead>\n",
       "  <tbody>\n",
       "    <tr>\n",
       "      <td>Mean</td>\n",
       "      <td></td>\n",
       "      <td>0.000</td>\n",
       "      <td>8.791</td>\n",
       "      <td>122.127</td>\n",
       "      <td>0.000</td>\n",
       "      <td>9.091</td>\n",
       "      <td>131.068</td>\n",
       "      <td>837.000</td>\n",
       "    </tr>\n",
       "    <tr>\n",
       "      <td>Median</td>\n",
       "      <td></td>\n",
       "      <td>-0.026</td>\n",
       "      <td>8.658</td>\n",
       "      <td>125.268</td>\n",
       "      <td>-0.048</td>\n",
       "      <td>8.943</td>\n",
       "      <td>137.333</td>\n",
       "      <td>837.000</td>\n",
       "    </tr>\n",
       "    <tr>\n",
       "      <td>Ridge</td>\n",
       "      <td>Age</td>\n",
       "      <td>0.038</td>\n",
       "      <td>8.604</td>\n",
       "      <td>117.538</td>\n",
       "      <td>0.031</td>\n",
       "      <td>8.874</td>\n",
       "      <td>127.037</td>\n",
       "      <td>837.000</td>\n",
       "    </tr>\n",
       "    <tr>\n",
       "      <td>Ridge</td>\n",
       "      <td>Gender</td>\n",
       "      <td><b>0.427</b></td>\n",
       "      <td><b>6.479</b></td>\n",
       "      <td><b>69.981</b></td>\n",
       "      <td><b>0.438</b></td>\n",
       "      <td><b>6.621</b></td>\n",
       "      <td><b>73.611</b></td>\n",
       "      <td>837.000</td>\n",
       "    </tr>\n",
       "  </tbody>\n",
       "</table>"
      ],
      "text/plain": [
       "<IPython.core.display.HTML object>"
      ]
     },
     "metadata": {},
     "output_type": "display_data"
    }
   ],
   "source": [
    "base2 = baseregress.BaseRegress(targets)\n",
    "base2.covariates['Ethnicity'] = []\n",
    "base2.run(with_aggregate_covariates=False)\n",
    "base2.display()"
   ]
  },
  {
   "cell_type": "markdown",
   "metadata": {},
   "source": [
    "## 10. <a id='sec9'></a>Look at other information available after the test\n",
    "Printing a frame of information is a small part of the information you want from these tests."
   ]
  },
  {
   "cell_type": "code",
   "execution_count": 21,
   "metadata": {
    "collapsed": false
   },
   "outputs": [
    {
     "data": {
      "text/html": [
       "<h2>Regress right left (787 training samples)</h2>"
      ],
      "text/plain": [
       "<IPython.core.display.HTML object>"
      ]
     },
     "metadata": {},
     "output_type": "display_data"
    },
    {
     "data": {
      "text/html": [
       "<style>.dataframe td { text-align: right; }</style><script>var tableToExcel = (function() {\n",
       "  var uri = 'data:application/vnd.ms-excel;base64,'\n",
       "    , template = '<html xmlns:o=\"urn:schemas-microsoft-com:office:office\" xmlns:x=\"urn:schemas-microsoft-com:office:excel\" xmlns=\"http://www.w3.org/TR/REC-html40\"><head><!--[if gte mso 9]><xml><x:ExcelWorkbook><x:ExcelWorksheets><x:ExcelWorksheet><x:Name>{worksheet}</x:Name><x:WorksheetOptions><x:DisplayGridlines/></x:WorksheetOptions></x:ExcelWorksheet></x:ExcelWorksheets></x:ExcelWorkbook></xml><![endif]--></head><body><table>{table}</table></body></html>'\n",
       "    , base64 = function(s) { return window.btoa(unescape(encodeURIComponent(s))) }\n",
       "    , format = function(s, c) { return s.replace(/{(\\w+)}/g, function(m, p) { return c[p]; }) }\n",
       "  return function(table, name) {\n",
       "    if (!table.nodeType) table = document.getElementById(table)\n",
       "    var ctx = {worksheet: name || 'Worksheet', table: table.innerHTML}\n",
       "    window.location.href = uri + base64(format(template, ctx))\n",
       "  }\n",
       "})()</script>\n",
       "<input type=\"button\" onclick=\"tableToExcel('5805', '<h2>Regress right left (787 training samples)</h2>')\" value=\"Export to Excel\">\n",
       "<table id=\"5805\" border=\"1\" class=\"dataframe\">\n",
       "  <thead>\n",
       "    <tr style=\"text-align: right;\">\n",
       "      <th>Model</th>\n",
       "      <th>Covariates</th>\n",
       "      <th>right: R2</th>\n",
       "      <th>right: MAE</th>\n",
       "      <th>right: MSE</th>\n",
       "      <th>left: R2</th>\n",
       "      <th>left: MAE</th>\n",
       "      <th>left: MSE</th>\n",
       "      <th>Samples</th>\n",
       "    </tr>\n",
       "  </thead>\n",
       "  <tbody>\n",
       "    <tr>\n",
       "      <td>Mean</td>\n",
       "      <td></td>\n",
       "      <td>0.000</td>\n",
       "      <td>8.797</td>\n",
       "      <td>122.121</td>\n",
       "      <td>0.000</td>\n",
       "      <td>9.095</td>\n",
       "      <td>130.153</td>\n",
       "      <td>787.000</td>\n",
       "    </tr>\n",
       "    <tr>\n",
       "      <td>Median</td>\n",
       "      <td></td>\n",
       "      <td>-0.026</td>\n",
       "      <td>8.660</td>\n",
       "      <td>125.324</td>\n",
       "      <td>-0.056</td>\n",
       "      <td>8.930</td>\n",
       "      <td>137.436</td>\n",
       "      <td>787.000</td>\n",
       "    </tr>\n",
       "    <tr>\n",
       "      <td>Ridge</td>\n",
       "      <td>Age</td>\n",
       "      <td>0.038</td>\n",
       "      <td>8.594</td>\n",
       "      <td>117.509</td>\n",
       "      <td>0.028</td>\n",
       "      <td>8.864</td>\n",
       "      <td>126.496</td>\n",
       "      <td>787.000</td>\n",
       "    </tr>\n",
       "    <tr>\n",
       "      <td>Ridge</td>\n",
       "      <td>Gender</td>\n",
       "      <td><b>0.424</b></td>\n",
       "      <td><b>6.473</b></td>\n",
       "      <td><b>70.352</b></td>\n",
       "      <td><b>0.437</b></td>\n",
       "      <td><b>6.579</b></td>\n",
       "      <td><b>73.251</b></td>\n",
       "      <td>787.000</td>\n",
       "    </tr>\n",
       "    <tr>\n",
       "      <td>Ridge</td>\n",
       "      <td>Ethnicity</td>\n",
       "      <td>0.021</td>\n",
       "      <td>8.645</td>\n",
       "      <td>119.539</td>\n",
       "      <td>0.007</td>\n",
       "      <td>9.010</td>\n",
       "      <td>129.305</td>\n",
       "      <td>787.000</td>\n",
       "    </tr>\n",
       "    <tr>\n",
       "      <td>Ridge</td>\n",
       "      <td>eyecolor</td>\n",
       "      <td>0.014</td>\n",
       "      <td>8.661</td>\n",
       "      <td>120.378</td>\n",
       "      <td>0.004</td>\n",
       "      <td>9.060</td>\n",
       "      <td>129.687</td>\n",
       "      <td>787.000</td>\n",
       "    </tr>\n",
       "    <tr>\n",
       "      <td>Ridge</td>\n",
       "      <td>size</td>\n",
       "      <td>0.400</td>\n",
       "      <td>6.616</td>\n",
       "      <td>73.274</td>\n",
       "      <td>0.349</td>\n",
       "      <td>7.118</td>\n",
       "      <td>84.715</td>\n",
       "      <td>787.000</td>\n",
       "    </tr>\n",
       "  </tbody>\n",
       "</table>"
      ],
      "text/plain": [
       "<IPython.core.display.HTML object>"
      ]
     },
     "metadata": {},
     "output_type": "display_data"
    }
   ],
   "source": [
    "base = baseregress.BaseRegress(targets)\n",
    "\n",
    "base.covariates['size'] = size\n",
    "base.covariates['eyecolor'] = eyecolor\n",
    "\n",
    "base.run(with_aggregate_covariates=False)\n",
    "base.display()"
   ]
  },
  {
   "cell_type": "code",
   "execution_count": 22,
   "metadata": {
    "collapsed": false
   },
   "outputs": [
    {
     "data": {
      "text/plain": [
       "['facepheno.height', 'dynamic.FACE.pheno.v1.bmi']"
      ]
     },
     "execution_count": 22,
     "metadata": {},
     "output_type": "execute_result"
    }
   ],
   "source": [
    "# What are the features for one of the covariates?\n",
    "base.covariates['size']"
   ]
  },
  {
   "cell_type": "markdown",
   "metadata": {},
   "source": [
    "For each combination of covariate set, target and estimator, the tool provides an instance of the EvaluationRegression class, and an instance of the CrossValidationRegression class. You can use these to access information about the regressions, plot the results, pull out estimators, and so on.\n",
    "\n",
    "To access these objects you need a key, which is a 3-tuple with these elements:\n",
    "\n",
    "1. The name of the covariate set.\n",
    "2. The name of the target. If you did not use target names, like right and left in these examples, it is just the full name of the column in Rosetta or in your data frame.\n",
    "3. The index of the estimator. If you did not specify estimators for the covariate set, just use 0."
   ]
  },
  {
   "cell_type": "code",
   "execution_count": 23,
   "metadata": {
    "collapsed": false
   },
   "outputs": [
    {
     "data": {
      "text/plain": [
       "7.118466353673659"
      ]
     },
     "execution_count": 23,
     "metadata": {},
     "output_type": "execute_result"
    }
   ],
   "source": [
    "# The evaluator exposes regression information in a more usable form\n",
    "evalsize = base.evaluators[('size', 'left', 0)]\n",
    "evalsize.mae"
   ]
  },
  {
   "cell_type": "code",
   "execution_count": 24,
   "metadata": {
    "collapsed": false
   },
   "outputs": [
    {
     "name": "stderr",
     "output_type": "stream",
     "text": [
      "/home/pgarst/tools/anaconda/lib/python2.7/site-packages/matplotlib/collections.py:590: FutureWarning: elementwise comparison failed; returning scalar instead, but in the future will perform elementwise comparison\n",
      "  if self._edgecolors == str('face'):\n"
     ]
    },
    {
     "data": {
      "image/png": "[encoded data removed]",
      "text/plain": [
       "<matplotlib.figure.Figure at 0x7f6604a170d0>"
      ]
     },
     "metadata": {},
     "output_type": "display_data"
    }
   ],
   "source": [
    "# Plot the results\n",
    "cvsize = base.cv[('size', 'left', 0)]\n",
    "cvsize.plot_observed_vs_predicted(plt.gca(), 'left')"
   ]
  },
  {
   "cell_type": "markdown",
   "metadata": {},
   "source": [
    "See the other ML documentation for more information on what you can do with these two objects.\n",
    "\n",
    "These classes also expose the data frame containing all the information you specified. You may have taken some information from Rosetta and passed in several frames of other information. It is all gathered together in a single frame, which you may want to use for other things:"
   ]
  },
  {
   "cell_type": "code",
   "execution_count": 25,
   "metadata": {
    "collapsed": false
   },
   "outputs": [
    {
     "data": {
      "text/html": [
       "<div>\n",
       "<table border=\"1\" class=\"dataframe\">\n",
       "  <thead>\n",
       "    <tr style=\"text-align: right;\">\n",
       "      <th></th>\n",
       "      <th>ds.index.sample_key</th>\n",
       "      <th>dynamic.FACE_P.age.v1.value</th>\n",
       "      <th>dynamic.FACE_P.gender.v1.value</th>\n",
       "      <th>dynamic.FACE.eyecolor.v1_visit1.a</th>\n",
       "      <th>dynamic.FACE.eyecolor.v1_visit1.b</th>\n",
       "      <th>dynamic.FACE.eyecolor.v1_visit1.l</th>\n",
       "      <th>dynamic.FACE.genome.v1.pc1</th>\n",
       "      <th>dynamic.FACE.genome.v1.pc2</th>\n",
       "      <th>dynamic.FACE.genome.v1.pc3</th>\n",
       "      <th>dynamic.FACE.pheno.v1.bmi</th>\n",
       "      <th>facepheno.hand.strength.left.m1</th>\n",
       "      <th>facepheno.hand.strength.right.m1</th>\n",
       "      <th>facepheno.height</th>\n",
       "    </tr>\n",
       "  </thead>\n",
       "  <tbody>\n",
       "    <tr>\n",
       "      <th>564a5702c37a453053964dc1</th>\n",
       "      <td>10002_187525485</td>\n",
       "      <td>31.394947</td>\n",
       "      <td>1</td>\n",
       "      <td>NaN</td>\n",
       "      <td>NaN</td>\n",
       "      <td>NaN</td>\n",
       "      <td>43.919011</td>\n",
       "      <td>-3.060409</td>\n",
       "      <td>2.131777</td>\n",
       "      <td>-0.603972</td>\n",
       "      <td>36</td>\n",
       "      <td>28</td>\n",
       "      <td>175.00</td>\n",
       "    </tr>\n",
       "    <tr>\n",
       "      <th>564a5702c37a453053964db0</th>\n",
       "      <td>10342_187522718</td>\n",
       "      <td>30.792928</td>\n",
       "      <td>0</td>\n",
       "      <td>NaN</td>\n",
       "      <td>NaN</td>\n",
       "      <td>NaN</td>\n",
       "      <td>48.986257</td>\n",
       "      <td>-3.005505</td>\n",
       "      <td>-0.554261</td>\n",
       "      <td>-0.162251</td>\n",
       "      <td>48</td>\n",
       "      <td>45</td>\n",
       "      <td>177.80</td>\n",
       "    </tr>\n",
       "    <tr>\n",
       "      <th>564a5703c37a453053964f66</th>\n",
       "      <td>9312_187522789</td>\n",
       "      <td>26.788080</td>\n",
       "      <td>0</td>\n",
       "      <td>3.8109</td>\n",
       "      <td>2.7675</td>\n",
       "      <td>30.0927</td>\n",
       "      <td>47.179242</td>\n",
       "      <td>-3.379581</td>\n",
       "      <td>1.802628</td>\n",
       "      <td>NaN</td>\n",
       "      <td>35</td>\n",
       "      <td>38</td>\n",
       "      <td>180.34</td>\n",
       "    </tr>\n",
       "    <tr>\n",
       "      <th>564a5702c37a453053964d1c</th>\n",
       "      <td>10592_187526015</td>\n",
       "      <td>41.979754</td>\n",
       "      <td>1</td>\n",
       "      <td>NaN</td>\n",
       "      <td>NaN</td>\n",
       "      <td>NaN</td>\n",
       "      <td>43.580492</td>\n",
       "      <td>-1.489740</td>\n",
       "      <td>1.143202</td>\n",
       "      <td>-0.357165</td>\n",
       "      <td>34</td>\n",
       "      <td>34</td>\n",
       "      <td>159.00</td>\n",
       "    </tr>\n",
       "    <tr>\n",
       "      <th>564a5703c37a453053964dfa</th>\n",
       "      <td>12122_176444177</td>\n",
       "      <td>52.407211</td>\n",
       "      <td>0</td>\n",
       "      <td>NaN</td>\n",
       "      <td>NaN</td>\n",
       "      <td>NaN</td>\n",
       "      <td>-1.957145</td>\n",
       "      <td>20.539464</td>\n",
       "      <td>5.644410</td>\n",
       "      <td>-0.415386</td>\n",
       "      <td>44</td>\n",
       "      <td>50</td>\n",
       "      <td>167.00</td>\n",
       "    </tr>\n",
       "  </tbody>\n",
       "</table>\n",
       "</div>"
      ],
      "text/plain": [
       "                         ds.index.sample_key  dynamic.FACE_P.age.v1.value  \\\n",
       "564a5702c37a453053964dc1     10002_187525485                    31.394947   \n",
       "564a5702c37a453053964db0     10342_187522718                    30.792928   \n",
       "564a5703c37a453053964f66      9312_187522789                    26.788080   \n",
       "564a5702c37a453053964d1c     10592_187526015                    41.979754   \n",
       "564a5703c37a453053964dfa     12122_176444177                    52.407211   \n",
       "\n",
       "                          dynamic.FACE_P.gender.v1.value  \\\n",
       "564a5702c37a453053964dc1                               1   \n",
       "564a5702c37a453053964db0                               0   \n",
       "564a5703c37a453053964f66                               0   \n",
       "564a5702c37a453053964d1c                               1   \n",
       "564a5703c37a453053964dfa                               0   \n",
       "\n",
       "                          dynamic.FACE.eyecolor.v1_visit1.a  \\\n",
       "564a5702c37a453053964dc1                                NaN   \n",
       "564a5702c37a453053964db0                                NaN   \n",
       "564a5703c37a453053964f66                             3.8109   \n",
       "564a5702c37a453053964d1c                                NaN   \n",
       "564a5703c37a453053964dfa                                NaN   \n",
       "\n",
       "                          dynamic.FACE.eyecolor.v1_visit1.b  \\\n",
       "564a5702c37a453053964dc1                                NaN   \n",
       "564a5702c37a453053964db0                                NaN   \n",
       "564a5703c37a453053964f66                             2.7675   \n",
       "564a5702c37a453053964d1c                                NaN   \n",
       "564a5703c37a453053964dfa                                NaN   \n",
       "\n",
       "                          dynamic.FACE.eyecolor.v1_visit1.l  \\\n",
       "564a5702c37a453053964dc1                                NaN   \n",
       "564a5702c37a453053964db0                                NaN   \n",
       "564a5703c37a453053964f66                            30.0927   \n",
       "564a5702c37a453053964d1c                                NaN   \n",
       "564a5703c37a453053964dfa                                NaN   \n",
       "\n",
       "                          dynamic.FACE.genome.v1.pc1  \\\n",
       "564a5702c37a453053964dc1                   43.919011   \n",
       "564a5702c37a453053964db0                   48.986257   \n",
       "564a5703c37a453053964f66                   47.179242   \n",
       "564a5702c37a453053964d1c                   43.580492   \n",
       "564a5703c37a453053964dfa                   -1.957145   \n",
       "\n",
       "                          dynamic.FACE.genome.v1.pc2  \\\n",
       "564a5702c37a453053964dc1                   -3.060409   \n",
       "564a5702c37a453053964db0                   -3.005505   \n",
       "564a5703c37a453053964f66                   -3.379581   \n",
       "564a5702c37a453053964d1c                   -1.489740   \n",
       "564a5703c37a453053964dfa                   20.539464   \n",
       "\n",
       "                          dynamic.FACE.genome.v1.pc3  \\\n",
       "564a5702c37a453053964dc1                    2.131777   \n",
       "564a5702c37a453053964db0                   -0.554261   \n",
       "564a5703c37a453053964f66                    1.802628   \n",
       "564a5702c37a453053964d1c                    1.143202   \n",
       "564a5703c37a453053964dfa                    5.644410   \n",
       "\n",
       "                          dynamic.FACE.pheno.v1.bmi  \\\n",
       "564a5702c37a453053964dc1                  -0.603972   \n",
       "564a5702c37a453053964db0                  -0.162251   \n",
       "564a5703c37a453053964f66                        NaN   \n",
       "564a5702c37a453053964d1c                  -0.357165   \n",
       "564a5703c37a453053964dfa                  -0.415386   \n",
       "\n",
       "                          facepheno.hand.strength.left.m1  \\\n",
       "564a5702c37a453053964dc1                               36   \n",
       "564a5702c37a453053964db0                               48   \n",
       "564a5703c37a453053964f66                               35   \n",
       "564a5702c37a453053964d1c                               34   \n",
       "564a5703c37a453053964dfa                               44   \n",
       "\n",
       "                          facepheno.hand.strength.right.m1  facepheno.height  \n",
       "564a5702c37a453053964dc1                                28            175.00  \n",
       "564a5702c37a453053964db0                                45            177.80  \n",
       "564a5703c37a453053964f66                                38            180.34  \n",
       "564a5702c37a453053964d1c                                34            159.00  \n",
       "564a5703c37a453053964dfa                                50            167.00  "
      ]
     },
     "execution_count": 25,
     "metadata": {},
     "output_type": "execute_result"
    }
   ],
   "source": [
    "base.dataframe.head()"
   ]
  },
  {
   "cell_type": "markdown",
   "metadata": {
    "collapsed": true
   },
   "source": [
    "## 11. <a id='sec10'></a>Shuffle tests\n",
    "The library provides another tool for analyzing estimators. There is a shuffleRegress function which runs repeated regression tests for a given estimator and data set, with different random splits between training and test subsets. This allows you to collect statistics on the modeling, for example to get variance of the the error estimates, or to estimate a training curve.\n",
    "\n",
    "In this example we first have some eye model boiler plate. Refer to the eye color notebook to explain the details. The point is that we are lining up the elements we need:\n",
    "\n",
    "1. A set of covariates for the model.\n",
    "2. A target for the model.\n",
    "3. An estimator.\n",
    "4. A data frame containing the covariates and the target."
   ]
  },
  {
   "cell_type": "code",
   "execution_count": 26,
   "metadata": {
    "collapsed": false
   },
   "outputs": [],
   "source": [
    "import face.eyecolor.eyedata as eyedata\n",
    "reload(eyedata)\n",
    "import datastack.ml.shuffletest as shuffletest\n",
    "data = eyedata.EyeData()\n",
    "target = data.eyeval1[2]\n",
    "covariates = data.getFeat(['mushsnps'], True)\n",
    "cols = ['ds.index.sample_key', target] + covariates\n",
    "frame = data.ndata[cols].dropna()\n",
    "estimator = linear_model.Ridge()"
   ]
  },
  {
   "cell_type": "markdown",
   "metadata": {},
   "source": [
    "Now that we have the ingredients in hand we run the shuffle test."
   ]
  },
  {
   "cell_type": "code",
   "execution_count": 27,
   "metadata": {
    "collapsed": false
   },
   "outputs": [
    {
     "data": {
      "text/plain": [
       "{'mae': [2.3371927827307859, 2.3328788093379922, 0.21037404640778334, 872],\n",
       " 'mse': [10.023465645664469, 9.7734012220806292, 2.1799404690602069, 872],\n",
       " 'r2': [0.33671287479109868, 0.34941854110177212, 0.12082295699754902, 872]}"
      ]
     },
     "execution_count": 27,
     "metadata": {},
     "output_type": "execute_result"
    }
   ],
   "source": [
    "result = shuffletest.shuffleRegress(estimator, covariates, target, frame)\n",
    "result"
   ]
  },
  {
   "cell_type": "markdown",
   "metadata": {},
   "source": [
    "For each of the criteria - mae, mse and r2 - we get the mean value, the median value, the standard deviation and the training set size.\n",
    "\n",
    "As an example of what we can do with this, let's look at error rates for different size training sets. The function takes a \"frac\" parameter for the fraction of the data to put into the training set."
   ]
  },
  {
   "cell_type": "code",
   "execution_count": 28,
   "metadata": {
    "collapsed": true
   },
   "outputs": [],
   "source": [
    "points = np.arange(0.2, 0.91, 0.02)\n",
    "curve = [shuffletest.shuffleRegress(estimator, covariates, target, frame, frac=p)['r2'] for p in points]"
   ]
  },
  {
   "cell_type": "markdown",
   "metadata": {},
   "source": [
    "Note that we are taking the r2 part of the results.\n",
    "\n",
    "Each point represents a different size training set, and we get a list including mean r2 value, median r2 value, the standard deviation in the r2 values, and the training set size.\n",
    "\n",
    "By plotting median r2 against the training set size we can see how many points we need to train this particular model."
   ]
  },
  {
   "cell_type": "code",
   "execution_count": 29,
   "metadata": {
    "collapsed": false
   },
   "outputs": [
    {
     "data": {
      "image/png": "[encoded data removed]",
      "text/plain": [
       "<matplotlib.figure.Figure at 0x7f65ea5ee790>"
      ]
     },
     "metadata": {},
     "output_type": "display_data"
    }
   ],
   "source": [
    "x = [c[3] for c in curve]\n",
    "y = [c[1] for c in curve]\n",
    "plt.scatter(x, y)\n",
    "plt.xlabel('Training set size')\n",
    "plt.ylabel('Median R2')\n",
    "plt.show()"
   ]
  },
  {
   "cell_type": "code",
   "execution_count": null,
   "metadata": {
    "collapsed": true
   },
   "outputs": [],
   "source": []
  }
 ],
 "metadata": {
  "kernelspec": {
   "display_name": "Python 2",
   "language": "python",
   "name": "python2"
  },
  "language_info": {
   "codemirror_mode": {
    "name": "ipython",
    "version": 2
   },
   "file_extension": ".py",
   "mimetype": "text/x-python",
   "name": "python",
   "nbconvert_exporter": "python",
   "pygments_lexer": "ipython2",
   "version": "2.7.11"
  }
 },
 "nbformat": 4,
 "nbformat_minor": 0
}
