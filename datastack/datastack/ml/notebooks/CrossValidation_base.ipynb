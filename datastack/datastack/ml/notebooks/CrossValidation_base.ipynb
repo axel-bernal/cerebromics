{
 "cells": [
  {
   "cell_type": "markdown",
   "metadata": {},
   "source": [
    "# Cross validation and train test split example"
   ]
  },
  {
   "cell_type": "markdown",
   "metadata": {},
   "source": [
    "This example notebook is still int works. But we are going to show an example for a regression problem and one example of a classification problem and how to implement these in datastack.ml.\n",
    "\n",
    "What is still missing is an example on how to evaluate these prediction algorithms on the held out test data."
   ]
  },
  {
   "cell_type": "markdown",
   "metadata": {},
   "source": [
    "### Setting up the imports:"
   ]
  },
  {
   "cell_type": "code",
   "execution_count": 1,
   "metadata": {
    "collapsed": false
   },
   "outputs": [],
   "source": [
    "%matplotlib inline\n",
    "import seaborn as sns\n",
    "import pylab as plt\n",
    "import pandas as pd\n",
    "import numpy as np\n",
    "import datastack\n",
    "from datastack.dbs import rdb as rosetta"
   ]
  },
  {
   "cell_type": "markdown",
   "metadata": {},
   "source": [
    "The code that we are demoing here:"
   ]
  },
  {
   "cell_type": "code",
   "execution_count": 2,
   "metadata": {
    "collapsed": true
   },
   "outputs": [],
   "source": [
    "import datastack.ml.cross_validation as cross_validation"
   ]
  },
  {
   "cell_type": "markdown",
   "metadata": {},
   "source": [
    "We have to set up an RosettaDB connection and initialize it."
   ]
  },
  {
   "cell_type": "code",
   "execution_count": 3,
   "metadata": {
    "collapsed": true
   },
   "outputs": [],
   "source": [
    "rdb = rosetta.RosettaDBMongo(host=\"rosetta.hli.io\")\n",
    "rdb.initialize(version=\"1439096023\")"
   ]
  },
  {
   "cell_type": "markdown",
   "metadata": {},
   "source": [
    "### Preparing a query for the experimental data"
   ]
  },
  {
   "cell_type": "code",
   "execution_count": 4,
   "metadata": {
    "collapsed": false
   },
   "outputs": [],
   "source": [
    "filters = {}\n",
    "filters[\"pheno.HLI_CALC_Age_Sample_Taken\"]     = (65, \"<=\")\n",
    "\n",
    "keys    =  []\n",
    "keys   +=  [\"bamlist.BAM\"]\n",
    "keys   +=  [\"pheno.HLI_CALC_Age_Sample_Taken\"]\n",
    "keys += ['pheno.face.hand_strength_left_m%i' % i for i in xrange(1,4)]\n",
    "keys += ['pheno.face.hand_strength_right_m%i' % i for i in xrange(1,4)]\n",
    "keys += ['facepheno.Sex']\n",
    "\n",
    "studies = ['FACE']"
   ]
  },
  {
   "cell_type": "markdown",
   "metadata": {},
   "source": [
    "### Preparing the KFoldPredefined object\n",
    "Our internal cross validation object is derived from the sklearn.KFold and has the same derived functionalities, so if you are familar with that, you can use it as you are used to.\n",
    "\n",
    "The object takes either an rdb connection (rdb) or a DataFrame (data) to query for the data specified in filters, keys and studies above.\n",
    "\n",
    "By default it performs a 10 fold cross validation on 5/6th of the data. The split assignments are pre-determined by the 'qc.sample_id' of the corresponding row in Rosetta, thereby yielind consistent splits. Note that the splits are not exaxtly of equal size.\n",
    "If you are using this object from a DataFrame, it needs to have the field 'qc.sample_id' specified to work."
   ]
  },
  {
   "cell_type": "code",
   "execution_count": 5,
   "metadata": {
    "collapsed": false
   },
   "outputs": [],
   "source": [
    "#create KFoldPredefined object from rdb object\n",
    "kfolds = cross_validation.KFoldPredefined(rdb=rdb, data=None, keys=keys, filters=filters, studies=studies)"
   ]
  },
  {
   "cell_type": "markdown",
   "metadata": {},
   "source": [
    "Internally, KFoldPredefined instance stores the query in two member DataFrame named df and df_all.\n",
    "If we look at the size of kfolds.df, we see that it only contains roughly 5/6th of the data, as mentioned above, whereas kfolds.df_all holds all the rows.\n",
    "\n",
    "Note that none of the code demoed here uses the additional rows in kfold.df_all. This allows us to use these \"fresh\" data at a later point for validation purposes."
   ]
  },
  {
   "cell_type": "code",
   "execution_count": 6,
   "metadata": {
    "collapsed": false
   },
   "outputs": [
    {
     "name": "stdout",
     "output_type": "stream",
     "text": [
      "kfolds.df has 826 rows and 11 columns.\n",
      "kfolds.df_all has 1014 rows and 11 columns.\n",
      "kfolds.df contains 81.46 percent of the data available for training purposes.\n"
     ]
    },
    {
     "data": {
      "text/html": [
       "<div>\n",
       "<table border=\"1\" class=\"dataframe\">\n",
       "  <thead>\n",
       "    <tr style=\"text-align: right;\">\n",
       "      <th></th>\n",
       "      <th>bamlist.BAM</th>\n",
       "      <th>facepheno.Sex</th>\n",
       "      <th>pheno.HLI_CALC_Age_Sample_Taken</th>\n",
       "      <th>pheno.face.hand_strength_left_m1</th>\n",
       "      <th>pheno.face.hand_strength_left_m2</th>\n",
       "      <th>pheno.face.hand_strength_left_m3</th>\n",
       "      <th>pheno.face.hand_strength_right_m1</th>\n",
       "      <th>pheno.face.hand_strength_right_m2</th>\n",
       "      <th>pheno.face.hand_strength_right_m3</th>\n",
       "      <th>qc.sample_key</th>\n",
       "      <th>ml.fold</th>\n",
       "    </tr>\n",
       "  </thead>\n",
       "  <tbody>\n",
       "    <tr>\n",
       "      <th>55c6fddbc37a457d277112c0</th>\n",
       "      <td>hli-processed/processed/10042/isis_alignment_a...</td>\n",
       "      <td>Female</td>\n",
       "      <td>19</td>\n",
       "      <td>28</td>\n",
       "      <td>28</td>\n",
       "      <td>26</td>\n",
       "      <td>28</td>\n",
       "      <td>22</td>\n",
       "      <td>22</td>\n",
       "      <td>10042_187525491</td>\n",
       "      <td>2</td>\n",
       "    </tr>\n",
       "    <tr>\n",
       "      <th>55c6fddbc37a457d277112cc</th>\n",
       "      <td>hli-processed/processed/10072/isis_alignment_a...</td>\n",
       "      <td>Female</td>\n",
       "      <td>27</td>\n",
       "      <td>45</td>\n",
       "      <td>36</td>\n",
       "      <td>34</td>\n",
       "      <td>47</td>\n",
       "      <td>36</td>\n",
       "      <td>34</td>\n",
       "      <td>10072_187525469</td>\n",
       "      <td>0</td>\n",
       "    </tr>\n",
       "    <tr>\n",
       "      <th>55c6fddbc37a457d277112db</th>\n",
       "      <td>hli-processed/processed/10312/isis_alignment_a...</td>\n",
       "      <td>Male</td>\n",
       "      <td>20</td>\n",
       "      <td>48</td>\n",
       "      <td>46</td>\n",
       "      <td>44</td>\n",
       "      <td>50</td>\n",
       "      <td>40</td>\n",
       "      <td>36</td>\n",
       "      <td>10312_187522730</td>\n",
       "      <td>7</td>\n",
       "    </tr>\n",
       "  </tbody>\n",
       "</table>\n",
       "</div>"
      ],
      "text/plain": [
       "                                                                bamlist.BAM  \\\n",
       "55c6fddbc37a457d277112c0  hli-processed/processed/10042/isis_alignment_a...   \n",
       "55c6fddbc37a457d277112cc  hli-processed/processed/10072/isis_alignment_a...   \n",
       "55c6fddbc37a457d277112db  hli-processed/processed/10312/isis_alignment_a...   \n",
       "\n",
       "                         facepheno.Sex  pheno.HLI_CALC_Age_Sample_Taken  \\\n",
       "55c6fddbc37a457d277112c0        Female                               19   \n",
       "55c6fddbc37a457d277112cc        Female                               27   \n",
       "55c6fddbc37a457d277112db          Male                               20   \n",
       "\n",
       "                          pheno.face.hand_strength_left_m1  \\\n",
       "55c6fddbc37a457d277112c0                                28   \n",
       "55c6fddbc37a457d277112cc                                45   \n",
       "55c6fddbc37a457d277112db                                48   \n",
       "\n",
       "                          pheno.face.hand_strength_left_m2  \\\n",
       "55c6fddbc37a457d277112c0                                28   \n",
       "55c6fddbc37a457d277112cc                                36   \n",
       "55c6fddbc37a457d277112db                                46   \n",
       "\n",
       "                          pheno.face.hand_strength_left_m3  \\\n",
       "55c6fddbc37a457d277112c0                                26   \n",
       "55c6fddbc37a457d277112cc                                34   \n",
       "55c6fddbc37a457d277112db                                44   \n",
       "\n",
       "                          pheno.face.hand_strength_right_m1  \\\n",
       "55c6fddbc37a457d277112c0                                 28   \n",
       "55c6fddbc37a457d277112cc                                 47   \n",
       "55c6fddbc37a457d277112db                                 50   \n",
       "\n",
       "                          pheno.face.hand_strength_right_m2  \\\n",
       "55c6fddbc37a457d277112c0                                 22   \n",
       "55c6fddbc37a457d277112cc                                 36   \n",
       "55c6fddbc37a457d277112db                                 40   \n",
       "\n",
       "                          pheno.face.hand_strength_right_m3    qc.sample_key  \\\n",
       "55c6fddbc37a457d277112c0                                 22  10042_187525491   \n",
       "55c6fddbc37a457d277112cc                                 34  10072_187525469   \n",
       "55c6fddbc37a457d277112db                                 36  10312_187522730   \n",
       "\n",
       "                          ml.fold  \n",
       "55c6fddbc37a457d277112c0        2  \n",
       "55c6fddbc37a457d277112cc        0  \n",
       "55c6fddbc37a457d277112db        7  "
      ]
     },
     "execution_count": 6,
     "metadata": {},
     "output_type": "execute_result"
    }
   ],
   "source": [
    "print \"kfolds.df has %i rows and %i columns.\"% kfolds.df.shape\n",
    "print \"kfolds.df_all has %i rows and %i columns.\"% kfolds.df_all.shape\n",
    "print \"kfolds.df contains %.2f percent of the data available for training purposes.\" % (100.0 * kfolds.df.shape[0]/ kfolds.df_all.shape[0])\n",
    "kfolds.df[0:3]"
   ]
  },
  {
   "cell_type": "markdown",
   "metadata": {},
   "source": [
    "## Using kfolds to evaluate basic ML algorithms.\n",
    "\n",
    "In the next section we are going to look at how to use the kfolds object to evaluate basic ML algorithms.\n",
    "We have implemented a cross-validated ridge gression as a baseline model for regression and a cross-validated logistic regression as a baseline for classification, as well as some extremely naive baseline models described below.\n",
    "\n",
    "If youa re familiar with how the train test splitting mechanism of scikit learn works, you can go ahead and use kfolds just the way you are used to.\n",
    "\n",
    "However, we should always run these baseline models, to set any result of a potentially more complex models into perspective."
   ]
  },
  {
   "cell_type": "markdown",
   "metadata": {},
   "source": [
    "## Classification example\n",
    "The first example is a classification example, predicting sex from hand strength.\n",
    "\n",
    "### Cross validated (ridge) logistic regression\n",
    "The code will run a ten fold cross validation on the training data.\n",
    "\n",
    "In each of five cross validation loops, the model minimizes the training logistic loss given on the training data.\n",
    "\\begin{equation}\n",
    "  \\min_\\beta \\underbrace{\\sum_{n=1}^{N}\\sum_{c=1}^{C} - p_{true}(y_n=c) \\cdot \\log\\left( \\text{logit}^{-1}(X_n\\beta) \\right)}_{\n",
    "  \\text{LogLoss}} +\\underbrace{\\alpha \\|\\beta\\|^2_2}_{\\text{ridge}}\n",
    "\\end{equation}\n",
    "\n",
    "This model has $\\alpha$ as a parameter, which is chosen in an inner 5 fold cross validation loop. Given the best $\\alpha$, the model is re-fitted using the complete training data."
   ]
  },
  {
   "cell_type": "markdown",
   "metadata": {},
   "source": [
    "### Setting up the glue code and evaluating the models\n",
    "We need to provide a function that takes the dataframe in kfolds and extracts the input matrix $X$ as well as the output vector $y$ for the classification problem. Here we also perform a transformation to the original columns, as we use mean hand strength instead of hand strength alone."
   ]
  },
  {
   "cell_type": "code",
   "execution_count": 7,
   "metadata": {
    "collapsed": false
   },
   "outputs": [],
   "source": [
    "#define xy_generator:\n",
    "def get_meanhandstrength_and_sex(pheno_df):\n",
    "    keys_left = ['pheno.face.hand_strength_left_m%i' % i for i in xrange(1,4)]\n",
    "    keys_right = ['pheno.face.hand_strength_right_m%i' % i for i in xrange(1,4)]\n",
    "    mean_left = pheno_df[keys_left].mean(1)\n",
    "    mean_right = pheno_df[keys_right].mean(1)\n",
    "    X = pd.DataFrame(data={\"left\": mean_left, \"right\": mean_right})\n",
    "    return (X, pheno_df['facepheno.Sex']) "
   ]
  },
  {
   "cell_type": "markdown",
   "metadata": {},
   "source": [
    "The model is evaluated by creating an instance of EvaluationClassification that uses the xy_generator function and kfolds."
   ]
  },
  {
   "cell_type": "code",
   "execution_count": 8,
   "metadata": {
    "collapsed": false
   },
   "outputs": [],
   "source": [
    "result_classification = cross_validation.EvaluationClassification(xy_generator=get_meanhandstrength_and_sex, kfolds=kfolds)"
   ]
  },
  {
   "cell_type": "markdown",
   "metadata": {},
   "source": [
    "The simple baseline models are evaluated by creating an instance of EvaluationClassificationBaseline. Instead of xy_generator, the baseline class takes the column name of the target."
   ]
  },
  {
   "cell_type": "code",
   "execution_count": 9,
   "metadata": {
    "collapsed": false
   },
   "outputs": [],
   "source": [
    "baseline_classification = cross_validation.EvaluationClassificationBaseline(target=\"facepheno.Sex\", kfolds=kfolds)"
   ]
  },
  {
   "cell_type": "markdown",
   "metadata": {},
   "source": [
    "### Evaluation metrics for classification\n",
    "The model evaluates various metrics via 10 fold cross validation. We obtain the metrics below by calling the member function .get_metrics()."
   ]
  },
  {
   "cell_type": "code",
   "execution_count": 10,
   "metadata": {
    "collapsed": false
   },
   "outputs": [
    {
     "data": {
      "text/html": [
       "<div>\n",
       "<table border=\"1\" class=\"dataframe\">\n",
       "  <thead>\n",
       "    <tr style=\"text-align: right;\">\n",
       "      <th></th>\n",
       "      <th>Model</th>\n",
       "      <th>Covariates</th>\n",
       "      <th>Error</th>\n",
       "      <th>LogLoss</th>\n",
       "    </tr>\n",
       "  </thead>\n",
       "  <tbody>\n",
       "    <tr>\n",
       "      <th>0</th>\n",
       "      <td>LogisticRegression</td>\n",
       "      <td>[left, right]</td>\n",
       "      <td>0.144068</td>\n",
       "      <td>0.371264</td>\n",
       "    </tr>\n",
       "    <tr>\n",
       "      <th>0</th>\n",
       "      <td>ModeClass ['Female']</td>\n",
       "      <td>[]</td>\n",
       "      <td>0.412833</td>\n",
       "      <td>0.677873</td>\n",
       "    </tr>\n",
       "  </tbody>\n",
       "</table>\n",
       "</div>"
      ],
      "text/plain": [
       "                  Model     Covariates     Error   LogLoss\n",
       "0    LogisticRegression  [left, right]  0.144068  0.371264\n",
       "0  ModeClass ['Female']             []  0.412833  0.677873"
      ]
     },
     "execution_count": 10,
     "metadata": {},
     "output_type": "execute_result"
    }
   ],
   "source": [
    "metrics_classification = result_classification.metrics_df\n",
    "metrics_classification.append(baseline_classification.metrics_df)"
   ]
  },
  {
   "cell_type": "markdown",
   "metadata": {},
   "source": [
    "#### Error rate (Error)\n",
    "Smaller is better.\n",
    "Error is the error rate, a number between 0 and 1, so\n",
    "\\begin{equation}\n",
    "error = 1-accuracy.\n",
    "\\end{equation}\n",
    "The naive baseline model predicts the majority class for all samples.\n",
    "#### Logistic loss (LogLoss)\n",
    "Smaller is better.\n",
    "The Logistic loss is the cross entropy\n",
    "\\begin{equation}\n",
    "  LogLoss = \\sum_{n=1}^{N}\\sum_{c=1}^{C} -p_{true}(y_n=c) \\cdot log\\left( p_{predicted}(y_n=c) \\right),\n",
    "\\end{equation}\n",
    "where $p_{true}(y_n=c)$ is either 1 for the true class or 0 otherwise and the predicted probabilities add up to 1 for all classes $c \\in C$.\n",
    "The naive baseline model predicts the class proportions as probabilities for all samples."
   ]
  },
  {
   "cell_type": "code",
   "execution_count": 11,
   "metadata": {
    "collapsed": false
   },
   "outputs": [
    {
     "data": {
      "text/plain": [
       "<matplotlib.text.Text at 0x1169d2250>"
      ]
     },
     "execution_count": 11,
     "metadata": {},
     "output_type": "execute_result"
    },
    {
     "data": {
      "image/png": "[encoded data removed]",
      "text/plain": [
       "<matplotlib.figure.Figure at 0x1167d3c90>"
      ]
     },
     "metadata": {},
     "output_type": "display_data"
    }
   ],
   "source": [
    "x = np.arange(0,1,0.001)\n",
    "plt.plot(x,-np.log(x))\n",
    "plt.xlabel('predicted probability')\n",
    "plt.ylabel('LogLoss')"
   ]
  },
  {
   "cell_type": "markdown",
   "metadata": {},
   "source": [
    "## Regression example\n",
    "The first example is a regression example, predicting mean hand strength from sex.\n",
    "\n",
    "### Cross validated (ridge) logistic regression\n",
    "The code will run a ten fold cross validation on the training data.\n",
    "\n",
    "In each of five cross validation loops, the model minimizes the training mean squared error loss given on the training data.\n",
    "\\begin{equation}\n",
    "  \\min_\\beta \\underbrace{\\frac{1}{N}\\sum_{n=1}^{N}(y_n=-X_n\\beta)^2 }_{\n",
    "  \\text{MSE}} +\\underbrace{\\alpha \\|\\beta\\|^2_2}_{\\text{ridge}}\n",
    "\\end{equation}\n",
    "\n",
    "This model has $\\alpha$ as a parameter, which is chosen in an inner 5 fold cross validation loop. Given the best $\\alpha$, the model is re-fitted using the complete training data.\n"
   ]
  },
  {
   "cell_type": "markdown",
   "metadata": {},
   "source": [
    "### Setting up the glue code and evaluating the models\n",
    "We need to provide a function that takes the dataframe in kfolds and extracts the input matrix $X$ as well as the output vector $y$ for the classification problem. Here we also perform a transformation to the original columns, as we predict mean hand strength instead of hand strength alone."
   ]
  },
  {
   "cell_type": "code",
   "execution_count": null,
   "metadata": {
    "collapsed": false
   },
   "outputs": [],
   "source": [
    "#define xy_generator:\n",
    "def get_sex_and_meanhandstrength(pheno_df):\n",
    "    keys_both = ['pheno.face.hand_strength_left_m%i' % i for i in xrange(1,4)]\n",
    "    keys_both += ['pheno.face.hand_strength_right_m%i' % i for i in xrange(1,4)]\n",
    "    sex = np.ones_like(pheno_df['facepheno.Sex'].values,dtype=np.float)\n",
    "    sex[pheno_df['facepheno.Sex'].values=='Female'] = -1.0\n",
    "    sex = pd.DataFrame({'Sex': sex}, index=pheno_df.index)\n",
    "    pheno_df['pheno.face.hand_strength_mean'] = pheno_df[keys_both].mean(1)\n",
    "    return (sex, pheno_df['pheno.face.hand_strength_mean']) "
   ]
  },
  {
   "cell_type": "markdown",
   "metadata": {},
   "source": [
    "As in the classifiaciton case the model is evaluated by creating an instance of EvaluationClassification that uses the xy_generator function and kfolds."
   ]
  },
  {
   "cell_type": "code",
   "execution_count": null,
   "metadata": {
    "collapsed": false
   },
   "outputs": [],
   "source": [
    "result_regression = cross_validation.EvaluationRegression(xy_generator=get_sex_and_meanhandstrength, kfolds=kfolds)"
   ]
  },
  {
   "cell_type": "markdown",
   "metadata": {},
   "source": [
    "#### The naive baseline models\n",
    "\n",
    "The simple baseline models are evaluated by creating an instance of EvaluationRegressionBaseline. Instead of xy_generator, the baseline class takes the column name of the target.\n",
    "\n",
    "Note that we have cheated here, as target was no column in the original dataframe, but has been added in the call of get_sex_and_meanhandstrength above. Currently the baseline does not allow transformations. This will be fixed in a future version, allowing to instead provide an xy_generator to the baseline."
   ]
  },
  {
   "cell_type": "code",
   "execution_count": null,
   "metadata": {
    "collapsed": false
   },
   "outputs": [],
   "source": [
    "baseline_regression = cross_validation.EvaluationRegressionBaseline(target='pheno.face.hand_strength_mean', kfolds=kfolds)"
   ]
  },
  {
   "cell_type": "markdown",
   "metadata": {},
   "source": [
    "### Evaluation metrics for regression\n",
    "The model evaluates various metrics via 10 fold cross validation. We obtain the metrics below by calling the member function .get_metrics()."
   ]
  },
  {
   "cell_type": "code",
   "execution_count": null,
   "metadata": {
    "collapsed": false
   },
   "outputs": [],
   "source": [
    "metrics_regression = result_regression.metrics_df\n",
    "metrics_regression.append(baseline_regression.metrics_df)"
   ]
  },
  {
   "cell_type": "markdown",
   "metadata": {},
   "source": [
    "#### Out of sample $R^2$\n",
    "Larger is better.\n",
    "\\begin{equation}\n",
    "R^2 = 1-\\frac{\\sum_{n=1}^N(y_n^{true}-y_n^{pred})^2}{\\sum_{n=1}^N(y_n^{true}-\\bar{y}^{true})^2}.\n",
    "\\end{equation}\n",
    "Note that for out of sample predictions $R^2$ does not correspond to the squared correlation between predictions and true values. Also the value can easily be negative, either due to overfitting, outliers, or also just because the mean between train and test data is different. The latter generally makes $R^2$ slightly conservative.\n",
    "\n",
    "#### Mean absolute error (MAE)\n",
    "Smaller is better.\n",
    "The MAE is less outlier sensitive than the other losses, but penalizes small deviations more heavily.\n",
    "\\begin{equation}\n",
    "  MAE = \\frac{1}{N}\\sum_{n=1}^{N} |y_n^{true}-y_n^{pred}|,\n",
    "\\end{equation}\n",
    "Note that the median on the test data always outperforms the mean on the test data for MAE.\n",
    "\n",
    "#### Mean squared error (MAE)\n",
    "Smaller is better.\n",
    "\\begin{equation}\n",
    "  MSE = \\frac{1}{N}\\sum_{n=1}^{N} (y_n^{true}-y_n^{pred})^2,\n",
    "\\end{equation}\n",
    "Note that the mean on the test data always outperforms the median on the test data for MAE.\n"
   ]
  },
  {
   "cell_type": "code",
   "execution_count": null,
   "metadata": {
    "collapsed": false
   },
   "outputs": [],
   "source": [
    "x = np.arange(-2.5,2.5,0.001)\n",
    "plt.plot(x,np.absolute(x))\n",
    "plt.plot(x,x**2.0)\n",
    "plt.legend(['MAE','MSE'],4)\n",
    "plt.xlabel('residual')\n",
    "plt.ylabel('error')"
   ]
  },
  {
   "cell_type": "code",
   "execution_count": null,
   "metadata": {
    "collapsed": true
   },
   "outputs": [],
   "source": []
  }
 ],
 "metadata": {
  "kernelspec": {
   "display_name": "Python 2",
   "language": "python",
   "name": "python2"
  },
  "language_info": {
   "codemirror_mode": {
    "name": "ipython",
    "version": 2
   },
   "file_extension": ".py",
   "mimetype": "text/x-python",
   "name": "python",
   "nbconvert_exporter": "python",
   "pygments_lexer": "ipython2",
   "version": "2.7.10"
  }
 },
 "nbformat": 4,
 "nbformat_minor": 0
}
