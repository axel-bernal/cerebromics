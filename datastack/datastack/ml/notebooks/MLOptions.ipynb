{
 "cells": [
  {
   "cell_type": "markdown",
   "metadata": {},
   "source": [
    "# Principle options for regression tools\n",
    "The object of our base regression tools is to provide an easy way to train and test models, automatically including standard covariates and properly handling cross validation issues. In many cases you can set up a regression test with just a few lines of code.\n",
    "\n",
    "There are four main items of documentation for the base regression tools:\n",
    "\n",
    "1. The [tutorial notebook](http://10.6.39.8:8888/notebooks/ML%20-%20baseline%20regression%20and%20classification%20tools.ipynb) works through a series of examples of how these tools work, from a simple three line example to more complex configurations.\n",
    "2. There is a [notebook](http://10.6.39.8:8888/notebooks/Users/Peter/Sample2.ipynb) which uses these tools to generate our production eye color models.\n",
    "3. There is [online API documentation.](http://jarvis.hli.io/~pgarst/datastack/datastack/)\n",
    "4. This notebook provides a brief summary of the principle methods and options as a quick reference for those already familiar with the basic ideas."
   ]
  },
  {
   "cell_type": "code",
   "execution_count": 1,
   "metadata": {
    "collapsed": true
   },
   "outputs": [],
   "source": [
    "import datastack.ml.baseregress as baseregress\n",
    "import datastack.ml.baseclassify as baseclassify"
   ]
  },
  {
   "cell_type": "markdown",
   "metadata": {},
   "source": [
    "We will cover the main methods exposed by the regression class, in the order you usually call them:\n",
    "\n",
    "1. Instantiation\n",
    "2. Adding data\n",
    "3. Running training\n",
    "4. Displaying the results\n",
    "\n",
    "The other documentation discusses other methods and options; the ones discussed here are only the most common."
   ]
  },
  {
   "cell_type": "markdown",
   "metadata": {},
   "source": [
    "## Instantiating the regression object\n",
    "The constructor has one required argument which specifies the targets for the regression. You can use one name, a list of names, or a dictionary mapping short names to full names."
   ]
  },
  {
   "cell_type": "code",
   "execution_count": null,
   "metadata": {
    "collapsed": true
   },
   "outputs": [],
   "source": [
    "base = baseregress.BaseRegress(targets)"
   ]
  },
  {
   "cell_type": "markdown",
   "metadata": {},
   "source": [
    "These are the most important optional parameters:\n",
    "\n",
    "1. nopreproc=False. If you set this to true, it turns off all preprocessing. In particular, if you do this make sure your data has no missing values, because handling those is part of preprocessing.\n",
    "2. use_predicted_baseline_covariates=True. The tool uses age, gender and ethnicity as baseline covariates for predicting your targets. By default the tool uses predicted values for these, but this parameter lets you use actual age (and gender, although that hardly matters) rather than predicted age as a baseline covariate.\n",
    "3. By default the tool uses the current version of Rosetta for the HG38 namespace for any database access it requires, but you can set these to a specific version or namespace using the rversion and namespace parameters."
   ]
  },
  {
   "cell_type": "markdown",
   "metadata": {},
   "source": [
    "## Configuration\n",
    "The regression object has a number of fields which you can set to configure your test. These are the most important:\n",
    "\n",
    "1. covariates is a dictionary which lets you specify covariate sets to try against your target variables. \n",
    "2. estimatorsToRun is a dictionary, also tied to the names of covariate sets, which lets you specify a list of estimators to run instead of the default ridge regression. This also allows you to specify the hyperparameters to search in cross validation."
   ]
  },
  {
   "cell_type": "code",
   "execution_count": null,
   "metadata": {
    "collapsed": true
   },
   "outputs": [],
   "source": [
    "size = ['facepheno.height', 'dynamic.FACE.pheno.v1.bmi']\n",
    "base.covariates['size'] = size\n",
    "\n",
    "params = {'alpha': [ 0.0001, 0.0005, 0.001, 0.005, 0.01, 0.05, 0.1, 0.5, 1, 5, 10]}\n",
    "est1 = {'est' : linear_model.Lasso(), 'params' : params}\n",
    "base.estimatorsToRun['size'] = [est1]"
   ]
  },
  {
   "cell_type": "markdown",
   "metadata": {},
   "source": [
    "## Adding data\n",
    "Use this method to explicitly add data to the object. The tools can pull data out of Rosetta, so you only need to do this when you are using data which is not in Rosetta (for example, calculated values) or when it is more convenient. You can call this method as many times as you want.\n",
    "\n",
    "The column names in the frame you add will generally be names of variables you use as targets or covariates.\n",
    "\n",
    "The data frame you add must have a column ds.index.sample_key or ds.index.sample_name so that it can be merged with other data.\n",
    "\n",
    "This method has no optional parameters."
   ]
  },
  {
   "cell_type": "code",
   "execution_count": null,
   "metadata": {
    "collapsed": true
   },
   "outputs": [],
   "source": [
    "base.addData(dataframe)"
   ]
  },
  {
   "cell_type": "markdown",
   "metadata": {},
   "source": [
    "## Running training\n",
    "When your regression tool is fully configured you can run training. There are no required parameters, but some of the optional ones can significantly speed up this very slow operation.\n",
    "\n",
    "Before you can run, every variable you use as a target or as a covariate must be available, either as a column in Rosetta or as a column in a data frame you added."
   ]
  },
  {
   "cell_type": "code",
   "execution_count": null,
   "metadata": {
    "collapsed": true
   },
   "outputs": [],
   "source": [
    "base.run()"
   ]
  },
  {
   "cell_type": "markdown",
   "metadata": {},
   "source": [
    "There are lots of optional parameters, of which the most important are these:\n",
    "\n",
    "1. with_aggregate_covariates=True. By default the tool runs each covariate set you specify alone and also in combination with the baseline age, gender and ethnicity. If you are uninterested in the combination runs set this to false, or use the run_keys parameter to be even more precise about what you want to see.          \n",
    "2. run_keys=None. This parameter lets you specify a list of exactly the covariate sets you want to see in the output. It can save a lot of time if you are not exploring ethnicity and the other baseline variables.\n",
    "3. with_bootstrap=True. By default to tool does a bootstrap operation to estimate the significance of the results. If you don't want this result, you can save a lot of time by setting this to false.\n",
    "4. kfargs=None. This is an argument to pass into the kfolds generator. By far the most common use is to tell it to use all the data, rather than reserving a holdout set, with the usage kfargs={'n_folds_holdout': 0}.\n",
    "5. fit_params=None. This parameter allows you to pass information into the fit function for the underlying estimators. You may find it useful if you are using custom estimators which require additional information.         "
   ]
  },
  {
   "cell_type": "markdown",
   "metadata": {},
   "source": [
    "## Displaying the results\n",
    "After running training, the regression tool generates a dataframe in which each row is a covariate set and each column some item of information about the resulting model, such as r2 or mae for one of the targets. With no arguments the display method shows this frame, which is usually what you want.\n",
    "\n",
    "See the tutorial for information on how to get cross validation objects and use them to plot observed vs. predicted data."
   ]
  },
  {
   "cell_type": "code",
   "execution_count": null,
   "metadata": {
    "collapsed": true
   },
   "outputs": [],
   "source": [
    "base.display()"
   ]
  },
  {
   "cell_type": "markdown",
   "metadata": {},
   "source": [
    "You can use the optional frame parameter to display a data frame other than the standard results from the run.\n",
    "\n",
    "The fmtdict parameter lets you set the precision for different columns. The following value, passed in as the fmtdict parameter to display, would tell it to use 5 decimal places for each column containing 'MAE'"
   ]
  },
  {
   "cell_type": "code",
   "execution_count": null,
   "metadata": {
    "collapsed": true
   },
   "outputs": [],
   "source": [
    "fmt = {}\n",
    "fmt['MAE'] = 5"
   ]
  },
  {
   "cell_type": "code",
   "execution_count": null,
   "metadata": {
    "collapsed": true
   },
   "outputs": [],
   "source": []
  }
 ],
 "metadata": {
  "kernelspec": {
   "display_name": "Python 2",
   "language": "python",
   "name": "python2"
  },
  "language_info": {
   "codemirror_mode": {
    "name": "ipython",
    "version": 2
   },
   "file_extension": ".py",
   "mimetype": "text/x-python",
   "name": "python",
   "nbconvert_exporter": "python",
   "pygments_lexer": "ipython2",
   "version": "2.7.11"
  }
 },
 "nbformat": 4,
 "nbformat_minor": 0
}
