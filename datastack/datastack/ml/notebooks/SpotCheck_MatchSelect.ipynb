{
 "cells": [
  {
   "cell_type": "code",
   "execution_count": 34,
   "metadata": {
    "collapsed": false
   },
   "outputs": [],
   "source": [
    "import pandas as pd\n",
    "import numpy as np\n",
    "from scipy.spatial.distance import cdist\n",
    "from datastack.ml import bestmatch\n",
    "reload(bestmatch)\n",
    "from datastack.ml import bestmatch as bm\n",
    "from sklearn.linear_model import LogisticRegression\n",
    "import rosetta_settings\n",
    "reload(rosetta_settings)\n",
    "import rosetta_settings as ml_vars"
   ]
  },
  {
   "cell_type": "code",
   "execution_count": 20,
   "metadata": {
    "collapsed": false
   },
   "outputs": [],
   "source": [
    "df_obs = pd.read_table(\"s3://hli-mv-data-science/cmaher/SelectData/paper.generator.real.csv\", sep=\",\", index_col=0)"
   ]
  },
  {
   "cell_type": "code",
   "execution_count": 21,
   "metadata": {
    "collapsed": true
   },
   "outputs": [],
   "source": [
    "df_pred = pd.read_table(\"s3://hli-mv-data-science/cmaher/SelectData/paper.generator.predictions.csv\", sep=\",\", index_col=0)\n",
    "df_pred.columns = [\"%s_p\" % xx for xx in df_pred.columns]"
   ]
  },
  {
   "cell_type": "code",
   "execution_count": 22,
   "metadata": {
    "collapsed": true
   },
   "outputs": [],
   "source": [
    "full_df = pd.concat([df_obs, df_pred], axis=1)"
   ]
  },
  {
   "cell_type": "code",
   "execution_count": 36,
   "metadata": {
    "collapsed": false
   },
   "outputs": [
    {
     "data": {
      "text/plain": [
       "Index([u'pheno.age', u'pheno.age_p'], dtype='object')"
      ]
     },
     "execution_count": 36,
     "metadata": {},
     "output_type": "execute_result"
    }
   ],
   "source": []
  },
  {
   "cell_type": "code",
   "execution_count": 23,
   "metadata": {
    "collapsed": false
   },
   "outputs": [
    {
     "name": "stdout",
     "output_type": "stream",
     "text": [
      "Index([u'dynamic.FACE.ethnicity.region5.v1.afr',\n",
      "       u'dynamic.FACE.ethnicity.region5.v1.amr',\n",
      "       u'dynamic.FACE.ethnicity.region5.v1.csa',\n",
      "       u'dynamic.FACE.ethnicity.region5.v1.eas',\n",
      "       u'dynamic.FACE.ethnicity.region5.v1.eur'],\n",
      "      dtype='object')\n",
      "(792, 250)\n"
     ]
    }
   ],
   "source": [
    "eth_cols =  df_obs.filter(like=\"ethnicity\").columns"
   ]
  },
  {
   "cell_type": "code",
   "execution_count": 25,
   "metadata": {
    "collapsed": false
   },
   "outputs": [],
   "source": [
    "from datastack.dbs.rdb import RosettaDBMongo\n",
    "db = RosettaDBMongo(host='10.6.36.96')\n",
    "db.initialize(namespace='hg38_noEBV', version='1447895375')\n",
    "keys = db.find_keys('(dynamic.FACE.related.v1.value)|(dynamic.FACE.consented.v1.value)|(%s)|(%s)|(%s)' % (ml_vars.SAMPLE_NAME,\n",
    "                                                                                                     ml_vars.PROJECT_KEY,\n",
    "                                                                                                         ml_vars.SAMPLE_KEY), \n",
    "                    regex=True)\n",
    "df = db.query(keys, filters={\"lab.ProjectID\":\"FACE\"})"
   ]
  },
  {
   "cell_type": "code",
   "execution_count": 26,
   "metadata": {
    "collapsed": false
   },
   "outputs": [],
   "source": [
    "fulldf_joined = df.set_index(ml_vars.SAMPLE_KEY).join(full_df)"
   ]
  },
  {
   "cell_type": "code",
   "execution_count": 27,
   "metadata": {
    "collapsed": false
   },
   "outputs": [
    {
     "data": {
      "text/html": [
       "<div>\n",
       "<table border=\"1\" class=\"dataframe\">\n",
       "  <thead>\n",
       "    <tr style=\"text-align: right;\">\n",
       "      <th></th>\n",
       "      <th>ds.index.ProjectID</th>\n",
       "      <th>ds.index.sample_name</th>\n",
       "      <th>dynamic.FACE.consented.v1.value</th>\n",
       "      <th>dynamic.FACE.related.v1.value</th>\n",
       "      <th>pheno.gender</th>\n",
       "      <th>pheno.age</th>\n",
       "      <th>dynamic.FACE.ethnicity.region5.v1.afr</th>\n",
       "      <th>dynamic.FACE.ethnicity.region5.v1.amr</th>\n",
       "      <th>dynamic.FACE.ethnicity.region5.v1.csa</th>\n",
       "      <th>dynamic.FACE.ethnicity.region5.v1.eas</th>\n",
       "      <th>...</th>\n",
       "      <th>dynamic.FACE.2dmouth.v2.visit1.PC.1_p</th>\n",
       "      <th>dynamic.FACE.2dmouth.v2.visit1.PC.2_p</th>\n",
       "      <th>dynamic.FACE.2dmouth.v2.visit1.PC.3_p</th>\n",
       "      <th>dynamic.FACE.2dmouth.v2.visit1.PC.4_p</th>\n",
       "      <th>dynamic.FACE.2dmouth.v2.visit1.PC.5_p</th>\n",
       "      <th>dynamic.FACE.2dface.v1.visit1.PC.1_p</th>\n",
       "      <th>dynamic.FACE.2dface.v1.visit1.PC.2_p</th>\n",
       "      <th>dynamic.FACE.2dface.v1.visit1.PC.3_p</th>\n",
       "      <th>dynamic.FACE.2dface.v1.visit1.PC.4_p</th>\n",
       "      <th>dynamic.FACE.2dface.v1.visit1.PC.5_p</th>\n",
       "    </tr>\n",
       "    <tr>\n",
       "      <th>ds.index.sample_key</th>\n",
       "      <th></th>\n",
       "      <th></th>\n",
       "      <th></th>\n",
       "      <th></th>\n",
       "      <th></th>\n",
       "      <th></th>\n",
       "      <th></th>\n",
       "      <th></th>\n",
       "      <th></th>\n",
       "      <th></th>\n",
       "      <th></th>\n",
       "      <th></th>\n",
       "      <th></th>\n",
       "      <th></th>\n",
       "      <th></th>\n",
       "      <th></th>\n",
       "      <th></th>\n",
       "      <th></th>\n",
       "      <th></th>\n",
       "      <th></th>\n",
       "      <th></th>\n",
       "    </tr>\n",
       "  </thead>\n",
       "  <tbody>\n",
       "    <tr>\n",
       "      <th>88535_187525496</th>\n",
       "      <td>FACE</td>\n",
       "      <td>187525496</td>\n",
       "      <td>False</td>\n",
       "      <td>[]</td>\n",
       "      <td>-1</td>\n",
       "      <td>22</td>\n",
       "      <td>0.547066</td>\n",
       "      <td>0.289240</td>\n",
       "      <td>0.003071</td>\n",
       "      <td>0.089649</td>\n",
       "      <td>...</td>\n",
       "      <td>-409.993425</td>\n",
       "      <td>2233.411207</td>\n",
       "      <td>269.357715</td>\n",
       "      <td>-15.068942</td>\n",
       "      <td>122.059770</td>\n",
       "      <td>2609.820083</td>\n",
       "      <td>26.103015</td>\n",
       "      <td>59.854380</td>\n",
       "      <td>112.719093</td>\n",
       "      <td>-144.109573</td>\n",
       "    </tr>\n",
       "    <tr>\n",
       "      <th>78514_187522203</th>\n",
       "      <td>FACE</td>\n",
       "      <td>187522203</td>\n",
       "      <td>False</td>\n",
       "      <td>[\"187522230\"]</td>\n",
       "      <td>-1</td>\n",
       "      <td>39</td>\n",
       "      <td>0.871085</td>\n",
       "      <td>0.011677</td>\n",
       "      <td>0.000000</td>\n",
       "      <td>0.011047</td>\n",
       "      <td>...</td>\n",
       "      <td>146.889783</td>\n",
       "      <td>1391.260447</td>\n",
       "      <td>346.694088</td>\n",
       "      <td>-26.015962</td>\n",
       "      <td>85.307360</td>\n",
       "      <td>1534.752643</td>\n",
       "      <td>197.399290</td>\n",
       "      <td>41.786995</td>\n",
       "      <td>-418.399679</td>\n",
       "      <td>-37.431558</td>\n",
       "    </tr>\n",
       "    <tr>\n",
       "      <th>85103_176444178</th>\n",
       "      <td>FACE</td>\n",
       "      <td>176444178</td>\n",
       "      <td>False</td>\n",
       "      <td>[]</td>\n",
       "      <td>-1</td>\n",
       "      <td>65</td>\n",
       "      <td>0.651376</td>\n",
       "      <td>0.000000</td>\n",
       "      <td>0.000000</td>\n",
       "      <td>0.000000</td>\n",
       "      <td>...</td>\n",
       "      <td>1444.828620</td>\n",
       "      <td>293.242170</td>\n",
       "      <td>23.077919</td>\n",
       "      <td>-26.717473</td>\n",
       "      <td>-16.956094</td>\n",
       "      <td>-676.027364</td>\n",
       "      <td>888.712420</td>\n",
       "      <td>-18.542032</td>\n",
       "      <td>-542.588987</td>\n",
       "      <td>661.705997</td>\n",
       "    </tr>\n",
       "    <tr>\n",
       "      <th>78503_187522202</th>\n",
       "      <td>FACE</td>\n",
       "      <td>187522202</td>\n",
       "      <td>False</td>\n",
       "      <td>[]</td>\n",
       "      <td>-1</td>\n",
       "      <td>24</td>\n",
       "      <td>0.782863</td>\n",
       "      <td>0.000000</td>\n",
       "      <td>0.000000</td>\n",
       "      <td>0.000000</td>\n",
       "      <td>...</td>\n",
       "      <td>-642.736458</td>\n",
       "      <td>453.274430</td>\n",
       "      <td>278.034529</td>\n",
       "      <td>-16.370351</td>\n",
       "      <td>-13.435942</td>\n",
       "      <td>1368.366766</td>\n",
       "      <td>503.715359</td>\n",
       "      <td>-18.673643</td>\n",
       "      <td>-25.312388</td>\n",
       "      <td>131.235500</td>\n",
       "    </tr>\n",
       "    <tr>\n",
       "      <th>86005_187526055</th>\n",
       "      <td>FACE</td>\n",
       "      <td>187526055</td>\n",
       "      <td>False</td>\n",
       "      <td>[]</td>\n",
       "      <td>-1</td>\n",
       "      <td>33</td>\n",
       "      <td>0.000000</td>\n",
       "      <td>0.000000</td>\n",
       "      <td>0.008389</td>\n",
       "      <td>0.991581</td>\n",
       "      <td>...</td>\n",
       "      <td>1698.392374</td>\n",
       "      <td>733.206241</td>\n",
       "      <td>-475.719456</td>\n",
       "      <td>46.076866</td>\n",
       "      <td>-5.613614</td>\n",
       "      <td>-1661.473136</td>\n",
       "      <td>-578.698922</td>\n",
       "      <td>194.163476</td>\n",
       "      <td>-183.793892</td>\n",
       "      <td>-379.599402</td>\n",
       "    </tr>\n",
       "  </tbody>\n",
       "</table>\n",
       "<p>5 rows × 254 columns</p>\n",
       "</div>"
      ],
      "text/plain": [
       "                    ds.index.ProjectID ds.index.sample_name  \\\n",
       "ds.index.sample_key                                           \n",
       "88535_187525496                   FACE            187525496   \n",
       "78514_187522203                   FACE            187522203   \n",
       "85103_176444178                   FACE            176444178   \n",
       "78503_187522202                   FACE            187522202   \n",
       "86005_187526055                   FACE            187526055   \n",
       "\n",
       "                    dynamic.FACE.consented.v1.value  \\\n",
       "ds.index.sample_key                                   \n",
       "88535_187525496                               False   \n",
       "78514_187522203                               False   \n",
       "85103_176444178                               False   \n",
       "78503_187522202                               False   \n",
       "86005_187526055                               False   \n",
       "\n",
       "                    dynamic.FACE.related.v1.value  pheno.gender  pheno.age  \\\n",
       "ds.index.sample_key                                                          \n",
       "88535_187525496                                []            -1         22   \n",
       "78514_187522203                     [\"187522230\"]            -1         39   \n",
       "85103_176444178                                []            -1         65   \n",
       "78503_187522202                                []            -1         24   \n",
       "86005_187526055                                []            -1         33   \n",
       "\n",
       "                     dynamic.FACE.ethnicity.region5.v1.afr  \\\n",
       "ds.index.sample_key                                          \n",
       "88535_187525496                                   0.547066   \n",
       "78514_187522203                                   0.871085   \n",
       "85103_176444178                                   0.651376   \n",
       "78503_187522202                                   0.782863   \n",
       "86005_187526055                                   0.000000   \n",
       "\n",
       "                     dynamic.FACE.ethnicity.region5.v1.amr  \\\n",
       "ds.index.sample_key                                          \n",
       "88535_187525496                                   0.289240   \n",
       "78514_187522203                                   0.011677   \n",
       "85103_176444178                                   0.000000   \n",
       "78503_187522202                                   0.000000   \n",
       "86005_187526055                                   0.000000   \n",
       "\n",
       "                     dynamic.FACE.ethnicity.region5.v1.csa  \\\n",
       "ds.index.sample_key                                          \n",
       "88535_187525496                                   0.003071   \n",
       "78514_187522203                                   0.000000   \n",
       "85103_176444178                                   0.000000   \n",
       "78503_187522202                                   0.000000   \n",
       "86005_187526055                                   0.008389   \n",
       "\n",
       "                     dynamic.FACE.ethnicity.region5.v1.eas  \\\n",
       "ds.index.sample_key                                          \n",
       "88535_187525496                                   0.089649   \n",
       "78514_187522203                                   0.011047   \n",
       "85103_176444178                                   0.000000   \n",
       "78503_187522202                                   0.000000   \n",
       "86005_187526055                                   0.991581   \n",
       "\n",
       "                                     ...                   \\\n",
       "ds.index.sample_key                  ...                    \n",
       "88535_187525496                      ...                    \n",
       "78514_187522203                      ...                    \n",
       "85103_176444178                      ...                    \n",
       "78503_187522202                      ...                    \n",
       "86005_187526055                      ...                    \n",
       "\n",
       "                     dynamic.FACE.2dmouth.v2.visit1.PC.1_p  \\\n",
       "ds.index.sample_key                                          \n",
       "88535_187525496                                -409.993425   \n",
       "78514_187522203                                 146.889783   \n",
       "85103_176444178                                1444.828620   \n",
       "78503_187522202                                -642.736458   \n",
       "86005_187526055                                1698.392374   \n",
       "\n",
       "                     dynamic.FACE.2dmouth.v2.visit1.PC.2_p  \\\n",
       "ds.index.sample_key                                          \n",
       "88535_187525496                                2233.411207   \n",
       "78514_187522203                                1391.260447   \n",
       "85103_176444178                                 293.242170   \n",
       "78503_187522202                                 453.274430   \n",
       "86005_187526055                                 733.206241   \n",
       "\n",
       "                     dynamic.FACE.2dmouth.v2.visit1.PC.3_p  \\\n",
       "ds.index.sample_key                                          \n",
       "88535_187525496                                 269.357715   \n",
       "78514_187522203                                 346.694088   \n",
       "85103_176444178                                  23.077919   \n",
       "78503_187522202                                 278.034529   \n",
       "86005_187526055                                -475.719456   \n",
       "\n",
       "                     dynamic.FACE.2dmouth.v2.visit1.PC.4_p  \\\n",
       "ds.index.sample_key                                          \n",
       "88535_187525496                                 -15.068942   \n",
       "78514_187522203                                 -26.015962   \n",
       "85103_176444178                                 -26.717473   \n",
       "78503_187522202                                 -16.370351   \n",
       "86005_187526055                                  46.076866   \n",
       "\n",
       "                     dynamic.FACE.2dmouth.v2.visit1.PC.5_p  \\\n",
       "ds.index.sample_key                                          \n",
       "88535_187525496                                 122.059770   \n",
       "78514_187522203                                  85.307360   \n",
       "85103_176444178                                 -16.956094   \n",
       "78503_187522202                                 -13.435942   \n",
       "86005_187526055                                  -5.613614   \n",
       "\n",
       "                     dynamic.FACE.2dface.v1.visit1.PC.1_p  \\\n",
       "ds.index.sample_key                                         \n",
       "88535_187525496                               2609.820083   \n",
       "78514_187522203                               1534.752643   \n",
       "85103_176444178                               -676.027364   \n",
       "78503_187522202                               1368.366766   \n",
       "86005_187526055                              -1661.473136   \n",
       "\n",
       "                     dynamic.FACE.2dface.v1.visit1.PC.2_p  \\\n",
       "ds.index.sample_key                                         \n",
       "88535_187525496                                 26.103015   \n",
       "78514_187522203                                197.399290   \n",
       "85103_176444178                                888.712420   \n",
       "78503_187522202                                503.715359   \n",
       "86005_187526055                               -578.698922   \n",
       "\n",
       "                     dynamic.FACE.2dface.v1.visit1.PC.3_p  \\\n",
       "ds.index.sample_key                                         \n",
       "88535_187525496                                 59.854380   \n",
       "78514_187522203                                 41.786995   \n",
       "85103_176444178                                -18.542032   \n",
       "78503_187522202                                -18.673643   \n",
       "86005_187526055                                194.163476   \n",
       "\n",
       "                     dynamic.FACE.2dface.v1.visit1.PC.4_p  \\\n",
       "ds.index.sample_key                                         \n",
       "88535_187525496                                112.719093   \n",
       "78514_187522203                               -418.399679   \n",
       "85103_176444178                               -542.588987   \n",
       "78503_187522202                                -25.312388   \n",
       "86005_187526055                               -183.793892   \n",
       "\n",
       "                     dynamic.FACE.2dface.v1.visit1.PC.5_p  \n",
       "ds.index.sample_key                                        \n",
       "88535_187525496                               -144.109573  \n",
       "78514_187522203                                -37.431558  \n",
       "85103_176444178                                661.705997  \n",
       "78503_187522202                                131.235500  \n",
       "86005_187526055                               -379.599402  \n",
       "\n",
       "[5 rows x 254 columns]"
      ]
     },
     "execution_count": 27,
     "metadata": {},
     "output_type": "execute_result"
    }
   ],
   "source": [
    "fulldf_joined.dropna().head()"
   ]
  },
  {
   "cell_type": "code",
   "execution_count": 28,
   "metadata": {
    "collapsed": false
   },
   "outputs": [
    {
     "data": {
      "text/plain": [
       "792"
      ]
     },
     "execution_count": 28,
     "metadata": {},
     "output_type": "execute_result"
    }
   ],
   "source": [
    "fulldf_joined.notnull().all(axis=1).sum()"
   ]
  },
  {
   "cell_type": "code",
   "execution_count": 37,
   "metadata": {
    "collapsed": false
   },
   "outputs": [],
   "source": [
    "obs_cols = list(eth_cols) + ['pheno.age']\n",
    "pred_cols = [\"%s_p\" % xx for xx in obs_cols]"
   ]
  },
  {
   "cell_type": "code",
   "execution_count": 38,
   "metadata": {
    "collapsed": false
   },
   "outputs": [
    {
     "name": "stdout",
     "output_type": "stream",
     "text": [
      "Done fetching lineups\n"
     ]
    },
    {
     "data": {
      "text/plain": [
       "match            0.532\n",
       "select           0.480\n",
       "select_unique    0.498\n",
       "match_query      0.560\n",
       "select_query     0.480\n",
       "dtype: float64"
      ]
     },
     "execution_count": 38,
     "metadata": {},
     "output_type": "execute_result"
    }
   ],
   "source": [
    "es = bm.EvalSelect(fulldf_joined.reset_index().copy(), bm.WeightedNearestNeighbor(), from_cols=pred_cols, to_cols=obs_cols)\n",
    "es.fit()\n",
    "es.predict()"
   ]
  },
  {
   "cell_type": "code",
   "execution_count": 39,
   "metadata": {
    "collapsed": false
   },
   "outputs": [
    {
     "name": "stdout",
     "output_type": "stream",
     "text": [
      "Done fetching lineups\n"
     ]
    },
    {
     "data": {
      "text/plain": [
       "match            0.561\n",
       "select           0.472\n",
       "select_unique    0.507\n",
       "match_query      0.570\n",
       "select_query     0.480\n",
       "dtype: float64"
      ]
     },
     "execution_count": 39,
     "metadata": {},
     "output_type": "execute_result"
    }
   ],
   "source": [
    "col_groups = [\"1\"] * len(eth_cols) + [\"2\"]\n",
    "es2 = bm.EvalSelect(fulldf_joined.reset_index().copy(), bm.WeightedNearestNeighbor(), \n",
    "                    from_cols=pred_cols, to_cols=obs_cols,\n",
    "                    col_groups=col_groups\n",
    "                   )\n",
    "es2.fit()\n",
    "es2.predict()"
   ]
  }
 ],
 "metadata": {
  "kernelspec": {
   "display_name": "Python 2",
   "language": "python",
   "name": "python2"
  },
  "language_info": {
   "codemirror_mode": {
    "name": "ipython",
    "version": 2
   },
   "file_extension": ".py",
   "mimetype": "text/x-python",
   "name": "python",
   "nbconvert_exporter": "python",
   "pygments_lexer": "ipython2",
   "version": "2.7.10"
  }
 },
 "nbformat": 4,
 "nbformat_minor": 0
}
