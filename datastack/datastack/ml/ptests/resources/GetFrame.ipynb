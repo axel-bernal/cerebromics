{
 "cells": [
  {
   "cell_type": "markdown",
   "metadata": {},
   "source": [
    "### Get data for test cases"
   ]
  },
  {
   "cell_type": "code",
   "execution_count": 1,
   "metadata": {
    "collapsed": true
   },
   "outputs": [],
   "source": [
    "import datastack.dbs.rdb as rosetta\n",
    "rdb = rosetta.RosettaDBMongo()\n",
    "rdb.initialize(version='1447712506', namespace='hg19')"
   ]
  },
  {
   "cell_type": "code",
   "execution_count": 2,
   "metadata": {
    "collapsed": true
   },
   "outputs": [],
   "source": [
    "klist = ['ds.index.sample_key', \n",
    "         'dynamic.pgarst.eyes_color', \n",
    "         'facepheno.height', \n",
    "         'dynamic.FACE.pheno.v1.bmi', \n",
    "         'facepheno.hand.strength.right.m1', \n",
    "         'facepheno.hand.strength.left.m1', \n",
    "         'dynamic.FACE_P.gender.v1.value', \n",
    "         'dynamic.FACE_P.age.v1.value',\n",
    "         'dynamic.FACE.neyecolor.v1_visit1.b', \n",
    "         'dynamic.FACE.neyecolor.v1_visit1.a', \n",
    "         'dynamic.FACE.neyecolor.v1_visit1.l', \n",
    "         'facepheno.health.status']"
   ]
  },
  {
   "cell_type": "code",
   "execution_count": 3,
   "metadata": {
    "collapsed": false
   },
   "outputs": [
    {
     "name": "stdout",
     "output_type": "stream",
     "text": [
      "7580\n"
     ]
    },
    {
     "data": {
      "text/html": [
       "<div>\n",
       "<table border=\"1\" class=\"dataframe\">\n",
       "  <thead>\n",
       "    <tr style=\"text-align: right;\">\n",
       "      <th></th>\n",
       "      <th>ds.index.sample_key</th>\n",
       "      <th>dynamic.FACE_P.age.v1.value</th>\n",
       "      <th>dynamic.FACE_P.gender.v1.value</th>\n",
       "      <th>dynamic.FACE.neyecolor.v1_visit1.a</th>\n",
       "      <th>dynamic.FACE.neyecolor.v1_visit1.b</th>\n",
       "      <th>dynamic.FACE.neyecolor.v1_visit1.l</th>\n",
       "      <th>dynamic.FACE.pheno.v1.bmi</th>\n",
       "      <th>dynamic.pgarst.eyes_color</th>\n",
       "      <th>facepheno.hand.strength.left.m1</th>\n",
       "      <th>facepheno.hand.strength.right.m1</th>\n",
       "      <th>facepheno.health.status</th>\n",
       "      <th>facepheno.height</th>\n",
       "    </tr>\n",
       "  </thead>\n",
       "  <tbody>\n",
       "    <tr>\n",
       "      <th>564a56ffc37a453053963c55</th>\n",
       "      <td>242115_187524587</td>\n",
       "      <td>NaN</td>\n",
       "      <td>NaN</td>\n",
       "      <td>NaN</td>\n",
       "      <td>NaN</td>\n",
       "      <td>NaN</td>\n",
       "      <td>NaN</td>\n",
       "      <td>NaN</td>\n",
       "      <td>NaN</td>\n",
       "      <td>NaN</td>\n",
       "      <td>NaN</td>\n",
       "      <td>NaN</td>\n",
       "    </tr>\n",
       "    <tr>\n",
       "      <th>564a56ffc37a453053963c43</th>\n",
       "      <td>250379_176501819</td>\n",
       "      <td>NaN</td>\n",
       "      <td>NaN</td>\n",
       "      <td>NaN</td>\n",
       "      <td>NaN</td>\n",
       "      <td>NaN</td>\n",
       "      <td>NaN</td>\n",
       "      <td>NaN</td>\n",
       "      <td>NaN</td>\n",
       "      <td>NaN</td>\n",
       "      <td>NaN</td>\n",
       "      <td>NaN</td>\n",
       "    </tr>\n",
       "    <tr>\n",
       "      <th>564a56ffc37a453053963c58</th>\n",
       "      <td>234196_187528139</td>\n",
       "      <td>NaN</td>\n",
       "      <td>NaN</td>\n",
       "      <td>NaN</td>\n",
       "      <td>NaN</td>\n",
       "      <td>NaN</td>\n",
       "      <td>NaN</td>\n",
       "      <td>NaN</td>\n",
       "      <td>NaN</td>\n",
       "      <td>NaN</td>\n",
       "      <td>NaN</td>\n",
       "      <td>NaN</td>\n",
       "    </tr>\n",
       "    <tr>\n",
       "      <th>564a56ffc37a453053963dbf</th>\n",
       "      <td>186834_187520939</td>\n",
       "      <td>NaN</td>\n",
       "      <td>NaN</td>\n",
       "      <td>NaN</td>\n",
       "      <td>NaN</td>\n",
       "      <td>NaN</td>\n",
       "      <td>NaN</td>\n",
       "      <td>NaN</td>\n",
       "      <td>NaN</td>\n",
       "      <td>NaN</td>\n",
       "      <td>NaN</td>\n",
       "      <td>NaN</td>\n",
       "    </tr>\n",
       "    <tr>\n",
       "      <th>564a5705c37a453053965ba9</th>\n",
       "      <td>39830_187523795</td>\n",
       "      <td>NaN</td>\n",
       "      <td>NaN</td>\n",
       "      <td>NaN</td>\n",
       "      <td>NaN</td>\n",
       "      <td>NaN</td>\n",
       "      <td>NaN</td>\n",
       "      <td>NaN</td>\n",
       "      <td>NaN</td>\n",
       "      <td>NaN</td>\n",
       "      <td>NaN</td>\n",
       "      <td>NaN</td>\n",
       "    </tr>\n",
       "  </tbody>\n",
       "</table>\n",
       "</div>"
      ],
      "text/plain": [
       "                         ds.index.sample_key  dynamic.FACE_P.age.v1.value  \\\n",
       "564a56ffc37a453053963c55    242115_187524587                          NaN   \n",
       "564a56ffc37a453053963c43    250379_176501819                          NaN   \n",
       "564a56ffc37a453053963c58    234196_187528139                          NaN   \n",
       "564a56ffc37a453053963dbf    186834_187520939                          NaN   \n",
       "564a5705c37a453053965ba9     39830_187523795                          NaN   \n",
       "\n",
       "                         dynamic.FACE_P.gender.v1.value  \\\n",
       "564a56ffc37a453053963c55                            NaN   \n",
       "564a56ffc37a453053963c43                            NaN   \n",
       "564a56ffc37a453053963c58                            NaN   \n",
       "564a56ffc37a453053963dbf                            NaN   \n",
       "564a5705c37a453053965ba9                            NaN   \n",
       "\n",
       "                          dynamic.FACE.neyecolor.v1_visit1.a  \\\n",
       "564a56ffc37a453053963c55                                 NaN   \n",
       "564a56ffc37a453053963c43                                 NaN   \n",
       "564a56ffc37a453053963c58                                 NaN   \n",
       "564a56ffc37a453053963dbf                                 NaN   \n",
       "564a5705c37a453053965ba9                                 NaN   \n",
       "\n",
       "                          dynamic.FACE.neyecolor.v1_visit1.b  \\\n",
       "564a56ffc37a453053963c55                                 NaN   \n",
       "564a56ffc37a453053963c43                                 NaN   \n",
       "564a56ffc37a453053963c58                                 NaN   \n",
       "564a56ffc37a453053963dbf                                 NaN   \n",
       "564a5705c37a453053965ba9                                 NaN   \n",
       "\n",
       "                          dynamic.FACE.neyecolor.v1_visit1.l  \\\n",
       "564a56ffc37a453053963c55                                 NaN   \n",
       "564a56ffc37a453053963c43                                 NaN   \n",
       "564a56ffc37a453053963c58                                 NaN   \n",
       "564a56ffc37a453053963dbf                                 NaN   \n",
       "564a5705c37a453053965ba9                                 NaN   \n",
       "\n",
       "                          dynamic.FACE.pheno.v1.bmi dynamic.pgarst.eyes_color  \\\n",
       "564a56ffc37a453053963c55                        NaN                       NaN   \n",
       "564a56ffc37a453053963c43                        NaN                       NaN   \n",
       "564a56ffc37a453053963c58                        NaN                       NaN   \n",
       "564a56ffc37a453053963dbf                        NaN                       NaN   \n",
       "564a5705c37a453053965ba9                        NaN                       NaN   \n",
       "\n",
       "                          facepheno.hand.strength.left.m1  \\\n",
       "564a56ffc37a453053963c55                              NaN   \n",
       "564a56ffc37a453053963c43                              NaN   \n",
       "564a56ffc37a453053963c58                              NaN   \n",
       "564a56ffc37a453053963dbf                              NaN   \n",
       "564a5705c37a453053965ba9                              NaN   \n",
       "\n",
       "                          facepheno.hand.strength.right.m1  \\\n",
       "564a56ffc37a453053963c55                               NaN   \n",
       "564a56ffc37a453053963c43                               NaN   \n",
       "564a56ffc37a453053963c58                               NaN   \n",
       "564a56ffc37a453053963dbf                               NaN   \n",
       "564a5705c37a453053965ba9                               NaN   \n",
       "\n",
       "                         facepheno.health.status  facepheno.height  \n",
       "564a56ffc37a453053963c55                     NaN               NaN  \n",
       "564a56ffc37a453053963c43                     NaN               NaN  \n",
       "564a56ffc37a453053963c58                     NaN               NaN  \n",
       "564a56ffc37a453053963dbf                     NaN               NaN  \n",
       "564a5705c37a453053965ba9                     NaN               NaN  "
      ]
     },
     "execution_count": 3,
     "metadata": {},
     "output_type": "execute_result"
    }
   ],
   "source": [
    "df = rdb.query(klist)\n",
    "print len(df)\n",
    "df.head()"
   ]
  },
  {
   "cell_type": "code",
   "execution_count": 4,
   "metadata": {
    "collapsed": true
   },
   "outputs": [],
   "source": [
    "import numpy as np\n",
    "import pandas as pd"
   ]
  },
  {
   "cell_type": "code",
   "execution_count": 5,
   "metadata": {
    "collapsed": false
   },
   "outputs": [
    {
     "data": {
      "text/plain": [
       "1038"
      ]
     },
     "execution_count": 5,
     "metadata": {},
     "output_type": "execute_result"
    }
   ],
   "source": [
    "df2 = df[pd.notnull(df['dynamic.FACE_P.gender.v1.value'])]\n",
    "len(df2)"
   ]
  },
  {
   "cell_type": "code",
   "execution_count": 6,
   "metadata": {
    "collapsed": true
   },
   "outputs": [],
   "source": [
    "df2.to_csv('framey.csv', index=False)"
   ]
  },
  {
   "cell_type": "code",
   "execution_count": null,
   "metadata": {
    "collapsed": true
   },
   "outputs": [],
   "source": []
  }
 ],
 "metadata": {
  "kernelspec": {
   "display_name": "Python 2",
   "language": "python",
   "name": "python2"
  },
  "language_info": {
   "codemirror_mode": {
    "name": "ipython",
    "version": 2
   },
   "file_extension": ".py",
   "mimetype": "text/x-python",
   "name": "python",
   "nbconvert_exporter": "python",
   "pygments_lexer": "ipython2",
   "version": "2.7.11"
  }
 },
 "nbformat": 4,
 "nbformat_minor": 0
}
