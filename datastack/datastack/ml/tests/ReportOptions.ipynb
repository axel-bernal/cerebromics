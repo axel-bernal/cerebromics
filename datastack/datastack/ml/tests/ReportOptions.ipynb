{
 "cells": [
  {
   "cell_type": "code",
   "execution_count": 1,
   "metadata": {
    "collapsed": false
   },
   "outputs": [
    {
     "data": {
      "text/plain": [
       "<module 'datastack.ml.baseregress' from '/home/pgarst/hli/code/cerebro/datastack/datastack/ml/baseregress.pyc'>"
      ]
     },
     "execution_count": 1,
     "metadata": {},
     "output_type": "execute_result"
    }
   ],
   "source": [
    "import datastack.ml.baseregress as baseregress\n",
    "import pandas as pd\n",
    "reload(baseregress)"
   ]
  },
  {
   "cell_type": "code",
   "execution_count": 2,
   "metadata": {
    "collapsed": false
   },
   "outputs": [
    {
     "data": {
      "text/html": [
       "<h2>Regress right (121 training samples)</h2>"
      ],
      "text/plain": [
       "<IPython.core.display.HTML object>"
      ]
     },
     "metadata": {},
     "output_type": "display_data"
    },
    {
     "data": {
      "text/html": [
       "<style>.dataframe td { text-align: right; }</style><script>var tableToExcel = (function() {\n",
       "  var uri = 'data:application/vnd.ms-excel;base64,'\n",
       "    , template = '<html xmlns:o=\"urn:schemas-microsoft-com:office:office\" xmlns:x=\"urn:schemas-microsoft-com:office:excel\" xmlns=\"http://www.w3.org/TR/REC-html40\"><head><!--[if gte mso 9]><xml><x:ExcelWorkbook><x:ExcelWorksheets><x:ExcelWorksheet><x:Name>{worksheet}</x:Name><x:WorksheetOptions><x:DisplayGridlines/></x:WorksheetOptions></x:ExcelWorksheet></x:ExcelWorksheets></x:ExcelWorkbook></xml><![endif]--></head><body><table>{table}</table></body></html>'\n",
       "    , base64 = function(s) { return window.btoa(unescape(encodeURIComponent(s))) }\n",
       "    , format = function(s, c) { return s.replace(/{(\\w+)}/g, function(m, p) { return c[p]; }) }\n",
       "  return function(table, name) {\n",
       "    if (!table.nodeType) table = document.getElementById(table)\n",
       "    var ctx = {worksheet: name || 'Worksheet', table: table.innerHTML}\n",
       "    window.location.href = uri + base64(format(template, ctx))\n",
       "  }\n",
       "})()</script>\n",
       "<input type=\"button\" onclick=\"tableToExcel('44867', '<h2>Regress right (121 training samples)</h2>')\" value=\"Export to Excel\">\n",
       "<table id=\"44867\" border=\"1\" class=\"dataframe\">\n",
       "  <thead>\n",
       "    <tr style=\"text-align: right;\">\n",
       "      <th>Model</th>\n",
       "      <th>Covariates</th>\n",
       "      <th>R2</th>\n",
       "      <th>MAE</th>\n",
       "      <th>MSE</th>\n",
       "      <th>Samples</th>\n",
       "    </tr>\n",
       "  </thead>\n",
       "  <tbody>\n",
       "    <tr>\n",
       "      <td>Mean</td>\n",
       "      <td></td>\n",
       "      <td>0.000</td>\n",
       "      <td>9.205</td>\n",
       "      <td>123.043</td>\n",
       "      <td>121.000</td>\n",
       "    </tr>\n",
       "    <tr>\n",
       "      <td>Median</td>\n",
       "      <td></td>\n",
       "      <td>-0.033</td>\n",
       "      <td>9.087</td>\n",
       "      <td>127.126</td>\n",
       "      <td>121.000</td>\n",
       "    </tr>\n",
       "    <tr>\n",
       "      <td>Ridge</td>\n",
       "      <td>Age</td>\n",
       "      <td>-0.002</td>\n",
       "      <td>9.167</td>\n",
       "      <td>123.251</td>\n",
       "      <td>121.000</td>\n",
       "    </tr>\n",
       "    <tr>\n",
       "      <td>Ridge</td>\n",
       "      <td>Gender</td>\n",
       "      <td>0.263</td>\n",
       "      <td>7.627</td>\n",
       "      <td>90.707</td>\n",
       "      <td>121.000</td>\n",
       "    </tr>\n",
       "    <tr>\n",
       "      <td>Ridge</td>\n",
       "      <td>Ethnicity</td>\n",
       "      <td>0.002</td>\n",
       "      <td>8.989</td>\n",
       "      <td>122.791</td>\n",
       "      <td>121.000</td>\n",
       "    </tr>\n",
       "    <tr>\n",
       "      <td>Ridge</td>\n",
       "      <td>AGE</td>\n",
       "      <td>0.263</td>\n",
       "      <td>7.429</td>\n",
       "      <td>90.666</td>\n",
       "      <td>121.000</td>\n",
       "    </tr>\n",
       "    <tr>\n",
       "      <td>Ridge</td>\n",
       "      <td>AGE + size</td>\n",
       "      <td><b>0.377</b></td>\n",
       "      <td><b>6.622</b></td>\n",
       "      <td><b>76.713</b></td>\n",
       "      <td>121.000</td>\n",
       "    </tr>\n",
       "    <tr>\n",
       "      <td>Ridge</td>\n",
       "      <td>size</td>\n",
       "      <td>0.294</td>\n",
       "      <td>7.248</td>\n",
       "      <td>86.858</td>\n",
       "      <td>121.000</td>\n",
       "    </tr>\n",
       "  </tbody>\n",
       "</table>"
      ],
      "text/plain": [
       "<IPython.core.display.HTML object>"
      ]
     },
     "metadata": {},
     "output_type": "display_data"
    }
   ],
   "source": [
    "targ = {'right': 'facepheno.hand.strength.right.m1'}\n",
    "size = ['facepheno.height', 'dynamic.FACE.pheno.v1.bmi']\n",
    "df = pd.read_csv('test2.csv')\n",
    "base = baseregress.BaseRegress(targ)\n",
    "base.covariates['size'] = size\n",
    "base.addData(df)\n",
    "base.run()\n",
    "base.display()"
   ]
  },
  {
   "cell_type": "code",
   "execution_count": 3,
   "metadata": {
    "collapsed": false
   },
   "outputs": [
    {
     "data": {
      "text/plain": [
       "121"
      ]
     },
     "execution_count": 3,
     "metadata": {},
     "output_type": "execute_result"
    }
   ],
   "source": [
    "est = base.get_estimators('size', 'right')\n",
    "est.hli_nsamples"
   ]
  },
  {
   "cell_type": "code",
   "execution_count": 3,
   "metadata": {
    "collapsed": false
   },
   "outputs": [
    {
     "data": {
      "text/html": [
       "<h2>Regress right (806 training samples)</h2>"
      ],
      "text/plain": [
       "<IPython.core.display.HTML object>"
      ]
     },
     "metadata": {},
     "output_type": "display_data"
    },
    {
     "data": {
      "text/html": [
       "<style>.dataframe td { text-align: right; }</style><script>var tableToExcel = (function() {\n",
       "  var uri = 'data:application/vnd.ms-excel;base64,'\n",
       "    , template = '<html xmlns:o=\"urn:schemas-microsoft-com:office:office\" xmlns:x=\"urn:schemas-microsoft-com:office:excel\" xmlns=\"http://www.w3.org/TR/REC-html40\"><head><!--[if gte mso 9]><xml><x:ExcelWorkbook><x:ExcelWorksheets><x:ExcelWorksheet><x:Name>{worksheet}</x:Name><x:WorksheetOptions><x:DisplayGridlines/></x:WorksheetOptions></x:ExcelWorksheet></x:ExcelWorksheets></x:ExcelWorkbook></xml><![endif]--></head><body><table>{table}</table></body></html>'\n",
       "    , base64 = function(s) { return window.btoa(unescape(encodeURIComponent(s))) }\n",
       "    , format = function(s, c) { return s.replace(/{(\\w+)}/g, function(m, p) { return c[p]; }) }\n",
       "  return function(table, name) {\n",
       "    if (!table.nodeType) table = document.getElementById(table)\n",
       "    var ctx = {worksheet: name || 'Worksheet', table: table.innerHTML}\n",
       "    window.location.href = uri + base64(format(template, ctx))\n",
       "  }\n",
       "})()</script>\n",
       "<input type=\"button\" onclick=\"tableToExcel('60238', '<h2>Regress right (806 training samples)</h2>')\" value=\"Export to Excel\">\n",
       "<table id=\"60238\" border=\"1\" class=\"dataframe\">\n",
       "  <thead>\n",
       "    <tr style=\"text-align: right;\">\n",
       "      <th>Model</th>\n",
       "      <th>Covariates</th>\n",
       "      <th>R2</th>\n",
       "      <th>MAE</th>\n",
       "      <th>MSE</th>\n",
       "      <th>Samples</th>\n",
       "    </tr>\n",
       "  </thead>\n",
       "  <tbody>\n",
       "    <tr>\n",
       "      <td>Mean</td>\n",
       "      <td></td>\n",
       "      <td>0.000</td>\n",
       "      <td>8.823</td>\n",
       "      <td>122.679</td>\n",
       "      <td>806.000</td>\n",
       "    </tr>\n",
       "    <tr>\n",
       "      <td>Median</td>\n",
       "      <td></td>\n",
       "      <td>-0.026</td>\n",
       "      <td>8.685</td>\n",
       "      <td>125.922</td>\n",
       "      <td>806.000</td>\n",
       "    </tr>\n",
       "    <tr>\n",
       "      <td>Ridge</td>\n",
       "      <td>Age</td>\n",
       "      <td>0.038</td>\n",
       "      <td>8.618</td>\n",
       "      <td>118.010</td>\n",
       "      <td>806.000</td>\n",
       "    </tr>\n",
       "    <tr>\n",
       "      <td>Ridge</td>\n",
       "      <td>Gender</td>\n",
       "      <td>0.424</td>\n",
       "      <td>6.493</td>\n",
       "      <td>70.605</td>\n",
       "      <td>806.000</td>\n",
       "    </tr>\n",
       "    <tr>\n",
       "      <td>Ridge</td>\n",
       "      <td>Ethnicity</td>\n",
       "      <td>0.018</td>\n",
       "      <td>8.688</td>\n",
       "      <td>120.529</td>\n",
       "      <td>806.000</td>\n",
       "    </tr>\n",
       "    <tr>\n",
       "      <td>Ridge</td>\n",
       "      <td>AGE</td>\n",
       "      <td>0.440</td>\n",
       "      <td>6.377</td>\n",
       "      <td>68.717</td>\n",
       "      <td>806.000</td>\n",
       "    </tr>\n",
       "    <tr>\n",
       "      <td>Ridge</td>\n",
       "      <td>Age-R</td>\n",
       "      <td>0.054</td>\n",
       "      <td>8.623</td>\n",
       "      <td>116.111</td>\n",
       "      <td>806.000</td>\n",
       "    </tr>\n",
       "    <tr>\n",
       "      <td>Ridge</td>\n",
       "      <td>Gender-R</td>\n",
       "      <td>0.413</td>\n",
       "      <td>6.552</td>\n",
       "      <td>72.036</td>\n",
       "      <td>806.000</td>\n",
       "    </tr>\n",
       "    <tr>\n",
       "      <td>Ridge</td>\n",
       "      <td>AGE-R</td>\n",
       "      <td>0.441</td>\n",
       "      <td>6.353</td>\n",
       "      <td>68.588</td>\n",
       "      <td>806.000</td>\n",
       "    </tr>\n",
       "    <tr>\n",
       "      <td>Ridge</td>\n",
       "      <td>AGE + size</td>\n",
       "      <td>0.509</td>\n",
       "      <td><b>5.958</b></td>\n",
       "      <td>60.257</td>\n",
       "      <td>806.000</td>\n",
       "    </tr>\n",
       "    <tr>\n",
       "      <td>Ridge</td>\n",
       "      <td>AGE-R + size</td>\n",
       "      <td><b>0.509</b></td>\n",
       "      <td>5.977</td>\n",
       "      <td><b>60.222</b></td>\n",
       "      <td>806.000</td>\n",
       "    </tr>\n",
       "    <tr>\n",
       "      <td>Ridge</td>\n",
       "      <td>size</td>\n",
       "      <td>0.396</td>\n",
       "      <td>6.659</td>\n",
       "      <td>74.078</td>\n",
       "      <td>806.000</td>\n",
       "    </tr>\n",
       "  </tbody>\n",
       "</table>"
      ],
      "text/plain": [
       "<IPython.core.display.HTML object>"
      ]
     },
     "metadata": {},
     "output_type": "display_data"
    }
   ],
   "source": [
    "targ = {'right': 'facepheno.hand.strength.right.m1'}\n",
    "base2 = baseregress.BaseRegress(targ, use_predicted_baseline_covariates=baseregress.BL_BOTH)\n",
    "base2.covariates['size'] = size\n",
    "base2.addData(df)\n",
    "base2.run()\n",
    "base2.display()"
   ]
  },
  {
   "cell_type": "code",
   "execution_count": 4,
   "metadata": {
    "collapsed": false
   },
   "outputs": [
    {
     "data": {
      "text/html": [
       "<h2>Regress right (806 training samples)</h2>"
      ],
      "text/plain": [
       "<IPython.core.display.HTML object>"
      ]
     },
     "metadata": {},
     "output_type": "display_data"
    },
    {
     "data": {
      "text/html": [
       "<style>.dataframe td { text-align: right; }</style><script>var tableToExcel = (function() {\n",
       "  var uri = 'data:application/vnd.ms-excel;base64,'\n",
       "    , template = '<html xmlns:o=\"urn:schemas-microsoft-com:office:office\" xmlns:x=\"urn:schemas-microsoft-com:office:excel\" xmlns=\"http://www.w3.org/TR/REC-html40\"><head><!--[if gte mso 9]><xml><x:ExcelWorkbook><x:ExcelWorksheets><x:ExcelWorksheet><x:Name>{worksheet}</x:Name><x:WorksheetOptions><x:DisplayGridlines/></x:WorksheetOptions></x:ExcelWorksheet></x:ExcelWorksheets></x:ExcelWorkbook></xml><![endif]--></head><body><table>{table}</table></body></html>'\n",
       "    , base64 = function(s) { return window.btoa(unescape(encodeURIComponent(s))) }\n",
       "    , format = function(s, c) { return s.replace(/{(\\w+)}/g, function(m, p) { return c[p]; }) }\n",
       "  return function(table, name) {\n",
       "    if (!table.nodeType) table = document.getElementById(table)\n",
       "    var ctx = {worksheet: name || 'Worksheet', table: table.innerHTML}\n",
       "    window.location.href = uri + base64(format(template, ctx))\n",
       "  }\n",
       "})()</script>\n",
       "<input type=\"button\" onclick=\"tableToExcel('57353', '<h2>Regress right (806 training samples)</h2>')\" value=\"Export to Excel\">\n",
       "<table id=\"57353\" border=\"1\" class=\"dataframe\">\n",
       "  <thead>\n",
       "    <tr style=\"text-align: right;\">\n",
       "      <th>Model</th>\n",
       "      <th>Covariates</th>\n",
       "      <th>R2</th>\n",
       "      <th>MAE</th>\n",
       "      <th>MSE</th>\n",
       "      <th>Samples</th>\n",
       "    </tr>\n",
       "  </thead>\n",
       "  <tbody>\n",
       "    <tr>\n",
       "      <td>Mean</td>\n",
       "      <td></td>\n",
       "      <td>0.000</td>\n",
       "      <td>8.823</td>\n",
       "      <td>122.679</td>\n",
       "      <td>806.000</td>\n",
       "    </tr>\n",
       "    <tr>\n",
       "      <td>Median</td>\n",
       "      <td></td>\n",
       "      <td>-0.026</td>\n",
       "      <td>8.685</td>\n",
       "      <td>125.922</td>\n",
       "      <td>806.000</td>\n",
       "    </tr>\n",
       "    <tr>\n",
       "      <td>Ridge</td>\n",
       "      <td>Ethnicity</td>\n",
       "      <td>0.018</td>\n",
       "      <td>8.688</td>\n",
       "      <td>120.529</td>\n",
       "      <td>806.000</td>\n",
       "    </tr>\n",
       "    <tr>\n",
       "      <td>Ridge</td>\n",
       "      <td>Age-R</td>\n",
       "      <td>0.054</td>\n",
       "      <td>8.623</td>\n",
       "      <td>116.111</td>\n",
       "      <td>806.000</td>\n",
       "    </tr>\n",
       "    <tr>\n",
       "      <td>Ridge</td>\n",
       "      <td>Gender-R</td>\n",
       "      <td>0.413</td>\n",
       "      <td>6.552</td>\n",
       "      <td>72.036</td>\n",
       "      <td>806.000</td>\n",
       "    </tr>\n",
       "    <tr>\n",
       "      <td>Ridge</td>\n",
       "      <td>AGE-R</td>\n",
       "      <td>0.441</td>\n",
       "      <td>6.353</td>\n",
       "      <td>68.588</td>\n",
       "      <td>806.000</td>\n",
       "    </tr>\n",
       "    <tr>\n",
       "      <td>Ridge</td>\n",
       "      <td>AGE-R + size</td>\n",
       "      <td><b>0.509</b></td>\n",
       "      <td><b>5.977</b></td>\n",
       "      <td><b>60.222</b></td>\n",
       "      <td>806.000</td>\n",
       "    </tr>\n",
       "    <tr>\n",
       "      <td>Ridge</td>\n",
       "      <td>size</td>\n",
       "      <td>0.396</td>\n",
       "      <td>6.659</td>\n",
       "      <td>74.078</td>\n",
       "      <td>806.000</td>\n",
       "    </tr>\n",
       "  </tbody>\n",
       "</table>"
      ],
      "text/plain": [
       "<IPython.core.display.HTML object>"
      ]
     },
     "metadata": {},
     "output_type": "display_data"
    }
   ],
   "source": [
    "targ = {'right': 'facepheno.hand.strength.right.m1'}\n",
    "base3 = baseregress.BaseRegress(targ, use_predicted_baseline_covariates=baseregress.BL_REPORTED)\n",
    "base3.covariates['size'] = size\n",
    "base3.addData(df)\n",
    "base3.run()\n",
    "base3.display()"
   ]
  },
  {
   "cell_type": "code",
   "execution_count": 5,
   "metadata": {
    "collapsed": false
   },
   "outputs": [
    {
     "data": {
      "text/html": [
       "<h2>Regress right (806 training samples)</h2>"
      ],
      "text/plain": [
       "<IPython.core.display.HTML object>"
      ]
     },
     "metadata": {},
     "output_type": "display_data"
    },
    {
     "data": {
      "text/html": [
       "<style>.dataframe td { text-align: right; }</style><script>var tableToExcel = (function() {\n",
       "  var uri = 'data:application/vnd.ms-excel;base64,'\n",
       "    , template = '<html xmlns:o=\"urn:schemas-microsoft-com:office:office\" xmlns:x=\"urn:schemas-microsoft-com:office:excel\" xmlns=\"http://www.w3.org/TR/REC-html40\"><head><!--[if gte mso 9]><xml><x:ExcelWorkbook><x:ExcelWorksheets><x:ExcelWorksheet><x:Name>{worksheet}</x:Name><x:WorksheetOptions><x:DisplayGridlines/></x:WorksheetOptions></x:ExcelWorksheet></x:ExcelWorksheets></x:ExcelWorkbook></xml><![endif]--></head><body><table>{table}</table></body></html>'\n",
       "    , base64 = function(s) { return window.btoa(unescape(encodeURIComponent(s))) }\n",
       "    , format = function(s, c) { return s.replace(/{(\\w+)}/g, function(m, p) { return c[p]; }) }\n",
       "  return function(table, name) {\n",
       "    if (!table.nodeType) table = document.getElementById(table)\n",
       "    var ctx = {worksheet: name || 'Worksheet', table: table.innerHTML}\n",
       "    window.location.href = uri + base64(format(template, ctx))\n",
       "  }\n",
       "})()</script>\n",
       "<input type=\"button\" onclick=\"tableToExcel('41192', '<h2>Regress right (806 training samples)</h2>')\" value=\"Export to Excel\">\n",
       "<table id=\"41192\" border=\"1\" class=\"dataframe\">\n",
       "  <thead>\n",
       "    <tr style=\"text-align: right;\">\n",
       "      <th>Model</th>\n",
       "      <th>Covariates</th>\n",
       "      <th>R2</th>\n",
       "      <th>MAE</th>\n",
       "      <th>MSE</th>\n",
       "      <th>Samples</th>\n",
       "    </tr>\n",
       "  </thead>\n",
       "  <tbody>\n",
       "    <tr>\n",
       "      <td>Mean</td>\n",
       "      <td></td>\n",
       "      <td>0.000</td>\n",
       "      <td>8.823</td>\n",
       "      <td>122.679</td>\n",
       "      <td>806.000</td>\n",
       "    </tr>\n",
       "    <tr>\n",
       "      <td>Median</td>\n",
       "      <td></td>\n",
       "      <td>-0.026</td>\n",
       "      <td>8.685</td>\n",
       "      <td>125.922</td>\n",
       "      <td>806.000</td>\n",
       "    </tr>\n",
       "    <tr>\n",
       "      <td>Ridge</td>\n",
       "      <td>size</td>\n",
       "      <td><b>0.396</b></td>\n",
       "      <td><b>6.659</b></td>\n",
       "      <td><b>74.078</b></td>\n",
       "      <td>806.000</td>\n",
       "    </tr>\n",
       "  </tbody>\n",
       "</table>"
      ],
      "text/plain": [
       "<IPython.core.display.HTML object>"
      ]
     },
     "metadata": {},
     "output_type": "display_data"
    }
   ],
   "source": [
    "targ = {'right': 'facepheno.hand.strength.right.m1'}\n",
    "base4 = baseregress.BaseRegress(targ, use_predicted_baseline_covariates=baseregress.BL_NEITHER)\n",
    "base4.covariates['size'] = size\n",
    "base4.addData(df)\n",
    "base4.run()\n",
    "base4.display()"
   ]
  },
  {
   "cell_type": "code",
   "execution_count": null,
   "metadata": {
    "collapsed": true
   },
   "outputs": [],
   "source": []
  }
 ],
 "metadata": {
  "kernelspec": {
   "display_name": "Python 2",
   "language": "python",
   "name": "python2"
  },
  "language_info": {
   "codemirror_mode": {
    "name": "ipython",
    "version": 2
   },
   "file_extension": ".py",
   "mimetype": "text/x-python",
   "name": "python",
   "nbconvert_exporter": "python",
   "pygments_lexer": "ipython2",
   "version": "2.7.11"
  }
 },
 "nbformat": 4,
 "nbformat_minor": 0
}
